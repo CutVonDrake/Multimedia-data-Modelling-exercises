{
 "cells": [
  {
   "cell_type": "code",
   "execution_count": 38,
   "id": "9d6dd43c-3bcc-4a73-88fa-af7aaeb41f7d",
   "metadata": {},
   "outputs": [
    {
     "name": "stdin",
     "output_type": "stream",
     "text": [
      "I'm mini Eliza, a very light version of Eliza psychotherapist. Ask me what you want or digit 'exit' to stop.\n",
      ">  I'm depressed\n",
      "Do you think coming here will help you not to be depressed\n",
      ">  I'm depressed\n"
     ]
    },
    {
     "ename": "KeyboardInterrupt",
     "evalue": "Interrupted by user",
     "output_type": "error",
     "traceback": [
      "\u001b[1;31m---------------------------------------------------------------------------\u001b[0m",
      "\u001b[1;31mKeyboardInterrupt\u001b[0m                         Traceback (most recent call last)",
      "Cell \u001b[1;32mIn[38], line 66\u001b[0m\n\u001b[0;32m     60\u001b[0m         \u001b[38;5;28;01mpass\u001b[39;00m\n\u001b[0;32m     61\u001b[0m     \u001b[38;5;66;03m# ELIZA4: I AM SORRY TO HEAR YOU ARE DEPRESSED\u001b[39;00m\n\u001b[0;32m     62\u001b[0m \n\u001b[0;32m     63\u001b[0m     \u001b[38;5;66;03m# comment the following line\u001b[39;00m\n\u001b[0;32m     64\u001b[0m     \u001b[38;5;66;03m#line = f\"You said: {line}\"\u001b[39;00m\n\u001b[1;32m---> 66\u001b[0m     line \u001b[38;5;241m=\u001b[39m \u001b[38;5;28;43minput\u001b[39;49m\u001b[43m(\u001b[49m\u001b[43mline\u001b[49m\u001b[43m \u001b[49m\u001b[38;5;241;43m+\u001b[39;49m\u001b[43m \u001b[49m\u001b[38;5;124;43m\"\u001b[39;49m\u001b[38;5;130;43;01m\\n\u001b[39;49;00m\u001b[38;5;124;43m> \u001b[39;49m\u001b[38;5;124;43m\"\u001b[39;49m\u001b[43m)\u001b[49m\n\u001b[0;32m     68\u001b[0m \u001b[38;5;28mprint\u001b[39m(\u001b[38;5;124m'\u001b[39m\u001b[38;5;124mThank you for chatting with me. See you.\u001b[39m\u001b[38;5;124m'\u001b[39m)\n",
      "File \u001b[1;32m~\\AppData\\Local\\Programs\\Python\\Python312\\Lib\\site-packages\\ipykernel\\kernelbase.py:1202\u001b[0m, in \u001b[0;36mKernel.raw_input\u001b[1;34m(self, prompt)\u001b[0m\n\u001b[0;32m   1200\u001b[0m     msg \u001b[38;5;241m=\u001b[39m \u001b[38;5;124m\"\u001b[39m\u001b[38;5;124mraw_input was called, but this frontend does not support input requests.\u001b[39m\u001b[38;5;124m\"\u001b[39m\n\u001b[0;32m   1201\u001b[0m     \u001b[38;5;28;01mraise\u001b[39;00m StdinNotImplementedError(msg)\n\u001b[1;32m-> 1202\u001b[0m \u001b[38;5;28;01mreturn\u001b[39;00m \u001b[38;5;28;43mself\u001b[39;49m\u001b[38;5;241;43m.\u001b[39;49m\u001b[43m_input_request\u001b[49m\u001b[43m(\u001b[49m\n\u001b[0;32m   1203\u001b[0m \u001b[43m    \u001b[49m\u001b[38;5;28;43mstr\u001b[39;49m\u001b[43m(\u001b[49m\u001b[43mprompt\u001b[49m\u001b[43m)\u001b[49m\u001b[43m,\u001b[49m\n\u001b[0;32m   1204\u001b[0m \u001b[43m    \u001b[49m\u001b[38;5;28;43mself\u001b[39;49m\u001b[38;5;241;43m.\u001b[39;49m\u001b[43m_parent_ident\u001b[49m\u001b[43m[\u001b[49m\u001b[38;5;124;43m\"\u001b[39;49m\u001b[38;5;124;43mshell\u001b[39;49m\u001b[38;5;124;43m\"\u001b[39;49m\u001b[43m]\u001b[49m\u001b[43m,\u001b[49m\n\u001b[0;32m   1205\u001b[0m \u001b[43m    \u001b[49m\u001b[38;5;28;43mself\u001b[39;49m\u001b[38;5;241;43m.\u001b[39;49m\u001b[43mget_parent\u001b[49m\u001b[43m(\u001b[49m\u001b[38;5;124;43m\"\u001b[39;49m\u001b[38;5;124;43mshell\u001b[39;49m\u001b[38;5;124;43m\"\u001b[39;49m\u001b[43m)\u001b[49m\u001b[43m,\u001b[49m\n\u001b[0;32m   1206\u001b[0m \u001b[43m    \u001b[49m\u001b[43mpassword\u001b[49m\u001b[38;5;241;43m=\u001b[39;49m\u001b[38;5;28;43;01mFalse\u001b[39;49;00m\u001b[43m,\u001b[49m\n\u001b[0;32m   1207\u001b[0m \u001b[43m\u001b[49m\u001b[43m)\u001b[49m\n",
      "File \u001b[1;32m~\\AppData\\Local\\Programs\\Python\\Python312\\Lib\\site-packages\\ipykernel\\kernelbase.py:1245\u001b[0m, in \u001b[0;36mKernel._input_request\u001b[1;34m(self, prompt, ident, parent, password)\u001b[0m\n\u001b[0;32m   1242\u001b[0m \u001b[38;5;28;01mexcept\u001b[39;00m \u001b[38;5;167;01mKeyboardInterrupt\u001b[39;00m:\n\u001b[0;32m   1243\u001b[0m     \u001b[38;5;66;03m# re-raise KeyboardInterrupt, to truncate traceback\u001b[39;00m\n\u001b[0;32m   1244\u001b[0m     msg \u001b[38;5;241m=\u001b[39m \u001b[38;5;124m\"\u001b[39m\u001b[38;5;124mInterrupted by user\u001b[39m\u001b[38;5;124m\"\u001b[39m\n\u001b[1;32m-> 1245\u001b[0m     \u001b[38;5;28;01mraise\u001b[39;00m \u001b[38;5;167;01mKeyboardInterrupt\u001b[39;00m(msg) \u001b[38;5;28;01mfrom\u001b[39;00m \u001b[38;5;28;01mNone\u001b[39;00m\n\u001b[0;32m   1246\u001b[0m \u001b[38;5;28;01mexcept\u001b[39;00m \u001b[38;5;167;01mException\u001b[39;00m:\n\u001b[0;32m   1247\u001b[0m     \u001b[38;5;28mself\u001b[39m\u001b[38;5;241m.\u001b[39mlog\u001b[38;5;241m.\u001b[39mwarning(\u001b[38;5;124m\"\u001b[39m\u001b[38;5;124mInvalid Message:\u001b[39m\u001b[38;5;124m\"\u001b[39m, exc_info\u001b[38;5;241m=\u001b[39m\u001b[38;5;28;01mTrue\u001b[39;00m)\n",
      "\u001b[1;31mKeyboardInterrupt\u001b[0m: Interrupted by user"
     ]
    }
   ],
   "source": [
    "#!/usr/bin/env python3\n",
    "\n",
    "__author__ = \"Misael Mongiovi'\"\n",
    "\n",
    "import re\n",
    "\n",
    "if __name__ == '__main__':\n",
    "    line = input(\"I'm mini Eliza, a very light version of Eliza psychotherapist. Ask me what you want or digit 'exit' \"\n",
    "                 \"to stop.\\n> \")\n",
    "    a=True\n",
    "    while True:\n",
    "        if line.strip().lower() == 'exit':\n",
    "            break\n",
    "        \n",
    "\n",
    "        # User: I am unhappy.\n",
    "        # ELIZA: DO YOU THINK COMING HERE WILL HELP YOU NOT TO BE UNHAPPY\n",
    "        newline = re.sub(r\"^.*I(?: a|')m (unhappy|sad|depressed|feeling bad).*$\",r\"Do you think coming here will help you not to be \\1\",line)\n",
    "        if newline != line and a==True:\n",
    "            #newline= \"\"\n",
    "            line = newline\n",
    "            a=False\n",
    "            pass\n",
    "\n",
    "        #User: I need some help, that much seems certain.\n",
    "\n",
    "        newline = re.sub(r\"^.*need.* (help|aid|assist|support).*$\",r\"please tell me how i can \\1 you.\",line)\n",
    "        # ELIZA: WHAT WOULD IT MEAN TO YOU IF YOU GOT SOME HELP\n",
    "        # User: Perhaps I could learn to get along with my mother.\n",
    "        \n",
    "\n",
    "        newline = re.sub(r\"^.*care.*$\",r\"who else in your family takes care of you.\",line)\n",
    "\n",
    "        newline = re.sub(r\"^.*(mother|father|parents?|relatives?).*$\",r\"please tell me more about your family.\",line)\n",
    "        # ELIZA: TELL ME MORE ABOUT YOUR FAMILY\n",
    "        # User: My mother takes care of me.\n",
    "\n",
    "        newline = re.sub(r\"^.*care.*$\",r\"who else in your family takes care of you.\",line)\n",
    "        # ELIZA: WHO ELSE IN YOU FAMILY TAKES CARE OF YOU\n",
    "        # User: My father.\n",
    "        newline = re.sub(r\"^.*my (father|sister|brother).*$\",r\"your \\1.\",line)\n",
    "        # ELIZA: YOUR FATHER\n",
    "        # User: You are like my father in some ways.\n",
    "        #\n",
    "        # User1: Men are all alike.\n",
    "        newline = re.sub(r\"^.*like.*$\",r\"In what way\",line)\n",
    "        # ELIZA1: IN WHAT WAY\n",
    "        # User2: They’re always bugging us about something or other.\n",
    "        newline = re.sub(r\"^.*(something|stuff|anything).*$\",r\"Can you think of a specific example\",line)\n",
    "        # ELIZA2: CAN YOU THINK OF A SPECIFIC EXAMPLE\n",
    "        # User3: Well, my boyfriend made me come here.\n",
    "        newline = re.sub(r\"^.*boyfriend.*$\", lambda match: f\"you said: {match.group(0)}\", line)\n",
    "        # ELIZA3: YOUR BOYFRIEND MADE YOU COME HERE\n",
    "        # User4: He says I’m depressed much of the time.\n",
    "        line9=newline\n",
    "        newline = re.sub(r\"^.*I(?: a|')m (unhappy|sad|depressed|feeling bad).*$\",r\"I'm sorry to hear you are \\1\",line)\n",
    "        if newline != line and a==False:\n",
    "            #newline= \"\"\n",
    "            line = newline\n",
    "            pass\n",
    "        # ELIZA4: I AM SORRY TO HEAR YOU ARE DEPRESSED\n",
    "\n",
    "        # comment the following line\n",
    "        #line = f\"You said: {line}\"\n",
    "\n",
    "        line = input(line + \"\\n> \")\n",
    "\n",
    "    print('Thank you for chatting with me. See you.')\n",
    "\n"
   ]
  },
  {
   "cell_type": "code",
   "execution_count": null,
   "id": "ae6b2e42-f98f-43f4-aba2-8961a2da1852",
   "metadata": {},
   "outputs": [],
   "source": [
    "#!/usr/bin/env python3\n",
    "\n",
    "__author__ = \"Misael Mongiovi'\"\n",
    "\n",
    "import re\n",
    "\n",
    "if __name__ == '__main__':\n",
    "    line = input(\"I'm mini Eliza, a very light version of Eliza psychotherapist. Ask me what you want or digit 'exit' \"\n",
    "                 \"to stop.\\n> \")\n",
    "    while True:\n",
    "        if line.strip().lower() == 'exit':\n",
    "            break\n",
    "\n",
    "        # put substitution for handling conversations like the following:\n",
    "\n",
    "        # User: I am unhappy.\n",
    "        # ELIZA: DO YOU THINK COMING HERE WILL HELP YOU NOT TO BE UNHAPPY\n",
    "        line = re.sub(r\"^.*I(?: a|')m (unhappy|sad|depressed|feeling bad).*$\",r\"Do you think coming here will help you not to be \\1\",line)\n",
    "        # User: I need some help, that much seems certain.\n",
    "        # ELIZA: WHAT WOULD IT MEAN TO YOU IF YOU GOT SOME HELP\n",
    "\n",
    "        # User: Perhaps I could learn to get along with my mother.\n",
    "        # ELIZA: TELL ME MORE ABOUT YOUR FAMILY\n",
    "        # User: My mother takes care of me.\n",
    "        # ELIZA: WHO ELSE IN YOU FAMILY TAKES CARE OF YOU\n",
    "        # User: My father.\n",
    "        # ELIZA: YOUR FATHER\n",
    "        # User: You are like my father in some ways.\n",
    "        #\n",
    "        # User1: Men are all alike.\n",
    "        # ELIZA1: IN WHAT WAY\n",
    "        # User2: They’re always bugging us about something or other.\n",
    "        # ELIZA2: CAN YOU THINK OF A SPECIFIC EXAMPLE\n",
    "        # User3: Well, my boyfriend made me come here.\n",
    "        # ELIZA3: YOUR BOYFRIEND MADE YOU COME HERE\n",
    "        # User4: He says I’m depressed much of the time.\n",
    "        # ELIZA4: I AM SORRY TO HEAR YOU ARE DEPRESSED\n",
    "\n",
    "        # comment the following line\n",
    "        #line = f\"You said: {line}\"\n",
    "\n",
    "        line = input(line + \"\\n> \")\n",
    "\n",
    "    print('Thank you for chatting with me. See you.')"
   ]
  },
  {
   "cell_type": "code",
   "execution_count": 16,
   "id": "0f7137d8-83ff-477d-b25b-c7d195f4d44f",
   "metadata": {},
   "outputs": [
    {
     "name": "stdin",
     "output_type": "stream",
     "text": [
      "I'm mini Eliza, a very light version of Eliza psychotherapist. Ask me what you want or digit 'exit' to stop.\n",
      ">  exit\n"
     ]
    },
    {
     "name": "stdout",
     "output_type": "stream",
     "text": [
      "Thank you for chatting with me. See you.\n"
     ]
    }
   ],
   "source": []
  },
  {
   "cell_type": "code",
   "execution_count": 40,
   "id": "a2498b21-e8b6-49a2-8238-158e28dac83b",
   "metadata": {},
   "outputs": [
    {
     "name": "stdin",
     "output_type": "stream",
     "text": [
      "I'm mini Eliza, a very light version of Eliza psychotherapist. Ask me what you want or digit 'exit' to stop.\n",
      ">  exit\n"
     ]
    },
    {
     "name": "stdout",
     "output_type": "stream",
     "text": [
      "Thank you for chatting with me. See you.\n"
     ]
    }
   ],
   "source": [
    "#!/usr/bin/env python3\n",
    "\n",
    "__author__ = \"Misael Mongiovi'\"\n",
    "\n",
    "import re\n",
    "\n",
    "if __name__ == '__main__':\n",
    "    line = input(\"I'm mini Eliza, a very light version of Eliza psychotherapist. Ask me what you want or digit 'exit' \"\n",
    "                 \"to stop.\\n> \")\n",
    "    while True:\n",
    "        if line.strip().lower() == 'exit':\n",
    "            break\n",
    "\n",
    "        # put substitution for handling conversations like the following:\n",
    "\n",
    "        # User: I am unhappy.\n",
    "        # ELIZA: DO YOU THINK COMING HERE WILL HELP YOU NOT TO BE UNHAPPY\n",
    "        # User: I need some help, that much seems certain.\n",
    "        # ELIZA: WHAT WOULD IT MEAN TO YOU IF YOU GOT SOME HELP\n",
    "        # r\"^.*I need ((some )?(\\w+)).*$\", \"What would it mean if you got \\1\"\n",
    "        # User: Perhaps I could learn to get along with my mother.\n",
    "        # ELIZA: TELL ME MORE ABOUT YOUR FAMILY\n",
    "        # User: My mother takes care of me.\n",
    "        # ELIZA: WHO ELSE IN YOU FAMILY TAKES CARE OF YOU\n",
    "        # User: My father.\n",
    "        # ELIZA: YOUR FATHER\n",
    "        # User: You are like my father in some ways.\n",
    "        #\n",
    "        # User1: Men are all alike.\n",
    "        # ELIZA1: IN WHAT WAY\n",
    "        # User2: They’re always bugging us about something or other.\n",
    "        # ELIZA2: CAN YOU THINK OF A SPECIFIC EXAMPLE\n",
    "        # User3: Well, my boyfriend made me come here.\n",
    "        # ELIZA3: YOUR BOYFRIEND MADE YOU COME HERE\n",
    "        # User4: He says I’m depressed much of the time.\n",
    "        # ELIZA4: I AM SORRY TO HEAR YOU ARE DEPRESSED\n",
    "\n",
    "        substitutions = [(r\"^.*I(?:'| a)m (unhappy|depressed|sad).*$\", r\"I'm sorry to hear you are \\1\"),\n",
    "                         (r\"^I\\s+need(\\s*some)?\\s+(\\w+).*$\",r\"What would you mean to you if you got\\1 \\2\"),\n",
    "                         (r\"^My\\s+(mother|father|brother|sister|child|children)\\s+(.*)\\s+me.*$\",r\"Who else in your family \\2 you\"),\n",
    "                         (r\"^.*\\s+(mother|father|brother|sister|child|children).*$\",r\"Tell me more about your family\"),\n",
    "                         (r\"^.*always.*$\",r\"Can you think of a specific example?\"),\n",
    "                         (r\"^.*[Mm]y\\s+(.+)$\",r\"Your \\1\")]\n",
    "\n",
    "        for (pattern, replace) in substitutions:\n",
    "            newline = re.sub(pattern, replace, line)\n",
    "            if newline != line:\n",
    "                line = newline\n",
    "                break\n",
    "\n",
    "        # comment the following line\n",
    "        #line = f\"You said: {line}\"\n",
    "\n",
    "        line = input(line + \"\\n> \")\n",
    "\n",
    "    print('Thank you for chatting with me. See you.')\n"
   ]
  }
 ],
 "metadata": {
  "kernelspec": {
   "display_name": "Python 3 (ipykernel)",
   "language": "python",
   "name": "python3"
  },
  "language_info": {
   "codemirror_mode": {
    "name": "ipython",
    "version": 3
   },
   "file_extension": ".py",
   "mimetype": "text/x-python",
   "name": "python",
   "nbconvert_exporter": "python",
   "pygments_lexer": "ipython3",
   "version": "3.12.0"
  }
 },
 "nbformat": 4,
 "nbformat_minor": 5
}
