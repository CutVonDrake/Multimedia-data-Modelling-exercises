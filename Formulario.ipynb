{
 "cells": [
  {
   "cell_type": "code",
   "execution_count": 1,
   "id": "c05cbd7b-3800-4cee-a08e-1c8d29e69d65",
   "metadata": {},
   "outputs": [],
   "source": [
    "#Aprire immagine opencv\n",
    "img = cv2.imread(r\"path\")\n",
    "img = cv2.cvtColor(img, cv2.COLOR_BGR2RGB)\n",
    "#imgYCC = cv2.cvtColor(img, cv2.COLOR_BGR2YCR_CB) \n",
    "plt.imshow(img)\n",
    "plt.axis('on')  # Nascondi gli assi\n",
    "plt.show()\n",
    "\n",
    "#SAVE\n",
    "cv2.imwrite('output_image.jpg', img)  # Replace with your desired file name and extension\n"
   ]
  },
  {
   "cell_type": "code",
   "execution_count": null,
   "id": "a1753817-dc3b-4a3d-b488-ce43c7b6e668",
   "metadata": {},
   "outputs": [],
   "source": [
    "#Visualizzare più immagini\n",
    "\n",
    "plt.figure()\n",
    "plt.imshow(img1, cmap='gray')\n",
    "plt.title(\"img1\")\n",
    "\n",
    "plt.figure()  # Crea una nuova figura\n",
    "plt.imshow(img2, cmap='gray')\n",
    "plt.title(\"img2\")"
   ]
  },
  {
   "cell_type": "code",
   "execution_count": 2,
   "id": "06d3aaba-5112-43fd-90b8-54fab1d1acfd",
   "metadata": {},
   "outputs": [
    {
     "data": {
      "text/plain": [
       "2"
      ]
     },
     "execution_count": 2,
     "metadata": {},
     "output_type": "execute_result"
    }
   ],
   "source": [
    "#Operazioni comuni\n",
    "5//2 #// operazioni tra interi\n"
   ]
  },
  {
   "cell_type": "code",
   "execution_count": null,
   "id": "cedeb61c-90cb-4049-8db6-a208635d661b",
   "metadata": {},
   "outputs": [],
   "source": [
    "#Interpolazioni con opencv PERMETTE ANCHE IL RIDIMENSIONAMENTO\n",
    "methods = {\n",
    "    'Nearest': cv2.INTER_NEAREST,\n",
    "    'Linear': cv2.INTER_LINEAR,\n",
    "    'Cubic': cv2.INTER_CUBIC,\n",
    "    'Lanczos': cv2.INTER_LANCZOS4\n",
    "}\n",
    "\n",
    "image = cv2.imread('input_image.jpg')\n",
    "\n",
    "plt.figure(figsize=(10, 8))\n",
    "\n",
    "for i, (name, method) in enumerate(methods.items(), 1):\n",
    "    resized = cv2.resize(image, (300, 300), interpolation=method)\n",
    "    plt.subplot(2, 2, i)\n",
    "    plt.imshow(cv2.cvtColor(resized, cv2.COLOR_BGR2RGB))\n",
    "    plt.title(name)\n",
    "    plt.axis('off')\n",
    "\n",
    "plt.tight_layout()\n",
    "plt.show()\n"
   ]
  },
  {
   "cell_type": "code",
   "execution_count": null,
   "id": "eed50f29-c676-4755-8191-14cf6e5d3f9e",
   "metadata": {},
   "outputs": [],
   "source": [
    "#CONVOLUTION OPERATION No padding\n",
    "img = img1.copy()\n",
    "erosion_kernel = np.array([[0, 1, 0],[1, 1, 1],[0, 1, 0]])\n",
    "a= erosion_kernel\n",
    "\n",
    "imgA= np.zeros((img.shape[0], img.shape[1], 3), dtype='uint8')\n",
    "\n",
    "for canal in range(3):\n",
    "    for i in range(1,img.shape[0]-1):\n",
    "        for j in range(1,img.shape[1]-1):\n",
    "            imgA[i,j,canal]= np.sum(img[i-1:i+2,j-1:j+2, canal]*a)\n",
    "\n",
    "#I created a zero matrix of the same size, but when I apply the convolution, since there is no padding, \n",
    "#the borders will remain as zeros, I believe. If you want padding just increase dimension of tha image of one \n",
    "#for each border\n"
   ]
  },
  {
   "cell_type": "code",
   "execution_count": null,
   "id": "808a4448-eff7-456c-850e-2dfbd4534fd6",
   "metadata": {},
   "outputs": [],
   "source": [
    "# Compute istogram\n",
    "hist = np.zeros(256, dtype=int)  # Array per contare le occorrenze dei valori di pixel\n",
    "# Crea una nuova matrice con lo stesso dtype della matrice esistente\n",
    "#matrice_nuova = np.ones((5, 5), dtype=matrice_esistente.dtype)\n",
    "\n",
    "for z in range(3):\n",
    "    for x in range(img.shape[0]):\n",
    "        for y in range(img.shape[1]):\n",
    "            hist[(img[x,y,z])] += 1\n",
    "\n",
    "# Show barplot istogramm\n",
    "plt.bar(range(256), hist, color='black', width=1.0)\n",
    "plt.xlim(0, 255)  # Limita l'asse x al range dei valori dei pixel\n",
    "plt.show()\n",
    "print(hist)"
   ]
  },
  {
   "cell_type": "code",
   "execution_count": null,
   "id": "42a69f9e-df91-4a6d-b3ce-9ac7bae8ca65",
   "metadata": {},
   "outputs": [],
   "source": [
    "#BINARIZING\n",
    "#1\n",
    "numero = 42\n",
    "binario = bin(numero)\n",
    "print(binario)  # Output: 0b101010\n",
    "\n",
    "#2\n",
    "numero = 42\n",
    "binario = format(numero, 'b')\n",
    "print(binario)  # Output: 101010\n",
    "\n",
    "#3\n",
    "numero = 42\n",
    "binario = format(numero, 'b').zfill(8)  # Riempie a 8 bit\n",
    "print(binario)  # Output: 00101010\n",
    "\n",
    "#3.1 NUMPY\n",
    "numeri = [42, 255, 8]\n",
    "binarizzati = np.vectorize(lambda x: format(x, 'b').zfill(8))(numeri)\n",
    "print(binarizzati)  # Output: ['00101010' '11111111' '00001000']\n"
   ]
  },
  {
   "cell_type": "code",
   "execution_count": null,
   "id": "2fbd6ca1-9e3e-437a-bec9-b0c633cc5530",
   "metadata": {},
   "outputs": [],
   "source": [
    "#INVERTING DIAGONAL\n",
    "matr=matrice.copy()\n",
    "for a in range(matrice.shape[0]):\n",
    "    for b in range(matrice.shape[1]):\n",
    "        if a==b:\n",
    "            matr[a,b]=matrice[a,matrice.shape[1]-1-b]\n",
    "        elif a==matrice.shape[1]-1-b:\n",
    "            matr[a,b]=matrice[matrice.shape[1]-1-a,b]\n",
    "\n",
    "print(matr)"
   ]
  },
  {
   "cell_type": "code",
   "execution_count": 32,
   "id": "cf528cf4-3746-4b22-8846-026bad12296b",
   "metadata": {},
   "outputs": [
    {
     "name": "stdout",
     "output_type": "stream",
     "text": [
      "1\n"
     ]
    }
   ],
   "source": [
    "#MINORE MAGGIORE\n",
    "A=[1,2,3,4,5,6,7]\n",
    "print(min(A))\n",
    "\n",
    "matrice = [[5, 2, 9],[1, 7, 6],[8, 3, 4]]\n",
    "# Converti la matrice in un array NumPy\n",
    "matrice_np = np.array(matrice)\n",
    "# Trova il minimo\n",
    "minore = np.min(matrice_np)"
   ]
  },
  {
   "cell_type": "code",
   "execution_count": 31,
   "id": "bbc1aad9-470a-4cde-aa04-4fb27fe048de",
   "metadata": {},
   "outputs": [
    {
     "name": "stdout",
     "output_type": "stream",
     "text": [
      "2\n",
      "2.3699910041176153\n",
      "8.208723967483408\n",
      "2.844\n"
     ]
    }
   ],
   "source": [
    "#RANDOM\n",
    "import random\n",
    "print(random.randint(1,10))\n",
    "print(random.uniform(1,10))\n",
    "print(random.random()*10)\n",
    "print(round(2.8438438483,3))"
   ]
  },
  {
   "cell_type": "code",
   "execution_count": null,
   "id": "154ec406-55ba-433d-82bf-bdc02c474708",
   "metadata": {},
   "outputs": [],
   "source": [
    "#Random squared piece of an image\n",
    "print(img.shape)\n",
    "n=random.randint(0,400)\n",
    "x=random.randint(0,img.shape[0]-n)\n",
    "y=random.randint(0,img.shape[1]-n)\n",
    "\n",
    "img2=img[x:x+n,y:y+n,:].copy()"
   ]
  }
 ],
 "metadata": {
  "kernelspec": {
   "display_name": "Python 3 (ipykernel)",
   "language": "python",
   "name": "python3"
  },
  "language_info": {
   "codemirror_mode": {
    "name": "ipython",
    "version": 3
   },
   "file_extension": ".py",
   "mimetype": "text/x-python",
   "name": "python",
   "nbconvert_exporter": "python",
   "pygments_lexer": "ipython3",
   "version": "3.12.0"
  }
 },
 "nbformat": 4,
 "nbformat_minor": 5
}
