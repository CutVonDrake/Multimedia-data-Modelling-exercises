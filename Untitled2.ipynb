{
 "cells": [
  {
   "cell_type": "code",
   "execution_count": 7,
   "id": "7da26043-1c1a-49fa-a233-92bb070a65b1",
   "metadata": {},
   "outputs": [
    {
     "name": "stdout",
     "output_type": "stream",
     "text": [
      "0\n",
      "1\n",
      "1\n",
      "2\n",
      "3\n",
      "5\n",
      "8\n",
      "13\n",
      "21\n",
      "34\n",
      "55\n",
      "89\n"
     ]
    }
   ],
   "source": [
    "a, b = 0 , 1\n",
    "\n",
    "while a< 100:\n",
    "    print(a)\n",
    "    a, b = b, a+b"
   ]
  },
  {
   "cell_type": "code",
   "execution_count": 10,
   "id": "7dab8e55-277d-4a80-a1cb-c08e648c3645",
   "metadata": {},
   "outputs": [
    {
     "name": "stdout",
     "output_type": "stream",
     "text": [
      "a= 0 b= 1\n",
      "a= 1 b= 2\n",
      "a= 2 b= 4\n",
      "a= 4 b= 8\n",
      "a= 8 b= 16\n",
      "a= 16 b= 32\n",
      "a= 32 b= 64\n",
      "a= 64 b= 128\n"
     ]
    }
   ],
   "source": [
    "a=0\n",
    "b=1\n",
    "while a<100:\n",
    "    print(\"a=\",a, \"b=\",b)\n",
    "    a= b\n",
    "    b= a+b"
   ]
  }
 ],
 "metadata": {
  "kernelspec": {
   "display_name": "Python 3 (ipykernel)",
   "language": "python",
   "name": "python3"
  },
  "language_info": {
   "codemirror_mode": {
    "name": "ipython",
    "version": 3
   },
   "file_extension": ".py",
   "mimetype": "text/x-python",
   "name": "python",
   "nbconvert_exporter": "python",
   "pygments_lexer": "ipython3",
   "version": "3.12.0"
  }
 },
 "nbformat": 4,
 "nbformat_minor": 5
}
