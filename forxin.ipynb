{
 "cells": [
  {
   "cell_type": "markdown",
   "id": "c60bb10d-34e0-4062-879c-1be9a24dad5a",
   "metadata": {},
   "source": [
    "## practise practise practise with LISTS"
   ]
  },
  {
   "cell_type": "code",
   "execution_count": null,
   "id": "ecd86e38-17c2-425a-93b2-a670b55229ba",
   "metadata": {},
   "outputs": [],
   "source": [
    "\"\"\"\n",
    "count the elements in a list once we flatten it\n",
    "EXERCISE\n",
    "write a function that gives a list L counts the element in the list once we flatten it\n",
    "L=[[1,2],[3,4]]\n",
    "len(L)-> 2\n",
    "flatten version of L is [1,2,3,4]\n",
    "\"\"\"\n",
    "def countFlat(L):\n",
    "    \"\"\"\n",
    "    here I may write all I wish to say about this function\n",
    "    like usage, what it does, what are the parameters\n",
    "    what version of list is and bla bla bla\n",
    "    It will only look to the first level of nestinf of a list\n",
    "    This function is not complete, it does nothing\n",
    "    \"\"\"\n",
    "    \n",
    "\n",
    "L=[1,2],[3,4]\n",
    "L=[[1,[2,3]],4]\n",
    "\n",
    "counter=0\n",
    "#go through the list\n",
    "\n",
    "\n"
   ]
  },
  {
   "cell_type": "code",
   "execution_count": null,
   "id": "34034212-76a6-4f71-a599-60111a732e51",
   "metadata": {},
   "outputs": [],
   "source": [
    "#print all the elements in a list one by one\n",
    "L=[1,2,[3,4]]\n",
    "#naive way to do it (you are new to Python, aren't you?\n",
    "def printlist(L):\n",
    "    for x in range(len(L)):\n",
    "        print(L[x])\n",
    "printlist(L)\n",
    "\n",
    "#better version\n",
    "def printlist2(L): #lists are iterable!\n",
    "    for elt in L: #and yes, tuples are iterable too!\n",
    "        print(elt)\n",
    "\n",
    "printlist2(L)"
   ]
  },
  {
   "cell_type": "code",
   "execution_count": null,
   "id": "b871adb2-9146-4acc-a294-5fef66f31891",
   "metadata": {},
   "outputs": [],
   "source": [
    "\"\"\"\n",
    "Exercise 2\n",
    "count the elements in a flat list as numbers or strings\n",
    "EXAMPLE\n",
    "L=[1,2,\"ciao\"] -> (2,1)\n",
    "\"\"\"\n",
    "L=[1,2,\"ciao\"]\n",
    "\n",
    "def countOccurencies(L):\n",
    "    countNumbers=0\n",
    "    countStrings=0\n",
    "    for x in L:\n",
    "        if type(x)==int or type(X)==float:\n",
    "        countNumbers+=1\n",
    "        elif type(x)==str:\n",
    "        countStrings+=1\n",
    "    return (countNumbers,countStrings)\n",
    "\n",
    "print(countOccurencies)"
   ]
  },
  {
   "cell_type": "code",
   "execution_count": null,
   "id": "931c45d9-0aec-4cd8-a3de-56f688d828c5",
   "metadata": {},
   "outputs": [],
   "source": [
    "a=1\n",
    "type(a)\n",
    "b=3.14\n",
    "type(b)\n",
    "c=\"hello\"\n",
    "type(c)\n"
   ]
  },
  {
   "cell_type": "code",
   "execution_count": null,
   "id": "50ad4fa2-70bb-4288-b797-bd0dc5c94420",
   "metadata": {},
   "outputs": [],
   "source": [
    "\"\"\"\n",
    "find the largest number in a list of numbers\n",
    "L=[1,2,3] -> 3\n",
    "\"\"\"\n",
    "#trivial way to solve it...\n",
    "#Do not re-innvent the wheel!\n",
    "L=[1,2,3]\n",
    "extremes=(max(L),min(L))\n",
    "print(extremes)\n",
    "#but sometimes is usefull to see how a wheel works\n",
    "\n",
    "def myMax(L):\n",
    "    temporaryMax=L[0]\n",
    "    for x in L:\n",
    "    if x>temporaryMax:\n",
    "        temporaryMax=x\n",
    "    return temporaryMax\n",
    "\n",
    "print(myMax(L))\n",
    "\n",
    "L2=[]\n",
    "L3=[1,2,3, \"hello\"]\n",
    "myMax(L3)\n",
    "#myMax(L3) gives a type error\n",
    "#myMax(L2) gives an index error\n",
    "#max(L2) gives a value error"
   ]
  },
  {
   "cell_type": "code",
   "execution_count": null,
   "id": "141bc37b-7ffc-4c8d-9a64-c3bd042ee534",
   "metadata": {},
   "outputs": [],
   "source": [
    "\"\"\"\n",
    "exercise 3\n",
    "given a list of strings\n",
    "return the pair with the shortes and longest string in the list\n",
    "Example\n",
    "L=[\"what\", \"do\", \"we\", \"do\", \"next?\"] -> (\"do\", \"next?\")\n",
    "\"\"\"\n",
    "\n",
    "def extremes(L):\n",
    "    \"\"\"\n",
    "    must be only a list of strings\n",
    "    \"\"\"\n",
    "    tempShortest=L[0]\n",
    "    tempLongest=L[0]\n",
    "    for x in L:\n",
    "        if len(x)<len(tempShortest):\n",
    "        tempShortest=x\n",
    "        if len(x)>len(tempLongest):\n",
    "        tempLongest=x\n",
    "    return(tempShortest, tempLongest)\n",
    "\n",
    "s=\"nel mezzo del cammin di nostra vita mi ritrovai per una selva oscura\"\n",
    "#use the list method split\n",
    "\n",
    "print(s.split())\n",
    "        \n",
    "    "
   ]
  },
  {
   "cell_type": "code",
   "execution_count": null,
   "id": "299671cb-f29e-4386-9ad5-b98edb4f910c",
   "metadata": {},
   "outputs": [],
   "source": [
    "def extremes(L):\n",
    "    \"\"\"\n",
    "    Deve essere solo una lista di stringhe\n",
    "    \"\"\"\n",
    "    tempShortest = L[0]\n",
    "    tempLongest = L[0]\n",
    "    for x in L:\n",
    "        if len(x) < len(tempShortest):\n",
    "            tempShortest = x\n",
    "        if len(x) > len(tempLongest):\n",
    "            tempLongest = x\n",
    "    return (tempShortest, tempLongest)"
   ]
  },
  {
   "cell_type": "code",
   "execution_count": null,
   "id": "616de16b-8c24-4084-9ed9-378ddbb6ea40",
   "metadata": {},
   "outputs": [],
   "source": [
    "s=\"nel mezzo del cammin di nostra vita mi ritrovai per una selva oscura\"\n",
    "#use the list method split\n",
    "\n",
    "print(s.split())\n",
    "\n",
    "#use the list method split\n",
    "L=\n",
    "        "
   ]
  },
  {
   "cell_type": "code",
   "execution_count": null,
   "id": "b4fdbf3b-8c4c-44f9-805f-95d21d8dae89",
   "metadata": {},
   "outputs": [],
   "source": [
    "\"a\" in \"ciao\""
   ]
  },
  {
   "cell_type": "code",
   "execution_count": 2,
   "id": "f34795c5-00f6-421d-8d54-75dc10e40264",
   "metadata": {},
   "outputs": [
    {
     "data": {
      "text/plain": [
       "4"
      ]
     },
     "execution_count": 2,
     "metadata": {},
     "output_type": "execute_result"
    }
   ],
   "source": [
    "\"\"\"\n",
    "exercise\n",
    "how many vowels in a string?\n",
    "\"ciao\" -> 3\n",
    "\"tiny\" -> 2\n",
    "Remember: strings are iterable!\n",
    "\"\"\"\n",
    "\n",
    "def countVowels(s):\n",
    "    count=0\n",
    "    for c in s:\n",
    "        if c in \"aeiouy\":\n",
    "            count+=1\n",
    "    return count\n",
    "\n",
    "countVowels(\"mamma mia\")"
   ]
  },
  {
   "cell_type": "code",
   "execution_count": null,
   "id": "feb8165e-a70f-419f-bf5c-50585cd600c1",
   "metadata": {},
   "outputs": [],
   "source": [
    "for x in \"ciao\":\n",
    "    print(x)"
   ]
  },
  {
   "cell_type": "code",
   "execution_count": 4,
   "id": "115e29c9-d4fe-4b8a-a154-bfb2124b40c5",
   "metadata": {},
   "outputs": [
    {
     "data": {
      "text/plain": [
       "[1, 2, 1, 2, 1, 2, 2, 1, 4, 1, 2, 2, 3]"
      ]
     },
     "execution_count": 4,
     "metadata": {},
     "output_type": "execute_result"
    }
   ],
   "source": [
    "\"\"\" \n",
    "given a list of strings\n",
    "return a list of thr number of Vowels in each string\n",
    "L=[\"ciao\", \"buongiorno\", \"buonasera\"] -> [3,5,5]\n",
    "\"\"\"\n",
    "def countVowelsInList(L):\n",
    "    countList=[]\n",
    "    for s in L:\n",
    "        countList.append(countVowels(s))\n",
    "    return countList\n",
    "\n",
    "L=[\"ciao\", \"buongiorno\", \"buonasera\"]\n",
    "\n",
    "countVowelsInList(L)\n",
    "\n",
    "s=\"nel mezzo del cammin di nostra vita mi ritrovai per una selva oscura\"\n",
    "L=s.split()\n",
    "countVowelsInList(L)\n"
   ]
  }
 ],
 "metadata": {
  "kernelspec": {
   "display_name": "Python 3 (ipykernel)",
   "language": "python",
   "name": "python3"
  },
  "language_info": {
   "codemirror_mode": {
    "name": "ipython",
    "version": 3
   },
   "file_extension": ".py",
   "mimetype": "text/x-python",
   "name": "python",
   "nbconvert_exporter": "python",
   "pygments_lexer": "ipython3",
   "version": "3.12.0"
  }
 },
 "nbformat": 4,
 "nbformat_minor": 5
}
