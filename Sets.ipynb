{
 "cells": [
  {
   "cell_type": "markdown",
   "id": "73c89d8c-fc15-4a4e-b330-33a40f06764a",
   "metadata": {},
   "source": [
    "# Sets"
   ]
  },
  {
   "cell_type": "code",
   "execution_count": null,
   "id": "34c1bf25-121e-4a26-9f4e-3f3add3b52cf",
   "metadata": {},
   "outputs": [],
   "source": [
    "# an example\n",
    "S= {\"apple\", \"pear\", \"peach\", \"banana\"}\n",
    "print(type(S))\n",
    "print(len(S))\n"
   ]
  },
  {
   "cell_type": "code",
   "execution_count": null,
   "id": "c807ce81-3eeb-4994-aef2-5be8a7944adb",
   "metadata": {},
   "outputs": [],
   "source": [
    "T={\"red\", \"blu\", \"green\", \"pink\", \"red\"}\n",
    "print(len(T))\n",
    "print(T)\n",
    "# sets have no duplicates"
   ]
  },
  {
   "cell_type": "code",
   "execution_count": null,
   "id": "bdc1a9a2-1031-45f3-81cb-efd75af1b27f",
   "metadata": {},
   "outputs": [],
   "source": [
    "W={1,2,3,3.0,True,\"ciao\",(2,3)}\n",
    "print(len(W))\n",
    "print(W)\n",
    "#error: list may not be a part of the list [1,2,3]\n",
    "#booleans cannot be elements of a set, python just ignore them"
   ]
  },
  {
   "cell_type": "code",
   "execution_count": null,
   "id": "b2eafbc1-dd47-442f-b5be-945ab6c7dcbb",
   "metadata": {},
   "outputs": [],
   "source": [
    "Z={1,2,3,{4,5}}\n"
   ]
  },
  {
   "cell_type": "code",
   "execution_count": 1,
   "id": "6602d625-b235-4940-bf42-e7a64cd62e78",
   "metadata": {},
   "outputs": [
    {
     "data": {
      "text/plain": [
       "['__and__',\n",
       " '__class__',\n",
       " '__class_getitem__',\n",
       " '__contains__',\n",
       " '__delattr__',\n",
       " '__dir__',\n",
       " '__doc__',\n",
       " '__eq__',\n",
       " '__format__',\n",
       " '__ge__',\n",
       " '__getattribute__',\n",
       " '__getstate__',\n",
       " '__gt__',\n",
       " '__hash__',\n",
       " '__iand__',\n",
       " '__init__',\n",
       " '__init_subclass__',\n",
       " '__ior__',\n",
       " '__isub__',\n",
       " '__iter__',\n",
       " '__ixor__',\n",
       " '__le__',\n",
       " '__len__',\n",
       " '__lt__',\n",
       " '__ne__',\n",
       " '__new__',\n",
       " '__or__',\n",
       " '__rand__',\n",
       " '__reduce__',\n",
       " '__reduce_ex__',\n",
       " '__repr__',\n",
       " '__ror__',\n",
       " '__rsub__',\n",
       " '__rxor__',\n",
       " '__setattr__',\n",
       " '__sizeof__',\n",
       " '__str__',\n",
       " '__sub__',\n",
       " '__subclasshook__',\n",
       " '__xor__',\n",
       " 'add',\n",
       " 'clear',\n",
       " 'copy',\n",
       " 'difference',\n",
       " 'difference_update',\n",
       " 'discard',\n",
       " 'intersection',\n",
       " 'intersection_update',\n",
       " 'isdisjoint',\n",
       " 'issubset',\n",
       " 'issuperset',\n",
       " 'pop',\n",
       " 'remove',\n",
       " 'symmetric_difference',\n",
       " 'symmetric_difference_update',\n",
       " 'union',\n",
       " 'update']"
      ]
     },
     "execution_count": 1,
     "metadata": {},
     "output_type": "execute_result"
    }
   ],
   "source": [
    "A={1,2,3}\n",
    "dir(A)"
   ]
  },
  {
   "cell_type": "code",
   "execution_count": 5,
   "id": "3bbd5f53-2b71-4c4d-b002-2954c34e765d",
   "metadata": {},
   "outputs": [
    {
     "name": "stdout",
     "output_type": "stream",
     "text": [
      "D= {1, 2, 3, 4, 5}\n",
      "E= {3}\n",
      "F= set()\n"
     ]
    }
   ],
   "source": [
    "A={1,2,3}\n",
    "B={3,4,5}\n",
    "C={1,7}\n",
    "D=A.union(B)\n",
    "E=A.intersection(B)\n",
    "F=B.intersection(C)\n",
    "C.add(11)\n",
    "#C=C.add(11) this would assign to C only the result of the execution of the method\n",
    "print(\"D=\",D)\n",
    "print(\"E=\",E)\n",
    "print(\"F=\",F)"
   ]
  },
  {
   "cell_type": "code",
   "execution_count": 7,
   "id": "6325086d-ea8b-4646-9923-59edffb3cdd2",
   "metadata": {},
   "outputs": [
    {
     "name": "stdout",
     "output_type": "stream",
     "text": [
      "D= {1, 2, 3, 4, 5, 6, 7}\n",
      "E= {1, 2, 3, 4, 5, 6, 7}\n",
      "D= {1, 2, 3, 4, 5, 6, 7}\n",
      "F= {1, 2, 3, 4, 5, 6, 7, 8}\n"
     ]
    }
   ],
   "source": [
    "D={1,2,3,4,5,6}\n",
    "E=D\n",
    "E.add(7)\n",
    "print(\"D=\",D)\n",
    "print(\"E=\",E)\n",
    "F=D.copy()\n",
    "F.add(8)\n",
    "print(\"D=\",D)\n",
    "print(\"F=\",F)"
   ]
  },
  {
   "cell_type": "code",
   "execution_count": 9,
   "id": "4d89bee9-4d84-4ae1-bf9a-687b17fe69da",
   "metadata": {},
   "outputs": [
    {
     "name": "stdout",
     "output_type": "stream",
     "text": [
      "True\n",
      "1\n",
      "2\n",
      "3\n"
     ]
    }
   ],
   "source": [
    "S={1,2,3}\n",
    "# print(S[0]) generates an error. Sets are not indexable\n",
    "print((1 in S)) #membership to a set is checked with \"in\"\n",
    "#are sets iterable\n",
    "for x in S:\n",
    "    print(x)"
   ]
  }
 ],
 "metadata": {
  "kernelspec": {
   "display_name": "Python 3 (ipykernel)",
   "language": "python",
   "name": "python3"
  },
  "language_info": {
   "codemirror_mode": {
    "name": "ipython",
    "version": 3
   },
   "file_extension": ".py",
   "mimetype": "text/x-python",
   "name": "python",
   "nbconvert_exporter": "python",
   "pygments_lexer": "ipython3",
   "version": "3.12.0"
  }
 },
 "nbformat": 4,
 "nbformat_minor": 5
}
