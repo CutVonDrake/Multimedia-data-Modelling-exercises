{
 "cells": [
  {
   "cell_type": "markdown",
   "id": "4543841d-2d34-47b5-8f43-8b56d820483f",
   "metadata": {},
   "source": [
    "## Tuples"
   ]
  },
  {
   "cell_type": "code",
   "execution_count": 4,
   "id": "ce6057ec-4c3f-4438-a9fb-1b3a7574c79a",
   "metadata": {},
   "outputs": [
    {
     "name": "stdout",
     "output_type": "stream",
     "text": [
      "[1, 2, 3]\n",
      "[1, 2, 3]\n",
      "(1, 2, 3)\n",
      "<class 'tuple'>\n"
     ]
    }
   ],
   "source": [
    "L1=[1,2,3] #one way to create a list\n",
    "L2=list((1,2,3)) #another way\n",
    "print(L1)\n",
    "print(L2)\n",
    "T=(1,2,3) #a tuple: aggregate information\n",
    "print(T)\n",
    "print(type(T))"
   ]
  },
  {
   "cell_type": "code",
   "execution_count": 16,
   "id": "84931f7a-9003-4561-b8a4-7a3edb8ff37d",
   "metadata": {},
   "outputs": [
    {
     "name": "stdout",
     "output_type": "stream",
     "text": [
      "(1, 3.14, 'hello')\n",
      "([1, 2, 3], ('a', 'b', True))\n",
      "[1, 2, 3]\n",
      "(10, ('a', 'b', True))\n"
     ]
    }
   ],
   "source": [
    "T=(1,3.14, \"hello\")\n",
    "print(T)\n",
    "len(T)\n",
    "T2=([1,2,3], (\"a\", \"b\", True))\n",
    "print(T2)\n",
    "print(T2[0])\n",
    "len(T2)\n",
    "L=[1,2,3]\n",
    "L[0]=10 #changing a list\n",
    "# T2[0]=10 tuples cannot be change\n",
    "T2=(10, (\"a\", \"b\", True))\n",
    "print(T2)\n",
    "#tuples may be changed only all at once, as a whole. This is the difference between list and tuple"
   ]
  },
  {
   "cell_type": "code",
   "execution_count": 19,
   "id": "76aa1929-a536-44b2-b7e1-28decd8a8275",
   "metadata": {},
   "outputs": [
    {
     "name": "stdout",
     "output_type": "stream",
     "text": [
      "2\n",
      "0\n",
      "3\n"
     ]
    },
    {
     "ename": "ValueError",
     "evalue": "tuple.index(x): x not in tuple",
     "output_type": "error",
     "traceback": [
      "\u001b[1;31m---------------------------------------------------------------------------\u001b[0m",
      "\u001b[1;31mValueError\u001b[0m                                Traceback (most recent call last)",
      "Cell \u001b[1;32mIn[19], line 6\u001b[0m\n\u001b[0;32m      4\u001b[0m \u001b[38;5;28mprint\u001b[39m(T\u001b[38;5;241m.\u001b[39mcount(\u001b[38;5;241m0\u001b[39m))\n\u001b[0;32m      5\u001b[0m \u001b[38;5;28mprint\u001b[39m(T\u001b[38;5;241m.\u001b[39mindex(\u001b[38;5;241m3\u001b[39m))\n\u001b[1;32m----> 6\u001b[0m \u001b[38;5;28mprint\u001b[39m(\u001b[43mT\u001b[49m\u001b[38;5;241;43m.\u001b[39;49m\u001b[43mindex\u001b[49m\u001b[43m(\u001b[49m\u001b[38;5;241;43m5\u001b[39;49m\u001b[43m)\u001b[49m)\n",
      "\u001b[1;31mValueError\u001b[0m: tuple.index(x): x not in tuple"
     ]
    }
   ],
   "source": [
    "T=(1,2,2,3,3,7,7)\n",
    "dir(T)\n",
    "print(T.count(2))\n",
    "print(T.count(0))\n",
    "print(T.index(3))\n",
    "# print(T.index(5)) error"
   ]
  },
  {
   "cell_type": "code",
   "execution_count": 21,
   "id": "60822b71-bc85-46f3-b73a-fef59682762b",
   "metadata": {},
   "outputs": [
    {
     "name": "stdout",
     "output_type": "stream",
     "text": [
      "True\n",
      "False\n",
      "False\n",
      "2467197192064\n",
      "2467197191936\n",
      "True\n"
     ]
    }
   ],
   "source": [
    "#tuples and lists are structure\n",
    "#this is important when you compare them\n",
    "a=1\n",
    "b=1\n",
    "c=2\n",
    "print(a==b)\n",
    "print(a==c)\n",
    "\n",
    "# for list the same for lists\n",
    "A=[1,2,3]\n",
    "B=[1,2,]\n",
    "print(A==B)\n",
    "print(id(A))\n",
    "print(id(B))\n",
    "print(A>B) #lists are compared by Length"
   ]
  },
  {
   "cell_type": "code",
   "execution_count": 34,
   "id": "52dbd953-5e1e-4481-9c7a-4d718b1b6f7b",
   "metadata": {},
   "outputs": [
    {
     "name": "stdout",
     "output_type": "stream",
     "text": [
      "[0, 1, 2, 3, 4, 5, 6, 7, 8, 9]\n",
      "[0, 1, 2, 3, 4, 5, 6, 7, 8, 9]\n",
      "[0, 1, 2, 3, 4, 5, 6, 7, 8, 9]\n",
      "[1, 3, 5, 7, 9, 11, 13, 15, 17, 19]\n",
      "[1, 3, 5, 7, 9, 11, 13, 15, 17, 19]\n",
      "[1, 3, 5, 7, 9, 11, 13, 15, 17, 19]\n"
     ]
    }
   ],
   "source": [
    "#list comprehension\n",
    "#wish to have a list whan the firs 10 numbers\n",
    "#solution 1 (very naive)\n",
    "L1=[0,1,2,3,4,5,6,7,8,9]\n",
    "\n",
    "#solution 2\n",
    "L2=[]\n",
    "for x in range(10):\n",
    "    L2.append(x)\n",
    "\n",
    "#solution 3 (smart and pythonesque)\n",
    "#list comprehension\n",
    "L3=[x for x in range(10)]\n",
    "print(L1)\n",
    "print(L2)\n",
    "print(L3)\n",
    "\n",
    "#I wish to have a list off the odd number less than 20\n",
    "M1=[1,3,5,7,9,11,13,15,17,19]\n",
    "M2=[]\n",
    "for x in range(20):\n",
    "    if x%2==1:\n",
    "        M2.append(x)\n",
    "\n",
    "#best way\n",
    "M3=[x for x in range(20) if x%2==1]\n",
    "print(M1)\n",
    "print(M2)\n",
    "print(M3)"
   ]
  }
 ],
 "metadata": {
  "kernelspec": {
   "display_name": "Python 3 (ipykernel)",
   "language": "python",
   "name": "python3"
  },
  "language_info": {
   "codemirror_mode": {
    "name": "ipython",
    "version": 3
   },
   "file_extension": ".py",
   "mimetype": "text/x-python",
   "name": "python",
   "nbconvert_exporter": "python",
   "pygments_lexer": "ipython3",
   "version": "3.12.0"
  }
 },
 "nbformat": 4,
 "nbformat_minor": 5
}
