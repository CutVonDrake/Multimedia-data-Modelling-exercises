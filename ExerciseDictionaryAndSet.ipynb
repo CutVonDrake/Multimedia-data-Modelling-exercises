{
 "cells": [
  {
   "cell_type": "code",
   "execution_count": null,
   "id": "d7037889-2673-4c65-955e-53e75d9bff6d",
   "metadata": {},
   "outputs": [],
   "source": [
    "## Exercise\n",
    "\n",
    "Create an empty dictionary\n",
    "Create a loop to add from the keyboard items to the dictionary of the following kind:\n"
   ]
  },
  {
   "cell_type": "code",
   "execution_count": 12,
   "id": "b2ee2f45-3045-48d6-9051-0e403a5bf7cb",
   "metadata": {},
   "outputs": [
    {
     "name": "stdin",
     "output_type": "stream",
     "text": [
      "Do you wish to input an item? (y/n) Alice\n"
     ]
    },
    {
     "name": "stdout",
     "output_type": "stream",
     "text": [
      "{}\n",
      "thank you for visiting\n",
      "the youngest person in D is \n",
      "the distribution of gender in the dictionary (M/F) is\n"
     ]
    },
    {
     "ename": "ZeroDivisionError",
     "evalue": "division by zero",
     "output_type": "error",
     "traceback": [
      "\u001b[1;31m---------------------------------------------------------------------------\u001b[0m",
      "\u001b[1;31mZeroDivisionError\u001b[0m                         Traceback (most recent call last)",
      "Cell \u001b[1;32mIn[12], line 58\u001b[0m\n\u001b[0;32m     56\u001b[0m     \u001b[38;5;28;01mreturn\u001b[39;00m(males\u001b[38;5;241m/\u001b[39m\u001b[38;5;28mlen\u001b[39m(D)\u001b[38;5;241m*\u001b[39m\u001b[38;5;241m100\u001b[39m, females\u001b[38;5;241m/\u001b[39m\u001b[38;5;28mlen\u001b[39m(D)\u001b[38;5;241m*\u001b[39m\u001b[38;5;241m100\u001b[39m)\n\u001b[0;32m     57\u001b[0m \u001b[38;5;28mprint\u001b[39m(\u001b[38;5;124m\"\u001b[39m\u001b[38;5;124mthe distribution of gender in the dictionary (M/F) is\u001b[39m\u001b[38;5;124m\"\u001b[39m)\n\u001b[1;32m---> 58\u001b[0m \u001b[38;5;28mprint\u001b[39m(\u001b[43mgenderPercentage\u001b[49m\u001b[43m(\u001b[49m\u001b[43mD\u001b[49m\u001b[43m)\u001b[49m)\n",
      "Cell \u001b[1;32mIn[12], line 56\u001b[0m, in \u001b[0;36mgenderPercentage\u001b[1;34m(D)\u001b[0m\n\u001b[0;32m     54\u001b[0m             females\u001b[38;5;241m+\u001b[39m\u001b[38;5;241m=\u001b[39m\u001b[38;5;241m1\u001b[39m\n\u001b[0;32m     55\u001b[0m \u001b[38;5;66;03m#now i know thw numbers!\u001b[39;00m\n\u001b[1;32m---> 56\u001b[0m     \u001b[38;5;28;01mreturn\u001b[39;00m(\u001b[43mmales\u001b[49m\u001b[38;5;241;43m/\u001b[39;49m\u001b[38;5;28;43mlen\u001b[39;49m\u001b[43m(\u001b[49m\u001b[43mD\u001b[49m\u001b[43m)\u001b[49m\u001b[38;5;241m*\u001b[39m\u001b[38;5;241m100\u001b[39m, females\u001b[38;5;241m/\u001b[39m\u001b[38;5;28mlen\u001b[39m(D)\u001b[38;5;241m*\u001b[39m\u001b[38;5;241m100\u001b[39m)\n",
      "\u001b[1;31mZeroDivisionError\u001b[0m: division by zero"
     ]
    }
   ],
   "source": [
    "## D={}\n",
    "\n",
    "def addItem(D): \n",
    "    \"\"\"\n",
    "    this is the code to get the information from a user to obtain a new item to add to the dictionary\n",
    "    \"\"\"\n",
    "    name=input(\"Please type a name\")\n",
    "    age=int(input(\"Please what is the age of\" +name+\"?\"))\n",
    "    gender=input(\"Please say what gender is assigned to\" + name+ \" \")\n",
    "    D[name]=(age,gender) #this creates a new item with key \"name\" and values the pair\n",
    "\n",
    "while True:\n",
    "    a=input(\"Do you wish to input an item? (y/n)\")\n",
    "    if a== \"y\":\n",
    "        #do something\n",
    "        addItem(D)\n",
    "        print(\"do something\")\n",
    "    else:\n",
    "        break\n",
    "print(D)\n",
    "print(\"thank you for visiting\")\n",
    "\n",
    "\"\"\"\n",
    "please give me the name of the youngest person in D\n",
    "\"\"\"\n",
    "def youngest(D):\n",
    "    \"\"\"\n",
    "    returns a string with the name of the youngest person in D\n",
    "    \"\"\"\n",
    "    minumumAge=300 #nobody is as old as 300!\n",
    "    youngestPerson=\"\"\n",
    "    for person in D: #go through all the items in D\n",
    "        age=D[person][0] # get the age from (age:gender)\n",
    "        if age<minimumAge: #check if you upgrade\n",
    "            minimumAge=age\n",
    "            youngestPerson=person\n",
    "    return youngestPerson\n",
    "\n",
    "print(\"the youngest person in D is\", youngest(D))\n",
    "\n",
    "\n",
    "\"\"\"\n",
    "how many males and girls are in D in percentage\n",
    "\"\"\"\n",
    "\n",
    "def genderPercentage(D):\n",
    "    males=0\n",
    "    female=0\n",
    "    for person in D:\n",
    "        gender=D[person][1]\n",
    "        if gender== \"M\":\n",
    "            males+=1\n",
    "        else:\n",
    "            females+=1\n",
    "#now i know thw numbers!\n",
    "    return(males/len(D)*100, females/len(D)*100)\n",
    "print(\"the distribution of gender in the dictionary (M/F) is\")\n",
    "print(genderPercentage(D))"
   ]
  },
  {
   "cell_type": "markdown",
   "id": "a167becb-3c23-4bbe-b4d7-b26cc48550e4",
   "metadata": {},
   "source": [
    "## Exercise\n",
    "A dictionary is made of a items like this:\n",
    "\"Alice\": {\"writing\":27, \"talking\":23, \"comprehension\":27}\n",
    "This are the grades Alice got in a language test\n",
    "\n",
    "We wish to find for all items the mean grade\n",
    "for Alice the mean grade is (27+23+27)/3\n"
   ]
  },
  {
   "cell_type": "code",
   "execution_count": 16,
   "id": "80ca8619-695b-457e-90d4-dfbdb842abb6",
   "metadata": {},
   "outputs": [
    {
     "name": "stdout",
     "output_type": "stream",
     "text": [
      "{'A': {'w': 27, 't': 30, 'c': 30}, 'B': {'w': 23, 't': 30, 'c': 18}, 'C': {'w': 27, 't': 30, 'c': 30}, 'D': {'w': 27, 't': 28, 'c': 30}, 'E': {'w': 27, 't': 30, 'c': 18}}\n",
      "{'A': 29.0, 'B': 23.666666666666668, 'C': 29.0, 'D': 28.333333333333332, 'E': 25.0}\n"
     ]
    }
   ],
   "source": [
    "D={\"A\":{\"w\":27, \"t\":30, \"c\":30},\n",
    "  \"B\":{\"w\":23, \"t\":30, \"c\":18},\n",
    "  \"C\":{\"w\":27, \"t\":30, \"c\":30},\n",
    "  \"D\":{\"w\":27, \"t\":28, \"c\":30},\n",
    "  \"E\":{\"w\":27, \"t\":30, \"c\":18}}\n",
    "print(D)\n",
    "grades={}\n",
    "for student in D:\n",
    "    mean=(D[student][\"w\"]+D[student][\"t\"]+D[student][\"c\"])/3\n",
    "    grades[student]=mean\n",
    "\n",
    "print(grades)"
   ]
  },
  {
   "cell_type": "code",
   "execution_count": 14,
   "id": "daa671bf-ec3d-4330-b796-8b845ecb729b",
   "metadata": {},
   "outputs": [
    {
     "name": "stdout",
     "output_type": "stream",
     "text": [
      "{1: 'b'}\n"
     ]
    }
   ],
   "source": [
    "D={1:\"a\", 1:\"b\"}\n",
    "print(D)"
   ]
  }
 ],
 "metadata": {
  "kernelspec": {
   "display_name": "Python 3 (ipykernel)",
   "language": "python",
   "name": "python3"
  },
  "language_info": {
   "codemirror_mode": {
    "name": "ipython",
    "version": 3
   },
   "file_extension": ".py",
   "mimetype": "text/x-python",
   "name": "python",
   "nbconvert_exporter": "python",
   "pygments_lexer": "ipython3",
   "version": "3.12.0"
  }
 },
 "nbformat": 4,
 "nbformat_minor": 5
}
