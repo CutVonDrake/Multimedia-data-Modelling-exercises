{
 "cells": [
  {
   "cell_type": "markdown",
   "id": "b78c444c-3d71-4b8d-84af-861cdded57be",
   "metadata": {},
   "source": [
    "## looping"
   ]
  },
  {
   "cell_type": "markdown",
   "id": "e6f1e569-48d9-49ac-b4db-17c19c4a0580",
   "metadata": {},
   "source": [
    "### while"
   ]
  },
  {
   "cell_type": "code",
   "execution_count": 1,
   "id": "afece8f3-a667-425e-b672-501105703a13",
   "metadata": {},
   "outputs": [
    {
     "name": "stdin",
     "output_type": "stream",
     "text": [
      "type a number 3\n"
     ]
    },
    {
     "name": "stdout",
     "output_type": "stream",
     "text": [
      "<class 'int'>\n",
      "small number\n"
     ]
    }
   ],
   "source": [
    "w=int(input(\"type a number\")) #int is to use numbers\n",
    "print(type(w))\n",
    "if w<5:\n",
    "    print(\"small number\")"
   ]
  },
  {
   "cell_type": "code",
   "execution_count": 2,
   "id": "34e1d66a-d131-4ea9-942c-b4d396f09a60",
   "metadata": {},
   "outputs": [
    {
     "name": "stdin",
     "output_type": "stream",
     "text": [
      "type a number 17\n"
     ]
    },
    {
     "name": "stdout",
     "output_type": "stream",
     "text": [
      "Yuhu, you escaped the 'while jail'\n"
     ]
    }
   ],
   "source": [
    "#ask a number to the user until the given number is a \n",
    "#multiple of 17\n",
    "#while create a loop untile the condition is satisfied\n",
    "n=int(input(\"type a number\"))\n",
    "while (n%17 != 0):\n",
    "    print(\"non a multiple of 17\")\n",
    "    #it is crucial to do something\n",
    "    #that may make false the condition\n",
    "    #otherwise you will stay in the loop\n",
    "    #FOREVER\n",
    "    n=int(input(\"type a number\"))\n",
    "print(\"Yuhu, you escaped the 'while jail'\") #inside the \"\" must use only one '"
   ]
  },
  {
   "cell_type": "code",
   "execution_count": 3,
   "id": "2c3015cf-6a8d-4a56-a418-621dc8de05a9",
   "metadata": {},
   "outputs": [
    {
     "name": "stdout",
     "output_type": "stream",
     "text": [
      "0\n",
      "1\n",
      "2\n",
      "3\n",
      "4\n",
      "5\n",
      "6\n",
      "7\n",
      "8\n",
      "9\n",
      "10\n"
     ]
    }
   ],
   "source": [
    "#print all the number from 0 to 10\n",
    "#initialize the confition\n",
    "n=0\n",
    "while n<=10:\n",
    "    #do something\n",
    "    print(n)\n",
    "    #do something that change the truth value of the condition\n",
    "    n=n+1"
   ]
  },
  {
   "cell_type": "code",
   "execution_count": 4,
   "id": "7dafaac3-c3c3-44e2-9e9d-1cd852265e1d",
   "metadata": {},
   "outputs": [
    {
     "name": "stdout",
     "output_type": "stream",
     "text": [
      "you escaped!\n"
     ]
    }
   ],
   "source": [
    "n=10\n",
    "while n<10:\n",
    "    print(\"ok\")\n",
    "print(\"you escaped!\")"
   ]
  },
  {
   "cell_type": "code",
   "execution_count": 7,
   "id": "8c5fc376-ae68-4814-8fac-3d7a99bdbd3a",
   "metadata": {},
   "outputs": [
    {
     "name": "stdin",
     "output_type": "stream",
     "text": [
      "a number 5\n"
     ]
    },
    {
     "name": "stdout",
     "output_type": "stream",
     "text": [
      "fine pena mai\n"
     ]
    },
    {
     "name": "stdin",
     "output_type": "stream",
     "text": [
      "if you write the good number you escape 60\n"
     ]
    },
    {
     "name": "stdout",
     "output_type": "stream",
     "text": [
      "you are out!\n"
     ]
    }
   ],
   "source": [
    "#hot to break out of jail with the force!\n",
    "n=int(input(\"a number\"))\n",
    "while True:\n",
    "    print(\"fine pena mai\")\n",
    "    n=int(input(\"if you write the good number you escape\"))\n",
    "    if n==60: #the good number!\n",
    "        break\n",
    "print(\"you are out!\")"
   ]
  },
  {
   "cell_type": "markdown",
   "id": "cd5a890a-c732-4a55-9e13-ef48480f4b86",
   "metadata": {},
   "source": [
    "# for"
   ]
  },
  {
   "cell_type": "code",
   "execution_count": 9,
   "id": "b3f8f492-2c83-4664-8f2c-504848da65ae",
   "metadata": {},
   "outputs": [
    {
     "name": "stdout",
     "output_type": "stream",
     "text": [
      "0\n",
      "1\n",
      "2\n",
      "3\n",
      "4\n",
      "5\n",
      "6\n",
      "7\n",
      "8\n",
      "9\n",
      "10\n"
     ]
    }
   ],
   "source": [
    "#if I do know how many times the loop has to be run\n",
    "#for is a better choice\n",
    "\n",
    "#print a number from 0 to 10\n",
    "for counter in range(10):\n",
    "    print(counter)\n",
    "#ITERATION the built in function range provide a set to iterate on, \"iterable\""
   ]
  },
  {
   "cell_type": "code",
   "execution_count": 10,
   "id": "4412bcf4-f369-418f-848d-e0ea87ccd2b2",
   "metadata": {},
   "outputs": [
    {
     "name": "stdout",
     "output_type": "stream",
     "text": [
      "Help on class range in module builtins:\n",
      "\n",
      "class range(object)\n",
      " |  range(stop) -> range object\n",
      " |  range(start, stop[, step]) -> range object\n",
      " |\n",
      " |  Return an object that produces a sequence of integers from start (inclusive)\n",
      " |  to stop (exclusive) by step.  range(i, j) produces i, i+1, i+2, ..., j-1.\n",
      " |  start defaults to 0, and stop is omitted!  range(4) produces 0, 1, 2, 3.\n",
      " |  These are exactly the valid indices for a list of 4 elements.\n",
      " |  When step is given, it specifies the increment (or decrement).\n",
      " |\n",
      " |  Methods defined here:\n",
      " |\n",
      " |  __bool__(self, /)\n",
      " |      True if self else False\n",
      " |\n",
      " |  __contains__(self, key, /)\n",
      " |      Return bool(key in self).\n",
      " |\n",
      " |  __eq__(self, value, /)\n",
      " |      Return self==value.\n",
      " |\n",
      " |  __ge__(self, value, /)\n",
      " |      Return self>=value.\n",
      " |\n",
      " |  __getattribute__(self, name, /)\n",
      " |      Return getattr(self, name).\n",
      " |\n",
      " |  __getitem__(self, key, /)\n",
      " |      Return self[key].\n",
      " |\n",
      " |  __gt__(self, value, /)\n",
      " |      Return self>value.\n",
      " |\n",
      " |  __hash__(self, /)\n",
      " |      Return hash(self).\n",
      " |\n",
      " |  __iter__(self, /)\n",
      " |      Implement iter(self).\n",
      " |\n",
      " |  __le__(self, value, /)\n",
      " |      Return self<=value.\n",
      " |\n",
      " |  __len__(self, /)\n",
      " |      Return len(self).\n",
      " |\n",
      " |  __lt__(self, value, /)\n",
      " |      Return self<value.\n",
      " |\n",
      " |  __ne__(self, value, /)\n",
      " |      Return self!=value.\n",
      " |\n",
      " |  __reduce__(...)\n",
      " |      Helper for pickle.\n",
      " |\n",
      " |  __repr__(self, /)\n",
      " |      Return repr(self).\n",
      " |\n",
      " |  __reversed__(...)\n",
      " |      Return a reverse iterator.\n",
      " |\n",
      " |  count(...)\n",
      " |      rangeobject.count(value) -> integer -- return number of occurrences of value\n",
      " |\n",
      " |  index(...)\n",
      " |      rangeobject.index(value) -> integer -- return index of value.\n",
      " |      Raise ValueError if the value is not present.\n",
      " |\n",
      " |  ----------------------------------------------------------------------\n",
      " |  Static methods defined here:\n",
      " |\n",
      " |  __new__(*args, **kwargs) from builtins.type\n",
      " |      Create and return a new object.  See help(type) for accurate signature.\n",
      " |\n",
      " |  ----------------------------------------------------------------------\n",
      " |  Data descriptors defined here:\n",
      " |\n",
      " |  start\n",
      " |\n",
      " |  step\n",
      " |\n",
      " |  stop\n",
      "\n"
     ]
    }
   ],
   "source": [
    "#about range\n",
    "help(range)"
   ]
  },
  {
   "cell_type": "code",
   "execution_count": 13,
   "id": "b5fe134f-d6af-44b0-860c-10b26a26c372",
   "metadata": {},
   "outputs": [
    {
     "name": "stdout",
     "output_type": "stream",
     "text": [
      "3\n",
      "6\n",
      "9\n",
      "12\n",
      "15\n",
      "18\n",
      "21\n",
      "24\n",
      "27\n",
      "30\n",
      "33\n",
      "36\n",
      "39\n",
      "42\n",
      "45\n",
      "48\n",
      "51\n",
      "54\n",
      "57\n",
      "60\n",
      "63\n",
      "66\n",
      "69\n",
      "72\n",
      "75\n",
      "78\n",
      "81\n",
      "84\n",
      "87\n",
      "90\n",
      "93\n",
      "96\n",
      "99\n"
     ]
    }
   ],
   "source": [
    "#print multiples of 3 from 3 up to 99\n",
    "for i in range(3,100,3):\n",
    "    print(i)"
   ]
  },
  {
   "cell_type": "code",
   "execution_count": 19,
   "id": "ee86777e-81eb-4a8b-9d08-1645ab2829d3",
   "metadata": {},
   "outputs": [
    {
     "name": "stdout",
     "output_type": "stream",
     "text": [
      "7\n",
      "14\n",
      "21\n",
      "28\n",
      "help\n",
      "42\n",
      "49\n",
      "56\n",
      "63\n",
      "help\n",
      "77\n",
      "84\n",
      "91\n",
      "98\n"
     ]
    }
   ],
   "source": [
    "#all the multiple of 7 that are not multiple of \n",
    "#5 from 7 to 100\n",
    "for i in range(7,101,7):\n",
    "    if i%5!=0: print(i)\n",
    "    else: print(\"help\")"
   ]
  },
  {
   "cell_type": "code",
   "execution_count": 1,
   "id": "082a81fa-a681-4c29-bffa-adae1286fb25",
   "metadata": {},
   "outputs": [
    {
     "data": {
      "text/plain": [
       "['In',\n",
       " 'Out',\n",
       " '_',\n",
       " '__',\n",
       " '___',\n",
       " '__builtin__',\n",
       " '__builtins__',\n",
       " '__doc__',\n",
       " '__loader__',\n",
       " '__name__',\n",
       " '__package__',\n",
       " '__session__',\n",
       " '__spec__',\n",
       " '_dh',\n",
       " '_i',\n",
       " '_i1',\n",
       " '_ih',\n",
       " '_ii',\n",
       " '_iii',\n",
       " '_oh',\n",
       " 'exit',\n",
       " 'get_ipython',\n",
       " 'open',\n",
       " 'quit']"
      ]
     },
     "execution_count": 1,
     "metadata": {},
     "output_type": "execute_result"
    }
   ],
   "source": [
    "dir()"
   ]
  },
  {
   "cell_type": "code",
   "execution_count": 3,
   "id": "5dd3ab44-539d-4741-ba82-99e5272bce0b",
   "metadata": {},
   "outputs": [],
   "source": [
    "a=1\n",
    "b=2"
   ]
  },
  {
   "cell_type": "code",
   "execution_count": 4,
   "id": "33486255-dd64-4a6d-8d8a-a37a0fd061f5",
   "metadata": {},
   "outputs": [
    {
     "data": {
      "text/plain": [
       "['In',\n",
       " 'Out',\n",
       " '_',\n",
       " '_1',\n",
       " '__',\n",
       " '___',\n",
       " '__builtin__',\n",
       " '__builtins__',\n",
       " '__doc__',\n",
       " '__loader__',\n",
       " '__name__',\n",
       " '__package__',\n",
       " '__session__',\n",
       " '__spec__',\n",
       " '_dh',\n",
       " '_i',\n",
       " '_i1',\n",
       " '_i2',\n",
       " '_i3',\n",
       " '_i4',\n",
       " '_ih',\n",
       " '_ii',\n",
       " '_iii',\n",
       " '_oh',\n",
       " 'a',\n",
       " 'b',\n",
       " 'exit',\n",
       " 'get_ipython',\n",
       " 'open',\n",
       " 'quit']"
      ]
     },
     "execution_count": 4,
     "metadata": {},
     "output_type": "execute_result"
    }
   ],
   "source": [
    "dir()"
   ]
  },
  {
   "cell_type": "code",
   "execution_count": null,
   "id": "672b82b4-1238-4155-83da-9f1195c4a358",
   "metadata": {},
   "outputs": [],
   "source": []
  }
 ],
 "metadata": {
  "kernelspec": {
   "display_name": "Python 3 (ipykernel)",
   "language": "python",
   "name": "python3"
  },
  "language_info": {
   "codemirror_mode": {
    "name": "ipython",
    "version": 3
   },
   "file_extension": ".py",
   "mimetype": "text/x-python",
   "name": "python",
   "nbconvert_exporter": "python",
   "pygments_lexer": "ipython3",
   "version": "3.12.0"
  }
 },
 "nbformat": 4,
 "nbformat_minor": 5
}
