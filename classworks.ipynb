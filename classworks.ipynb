{
 "cells": [
  {
   "cell_type": "code",
   "execution_count": null,
   "id": "537cb5b9-0fc4-4d72-a839-1c85782ce4dd",
   "metadata": {},
   "outputs": [],
   "source": [
    "N=123\n",
    "B=str(N)\n",
    "A=[]\n",
    "for x in B:\n",
    "    A.append(x)\n",
    "\n",
    "print(A)\n",
    "    \n",
    "    "
   ]
  },
  {
   "cell_type": "code",
   "execution_count": null,
   "id": "2901bdb6-f331-4628-928a-e2eee5ca1781",
   "metadata": {},
   "outputs": [],
   "source": [
    "\n",
    "N=1234682457687456\n",
    "def digit_list_2(N):\n",
    "    N=str(N)\n",
    "    A=[]\n",
    "    for x in N:\n",
    "        A.append(x)\n",
    "    return(A)\n",
    "\n",
    "print(A)"
   ]
  },
  {
   "cell_type": "code",
   "execution_count": null,
   "id": "115ad1cf-2373-411d-9e1d-dc25052e894e",
   "metadata": {},
   "outputs": [],
   "source": [
    "A=bin(7)\n",
    "A=str(A)\n",
    "B=[]\n",
    "for x in A:\n",
    "    B.append(x)\n",
    "print(B)\n",
    "B.remove(\"0\")\n",
    "B.remove(\"b\")\n",
    "print(B)\n",
    "C=[]\n",
    "\n",
    "for x in B:\n",
    "    if x==\"1\":\n",
    "        C.append(True)\n",
    "    else:\n",
    "        C.append(False)\n",
    "\n",
    "\n",
    "print(C)\n",
    "        \n",
    "\n"
   ]
  },
  {
   "cell_type": "code",
   "execution_count": null,
   "id": "8034fa07-8bc2-435c-9b7c-af9065af344e",
   "metadata": {},
   "outputs": [],
   "source": [
    "bin(6)"
   ]
  },
  {
   "cell_type": "code",
   "execution_count": null,
   "id": "eb8adc2a-ad30-4a08-a177-6a287236c9de",
   "metadata": {},
   "outputs": [],
   "source": [
    "S=\"pappamondo\"\n",
    "A=[]\n",
    "for x in S:\n",
    "    A.append(ord(x))\n",
    "\n",
    "z=len(A)\n",
    "y=0\n",
    "print(z)\n",
    "for x in A:\n",
    "    y+=x\n",
    "print(y)\n",
    "print((y)/len(A))\n",
    "\n",
    "    \n"
   ]
  },
  {
   "cell_type": "code",
   "execution_count": null,
   "id": "d673fb57-5cef-4502-9d2d-a0b0a2bf89cc",
   "metadata": {},
   "outputs": [],
   "source": [
    "def mean_str_ord(S):\n",
    "    A=[]\n",
    "    for x in S:\n",
    "        A.append(ord(x))\n",
    "    z=len(A)\n",
    "    y=0\n",
    "    print(z)\n",
    "    for x in A:\n",
    "        y+=x\n",
    "    return(y/len(A))\n",
    "\n",
    "print(mean_str_ord(\"cane\"))"
   ]
  },
  {
   "cell_type": "code",
   "execution_count": null,
   "id": "30c2be1d-be98-45fb-918c-f4bb284a3628",
   "metadata": {},
   "outputs": [],
   "source": [
    "Y=(\"caccabellacazzo\")\n",
    "def mean_str_ord(Y):\n",
    "    A=[]\n",
    "    for x in Y:\n",
    "        A.append(ord(x))\n",
    "    z=len(A)\n",
    "    y=0\n",
    "    print(z)\n",
    "    for x in A:\n",
    "        y+=x\n",
    "    return(y/len(A))\n",
    "\n",
    "print(mean_str_ord(\"cacca\"))\n",
    "\n"
   ]
  },
  {
   "cell_type": "code",
   "execution_count": null,
   "id": "6330b935-be80-42f1-9615-e9262e307725",
   "metadata": {},
   "outputs": [],
   "source": [
    "print(ord(\"a\"))\n",
    "print(ord(\"b\"))\n",
    "print(ord(\"k\"))"
   ]
  },
  {
   "cell_type": "code",
   "execution_count": null,
   "id": "2a351c4a-6b0b-4a28-babe-c0b08e7794a6",
   "metadata": {},
   "outputs": [],
   "source": [
    "def mean_str_ord(Y,k):\n",
    "    A=[]\n",
    "    B=\"\"\n",
    "    k=1\n",
    "    for x in Y:\n",
    "        A.append(ord(x)+k)\n",
    "    for x in A:\n",
    "        B+=(chr(x))\n",
    "\n",
    "    return B\n",
    "\n",
    "print(mean_str_ord(\"abcdef\",1))\n",
    "\n"
   ]
  },
  {
   "cell_type": "code",
   "execution_count": null,
   "id": "09b5c2d9-cde3-42f1-9820-92acc068bd62",
   "metadata": {},
   "outputs": [],
   "source": [
    "L=[\"a\",\"b\"]\n",
    "z=\"\"\n",
    "for x in L:\n",
    "    z+=x\n",
    "\n",
    "print(z)\n",
    "    "
   ]
  },
  {
   "cell_type": "code",
   "execution_count": null,
   "id": "7533c219-d4e0-4b53-ab73-30d477d4a270",
   "metadata": {},
   "outputs": [],
   "source": [
    "T=0\n",
    "T=round(T)\n",
    "print(T)\n",
    "x=1000\n",
    "a=0\n",
    "\n",
    "while True:\n",
    "    if x>T:\n",
    "        x=x//2\n",
    "        a+=1\n",
    "        print(a)\n",
    "    else:\n",
    "        break\n",
    "\n",
    "print(a)\n",
    "\n"
   ]
  },
  {
   "cell_type": "code",
   "execution_count": null,
   "id": "be5fa1f0-5de7-44b5-99d3-f389c2e2bdb0",
   "metadata": {},
   "outputs": [],
   "source": [
    "x=0\n",
    "y=3\n",
    "a=0\n",
    "b=0\n",
    "B=()\n",
    "\n",
    "while True:\n",
    "    if a+b>=x:\n",
    "        while True:\n",
    "            if a+b<y:\n",
    "                B=(a,b)\n",
    "                b+=1\n",
    "                a+=1\n",
    "                print(B)\n",
    "                break\n",
    "    else:\n",
    "        break\n",
    "print(B)"
   ]
  },
  {
   "cell_type": "code",
   "execution_count": 2,
   "id": "4e1e6141-2761-4f3c-91cf-c25b287b31aa",
   "metadata": {},
   "outputs": [
    {
     "name": "stdout",
     "output_type": "stream",
     "text": [
      "[(0, 2), (0, 3), (0, 4), (0, 5), (0, 6), (0, 7), (0, 8), (0, 9), (1, 1), (1, 2), (1, 3), (1, 4), (1, 5), (1, 6), (1, 7), (1, 8), (2, 0), (2, 1), (2, 2), (2, 3), (2, 4), (2, 5), (2, 6), (2, 7), (3, 0), (3, 1), (3, 2), (3, 3), (3, 4), (3, 5), (3, 6), (4, 0), (4, 1), (4, 2), (4, 3), (4, 4), (4, 5), (5, 0), (5, 1), (5, 2), (5, 3), (5, 4), (6, 0), (6, 1), (6, 2), (6, 3), (7, 0), (7, 1), (7, 2), (8, 0), (8, 1), (9, 0)]\n"
     ]
    }
   ],
   "source": [
    "def x_sample2(x,y):\n",
    "    L=[]\n",
    "    for m in range(y+1):\n",
    "        for n in range(y+1):\n",
    "            if (m+n)>x and (m+n)<y:\n",
    "                L.append((m,n))\n",
    "    return(L)\n",
    "\n",
    "print(x_sample2(1,10))"
   ]
  },
  {
   "cell_type": "code",
   "execution_count": null,
   "id": "3f2176ce-5fdc-4b94-8a9f-27e2481abfd1",
   "metadata": {},
   "outputs": [],
   "source": [
    "m+n>x\n",
    "m+n>y\n",
    "m>=0\n",
    "n>=0\n",
    "m**2\n",
    "n**2\n"
   ]
  },
  {
   "cell_type": "code",
   "execution_count": 19,
   "id": "494581a2-b8f8-41b2-9c8f-fcce55dc5d83",
   "metadata": {},
   "outputs": [
    {
     "name": "stdout",
     "output_type": "stream",
     "text": [
      "(841, 0, 29)\n"
     ]
    }
   ],
   "source": [
    "def ex2_sample2_variation(x,y):\n",
    "    maximum=0\n",
    "    max_m=0\n",
    "    max_n=0\n",
    "    for m in range(y+1):\n",
    "        for n in range(y+1):\n",
    "            if (m+n)>x and (m+n)<y and (m**2+n**2>maximum):\n",
    "                maximum=m**2+n**2\n",
    "                max_m=m\n",
    "                max_n=n\n",
    "    return (maximum, max_m, max_n)\n",
    "\n",
    "print(ex2_sample2_variation(10,30))"
   ]
  },
  {
   "cell_type": "code",
   "execution_count": 34,
   "id": "6c1f5b3c-546c-412e-bb46-b9447eebabd6",
   "metadata": {},
   "outputs": [
    {
     "name": "stdout",
     "output_type": "stream",
     "text": [
      "5\n",
      "6\n"
     ]
    }
   ],
   "source": [
    "x=27\n",
    "k=2\n",
    "m=1\n",
    "n=x\n",
    "while True:\n",
    "    if m**k<x:\n",
    "        m+=1\n",
    "    else:\n",
    "        break\n",
    "\n",
    "while True:\n",
    "    if n**k>x:\n",
    "        n-=1\n",
    "    else:\n",
    "        break\n",
    "\n",
    "print(m-1)\n",
    "print(n+1)\n"
   ]
  },
  {
   "cell_type": "code",
   "execution_count": 68,
   "id": "df3771d9-5bdb-4a54-8844-5b4aae6ffe27",
   "metadata": {},
   "outputs": [
    {
     "name": "stdout",
     "output_type": "stream",
     "text": [
      "None\n",
      "[2.34, 'ciao', 23]\n"
     ]
    }
   ],
   "source": [
    "L=[1, 2.34, \"ciao\", True, 23]\n",
    "\n",
    "def alexa(L):\n",
    "    for x in L:\n",
    "        if type(x)!=str:\n",
    "            L.remove(x)\n",
    "\n",
    "print(alexa(L))\n",
    "print(L)"
   ]
  },
  {
   "cell_type": "code",
   "execution_count": 72,
   "id": "65d37799-6420-4247-b011-54d4e5bf575c",
   "metadata": {},
   "outputs": [
    {
     "name": "stdout",
     "output_type": "stream",
     "text": [
      "['ciao']\n"
     ]
    }
   ],
   "source": [
    "def only_string(L):\n",
    "    toRemove=[]\n",
    "    for item in L:\n",
    "        if not type(item)==str:\n",
    "            toRemove.append(item)\n",
    "    for item in toRemove:\n",
    "        L.remove(item)\n",
    "\n",
    "L=[1, 2.34, \"ciao\", True, 23]\n",
    "only_string(L)\n",
    "print(L)"
   ]
  },
  {
   "cell_type": "code",
   "execution_count": 81,
   "id": "2a666119-c26e-4346-87d9-a551ec17d5e4",
   "metadata": {},
   "outputs": [
    {
     "name": "stdout",
     "output_type": "stream",
     "text": [
      "{'A': '2', 'B': 'ciao'}\n",
      "{'A': set(), 'B': set()}\n"
     ]
    }
   ],
   "source": [
    "D={\"A\":\"2\", \"B\":\"ciao\"}\n",
    "print(D)\n",
    "for x in D:\n",
    "    D[x]=set({})\n",
    "\n",
    "print(D)\n"
   ]
  },
  {
   "cell_type": "code",
   "execution_count": null,
   "id": "fba22a6f-7f9d-4f3f-978a-833aae4a1cfb",
   "metadata": {},
   "outputs": [],
   "source": []
  }
 ],
 "metadata": {
  "kernelspec": {
   "display_name": "Python 3 (ipykernel)",
   "language": "python",
   "name": "python3"
  },
  "language_info": {
   "codemirror_mode": {
    "name": "ipython",
    "version": 3
   },
   "file_extension": ".py",
   "mimetype": "text/x-python",
   "name": "python",
   "nbconvert_exporter": "python",
   "pygments_lexer": "ipython3",
   "version": "3.12.0"
  }
 },
 "nbformat": 4,
 "nbformat_minor": 5
}
