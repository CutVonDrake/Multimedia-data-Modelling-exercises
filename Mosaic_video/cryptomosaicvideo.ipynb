{
 "cells": [
  {
   "cell_type": "code",
   "execution_count": 1,
   "id": "a6334b43-8520-446f-9a65-adc87e4b7378",
   "metadata": {},
   "outputs": [],
   "source": [
    "import numpy as np\n",
    "import cv2\n",
    "import matplotlib.pyplot as plt\n",
    "import random\n",
    "import os"
   ]
  },
  {
   "cell_type": "code",
   "execution_count": 2,
   "id": "fa9589dc-6a77-4d8c-83da-4a2daa12551a",
   "metadata": {},
   "outputs": [
    {
     "name": "stdout",
     "output_type": "stream",
     "text": [
      "\n",
      "SOFTWARE LICENSE\n",
      "\n",
      "This software is licensed under the following terms:\n",
      "- You may not distribute it without explicit permission.\n",
      "- Free for non-commercial use only.\n",
      "- You may not modify or reverse engineer the code.\n",
      "\n",
      "(Additional license terms...)\n",
      " \n",
      "Created by: CutVonDrake\n",
      "\n"
     ]
    },
    {
     "name": "stdin",
     "output_type": "stream",
     "text": [
      "\n",
      "Do you accept the terms of the license? (y/n):  y\n"
     ]
    },
    {
     "name": "stdout",
     "output_type": "stream",
     "text": [
      "Welcome to the program!\n"
     ]
    }
   ],
   "source": [
    "LICENSE_TEXT = \"\"\"\n",
    "SOFTWARE LICENSE\n",
    "\n",
    "This software is licensed under the following terms:\n",
    "- You may not distribute it without explicit permission.\n",
    "- Free for non-commercial use only.\n",
    "- You may not modify or reverse engineer the code.\n",
    "\n",
    "(Additional license terms...)\n",
    " \n",
    "Created by: CutVonDrake\n",
    "\"\"\"\n",
    "\n",
    "# Display the license at startup\n",
    "print(LICENSE_TEXT)\n",
    "user_input = input(\"\\nDo you accept the terms of the license? (y/n): \").strip().lower()\n",
    "\n",
    "if user_input != 'y':\n",
    "    print(\"You cannot use the program without accepting the license terms.\")\n",
    "    exit(1)\n",
    "\n",
    "# Proceed with the rest of the program\n",
    "print(\"Welcome to the program!\")"
   ]
  },
  {
   "cell_type": "code",
   "execution_count": 3,
   "id": "65d4efcf-56ab-49c2-b29c-8302ce133bb2",
   "metadata": {},
   "outputs": [
    {
     "name": "stdin",
     "output_type": "stream",
     "text": [
      "Enter a decryption password: minimum 10 characters: mortadella\n",
      "Paste video path: no quotes: C:\\Users\\andre\\Python notebooks\\Media\\video\\battle_game.mp4\n",
      "Cut video in seconds: 5\n",
      "Mosaic complexity: insert a number from 2 to 100 (lower number higher complexity; suggested=10): 15\n"
     ]
    }
   ],
   "source": [
    "# Specifica il percorso del file video\n",
    "#video_path = C:\\Users\\andre\\Python notebooks\\Media\\video\\battle_game.mp4\n",
    "crypto_number=(input('Enter a decryption password: minimum 10 characters:'))\n",
    "crypto_number=int(''.join(str(ord(c)) for c in crypto_number))\n",
    "video_path=input('Paste video path: no quotes:')\n",
    "# Ottieni la cartella in cui si trova il video\n",
    "output_folder = os.path.dirname(video_path)\n",
    "output_video = os.path.join(output_folder, 'mosaic_video.mp4')\n",
    "#specifica quanti secondi del video prendere\n",
    "seconds= int(input('Cut video in seconds:'))\n",
    "n=int(input('Mosaic complexity: insert a number from 2 to 100 (lower number higher complexity; suggested=10):'))"
   ]
  },
  {
   "cell_type": "code",
   "execution_count": 4,
   "id": "e297fe01-bb9c-459a-8c6f-026e36ef7ecb",
   "metadata": {},
   "outputs": [
    {
     "name": "stdout",
     "output_type": "stream",
     "text": [
      "[##################################################] 100.00%\n",
      "Video creato con successo come C:\\Users\\andre\\Python notebooks\\Media\\video\\mosaic_video.mp4\n"
     ]
    }
   ],
   "source": [
    "# Specifica un fattore di scala per il ridimensionamento\n",
    "#resize_scale = 0.5\n",
    "cap = cv2.VideoCapture(video_path)\n",
    "d=0\n",
    "frames=[]\n",
    "while d<(seconds*30):\n",
    "    # Legge un fotogramma dal file video\n",
    "    ret, frame = cap.read()\n",
    "\n",
    "    #Qui sta leggendo il fotogramma quindi per modificare l'immagine fare tutto qui\n",
    "    #frame = cv2.resize(frame, None, fx=0.5, fy=0.5, interpolation=cv2.INTER_AREA)\n",
    "    img=frame.copy()\n",
    "    random.seed(int(f'{crypto_number}'*4))\n",
    "    img=img[0:img.shape[0]//n*n,0:img.shape[1]//n*n,:]\n",
    "    img1=img.copy()\n",
    "    A = [(x, y) for x in range(0,img.shape[0],n) for y in range(0,img.shape[1],n)]\n",
    "    random.shuffle(A)\n",
    "    D=[]\n",
    "    for a in range(0,img.shape[0],n):\n",
    "        for b in range(0,img.shape[1],n):\n",
    "            C=A.pop()\n",
    "            x=C[0]\n",
    "            y=C[1]\n",
    "            img1[a:a+n,b:b+n]=img[x:x+n,y:y+n]\n",
    "    frame=img1.copy()\n",
    "    #FINE MODIFICHE\n",
    "    frames.append(frame)\n",
    "    d+=1\n",
    "    # Aggiorna la barra manuale\n",
    "    percent = (d / (seconds * 30)) * 100\n",
    "    bar = ('#' * int(percent // 2)).ljust(50, '-')\n",
    "    print(f\"\\r[{bar}] {percent:.2f}%\", end='')\n",
    "    # Se non ci sono più fotogrammi, esci dal ciclo\n",
    "    if not ret:\n",
    "        print(\"Fine del video.\")\n",
    "        break\n",
    "    # Percorso della cartella in cui vuoi salvare l'immagine\n",
    "    #output_folder = output_folder\n",
    "    #output_folder = r'C:\\Users\\andre\\Python notebooks\\Media\\frames'\n",
    "    # Nome del file di output\n",
    "    #output_file = os.path.join(output_folder, f'{d:020d}.jpg')\n",
    "    # Salva l'immagine\n",
    "    #cv2.imwrite(output_file, frame)\n",
    "\n",
    "\n",
    "\n",
    "#----------------------------------------------------------------------------------------\n",
    "\n",
    "\n",
    "\n",
    "\n",
    "#Riconverti i frames in video\n",
    "import cv2\n",
    "import os\n",
    "# Carica la prima immagine per ottenere le dimensioni\n",
    "prima_immagine = frames[0]\n",
    "# Ottieni le dimensioni (larghezza, altezza) della prima immagine\n",
    "altezza, larghezza, _ = prima_immagine.shape\n",
    "\n",
    "# Crea l'oggetto VideoWriter per scrivere il video\n",
    "fourcc = cv2.VideoWriter_fourcc(*'mp4v')  # Usa il codec mp4v per creare il video .mp4\n",
    "fps = 30  # Frame rate per il video\n",
    "video_writer = cv2.VideoWriter(output_video, fourcc, fps, (larghezza, altezza))\n",
    "\n",
    "total_frames=len(frames)\n",
    "\n",
    "# Aggiungi ogni immagine al video\n",
    "for img in frames:    \n",
    "    # Carica l'immagine\n",
    "    # Aggiungi l'immagine al video\n",
    "    video_writer.write(img)\n",
    "# Rilascia il VideoWriter e chiudi\n",
    "video_writer.release()\n",
    "print('\\n'f'Video creato con successo come {output_video}')"
   ]
  }
 ],
 "metadata": {
  "kernelspec": {
   "display_name": "Python 3 (ipykernel)",
   "language": "python",
   "name": "python3"
  },
  "language_info": {
   "codemirror_mode": {
    "name": "ipython",
    "version": 3
   },
   "file_extension": ".py",
   "mimetype": "text/x-python",
   "name": "python",
   "nbconvert_exporter": "python",
   "pygments_lexer": "ipython3",
   "version": "3.12.0"
  }
 },
 "nbformat": 4,
 "nbformat_minor": 5
}
