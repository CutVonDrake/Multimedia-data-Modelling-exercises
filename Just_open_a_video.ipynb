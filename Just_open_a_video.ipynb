{
 "cells": [
  {
   "cell_type": "code",
   "execution_count": 13,
   "id": "4c260329-6c62-4e76-9dc0-1fe79a68c54b",
   "metadata": {},
   "outputs": [
    {
     "name": "stdout",
     "output_type": "stream",
     "text": [
      "Premi 'q' per uscire dalla riproduzione.\n",
      "Fine del video.\n",
      "None\n"
     ]
    }
   ],
   "source": [
    "import cv2\n",
    "\n",
    "# Specifica il percorso del file video\n",
    "video_path = 'output.mp4'  # Sostituisci con il percorso del tuo video\n",
    "cap = cv2.VideoCapture(video_path)\n",
    "\n",
    "# Controlla se il video è stato aperto correttamente\n",
    "if not cap.isOpened():\n",
    "    print(\"Errore: Impossibile aprire il file video.\")\n",
    "    exit()\n",
    "\n",
    "print(\"Premi 'q' per uscire dalla riproduzione.\")\n",
    "\n",
    "while True:\n",
    "    # Legge un fotogramma dal file video\n",
    "    ret, frame = cap.read()\n",
    "    \n",
    "\n",
    "    # Se non ci sono più fotogrammi, esci dal ciclo\n",
    "    if not ret:\n",
    "        print(\"Fine del video.\")\n",
    "        break\n",
    "\n",
    "    # Mostra il fotogramma\n",
    "    cv2.imshow('Riproduzione video', frame)\n",
    "\n",
    "    # Esci dal ciclo premendo 'q'\n",
    "    if cv2.waitKey(30) & 0xFF == ord('q'):  # 30 ms di ritardo tra i frame\n",
    "        break\n",
    "print(frame)\n",
    "# Rilascia il video e chiudi tutte le finestre\n",
    "cap.release()\n",
    "cv2.destroyAllWindows()\n"
   ]
  },
  {
   "cell_type": "code",
   "execution_count": 12,
   "id": "44a91c09-3500-476c-b394-7454db9fdc01",
   "metadata": {},
   "outputs": [
    {
     "name": "stdout",
     "output_type": "stream",
     "text": [
      "None\n"
     ]
    }
   ],
   "source": [
    "print(frame)"
   ]
  }
 ],
 "metadata": {
  "kernelspec": {
   "display_name": "Python 3 (ipykernel)",
   "language": "python",
   "name": "python3"
  },
  "language_info": {
   "codemirror_mode": {
    "name": "ipython",
    "version": 3
   },
   "file_extension": ".py",
   "mimetype": "text/x-python",
   "name": "python",
   "nbconvert_exporter": "python",
   "pygments_lexer": "ipython3",
   "version": "3.12.0"
  }
 },
 "nbformat": 4,
 "nbformat_minor": 5
}
