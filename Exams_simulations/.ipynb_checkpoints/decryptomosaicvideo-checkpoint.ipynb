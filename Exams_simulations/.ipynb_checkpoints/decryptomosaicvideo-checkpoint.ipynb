{
 "cells": [
  {
   "cell_type": "code",
   "execution_count": 1,
   "id": "ad64b47b-6fb2-47ee-8b07-359628bb3dd1",
   "metadata": {},
   "outputs": [],
   "source": [
    "import numpy as np\n",
    "import cv2\n",
    "import matplotlib.pyplot as plt\n",
    "import random\n",
    "import os\n",
    "import glob"
   ]
  },
  {
   "cell_type": "code",
   "execution_count": 2,
   "id": "6b8bc866-15c3-4532-9800-b80b29a155a2",
   "metadata": {},
   "outputs": [
    {
     "name": "stdin",
     "output_type": "stream",
     "text": [
      "Enter the decryption password: minimum 10 characters mor\n",
      "Paste video path: no quotes C:\\Users\\andre\\Python notebooks\\Media\\video\\mosaic_video.mp4\n",
      "Mosaic complexity: insert a number from 2 to 100 (lower number higher complexity 50\n"
     ]
    }
   ],
   "source": [
    "# Specifica il percorso del file video\n",
    "#video_path = \"C:\\Users\\andre\\Python notebooks\\Media\\video\\mosaic_video.mp4\"\n",
    "crypto_number=(input('Enter the decryption password: minimum 10 characters'))\n",
    "crypto_number=int(''.join(str(ord(c)) for c in crypto_number))\n",
    "video_path=input('Paste video path: no quotes')\n",
    "# Ottieni la cartella in cui si trova il video\n",
    "output_folder = os.path.dirname(video_path)\n",
    "output_video = os.path.join(output_folder, 'demosaic_video.mp4')\n",
    "# Specifica un fattore di scala per il ridimensionamento\n",
    "#specifica quanti secondi del video prendere\n",
    "n=int(input('Mosaic complexity: insert a number from 2 to 100 (lower number higher complexity'))"
   ]
  },
  {
   "cell_type": "code",
   "execution_count": 3,
   "id": "ff35965c-4eca-4151-b961-fa8a888ef9b9",
   "metadata": {},
   "outputs": [
    {
     "name": "stdout",
     "output_type": "stream",
     "text": [
      "Video creato con successo come C:\\Users\\andre\\Python notebooks\\Media\\video\\demosaic_video.mp4\n"
     ]
    }
   ],
   "source": [
    "cap = cv2.VideoCapture(video_path)\n",
    "d=0\n",
    "frames=[]\n",
    "seconds=5\n",
    "while d<(seconds*30):\n",
    "    # Legge un fotogramma dal file video\n",
    "    ret, frame = cap.read()\n",
    "    #MODIFICHE\n",
    "    img=frame.copy()\n",
    "    img1=frame.copy()\n",
    "    random.seed(int(f'{crypto_number}'*4))\n",
    "    B = [(x, y) for x in range(0,img.shape[0],n) for y in range(0,img.shape[1],n)]\n",
    "    D = B.copy()\n",
    "    random.shuffle(B)\n",
    "    B=B[::-1]\n",
    "    for a in range(0,img.shape[0],n):\n",
    "        for b in range(0,img.shape[1],n):\n",
    "            C=B.index((a,b))\n",
    "            x=D[C][0]\n",
    "            y=D[C][1]\n",
    "            img1[a:a+n,b:b+n]=img[x:x+n,y:y+n]\n",
    "    frame=img1.copy()\n",
    "    #FINE MODIFICHE\n",
    "    frames.append(frame)\n",
    "    d+=1\n",
    "    # Se non ci sono più fotogrammi, esci dal ciclo\n",
    "    if not ret:\n",
    "        print(\"Fine del video.\")\n",
    "        break\n",
    "\n",
    "#----------------------------------------------------------------------------------------\n",
    "\n",
    "\n",
    "\n",
    "\n",
    "#Riconverti i frames in video\n",
    "import cv2\n",
    "import os\n",
    "# Carica la prima immagine per ottenere le dimensioni\n",
    "prima_immagine = frames[0]\n",
    "# Ottieni le dimensioni (larghezza, altezza) della prima immagine\n",
    "altezza, larghezza, _ = prima_immagine.shape\n",
    "\n",
    "# Crea l'oggetto VideoWriter per scrivere il video\n",
    "fourcc = cv2.VideoWriter_fourcc(*'mp4v')  # Usa il codec mp4v per creare il video .mp4\n",
    "fps = 30  # Frame rate per il video\n",
    "video_writer = cv2.VideoWriter(output_video, fourcc, fps, (larghezza, altezza))\n",
    "\n",
    "# Aggiungi ogni immagine al video\n",
    "for img in frames:    \n",
    "    # Carica l'immagine\n",
    "    # Aggiungi l'immagine al video\n",
    "    video_writer.write(img)\n",
    "\n",
    "# Rilascia il VideoWriter e chiudi\n",
    "video_writer.release()\n",
    "print(f'Video creato con successo come {output_video}')"
   ]
  }
 ],
 "metadata": {
  "kernelspec": {
   "display_name": "Python 3 (ipykernel)",
   "language": "python",
   "name": "python3"
  },
  "language_info": {
   "codemirror_mode": {
    "name": "ipython",
    "version": 3
   },
   "file_extension": ".py",
   "mimetype": "text/x-python",
   "name": "python",
   "nbconvert_exporter": "python",
   "pygments_lexer": "ipython3",
   "version": "3.12.0"
  }
 },
 "nbformat": 4,
 "nbformat_minor": 5
}
