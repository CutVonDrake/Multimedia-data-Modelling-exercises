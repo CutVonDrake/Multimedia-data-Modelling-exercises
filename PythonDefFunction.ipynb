{
 "cells": [
  {
   "cell_type": "markdown",
   "id": "f898136f-c298-4978-9fff-3d1e8e882afd",
   "metadata": {},
   "source": [
    "# Function method"
   ]
  },
  {
   "cell_type": "code",
   "execution_count": 1,
   "id": "bbae38c2-ec88-41c5-ba38-96d277b2f1e1",
   "metadata": {},
   "outputs": [
    {
     "name": "stdout",
     "output_type": "stream",
     "text": [
      "0\n",
      "1\n",
      "4\n",
      "9\n",
      "16\n",
      "25\n",
      "36\n",
      "49\n",
      "64\n",
      "81\n"
     ]
    }
   ],
   "source": [
    "#print the squares of the first 10 non negative integers\n",
    "\n",
    "for number in range(10): #10 is called \"magic number\", use magic number only if necessary\n",
    "    print(number**2)"
   ]
  },
  {
   "cell_type": "code",
   "execution_count": 3,
   "id": "6a8b42c0-fedb-4738-935a-094abc07da44",
   "metadata": {},
   "outputs": [
    {
     "name": "stdout",
     "output_type": "stream",
     "text": [
      "169\n",
      "196\n",
      "225\n",
      "256\n",
      "289\n",
      "324\n",
      "361\n",
      "400\n",
      "441\n",
      "484\n",
      "529\n",
      "576\n",
      "625\n",
      "676\n",
      "729\n",
      "784\n",
      "841\n",
      "900\n",
      "961\n",
      "1024\n",
      "1089\n",
      "1156\n",
      "1225\n",
      "1296\n",
      "1369\n",
      "1444\n",
      "1521\n",
      "1600\n",
      "1681\n",
      "1764\n",
      "1849\n"
     ]
    }
   ],
   "source": [
    "\"\"\"\n",
    "i wish to compute squares in arbitrary range of integers\n",
    "\"\"\"\n",
    "#declare the boundaries of the range\n",
    "BEGIN=13\n",
    "END=43\n",
    "# convention variables that are named in CAPITAL\n",
    "# typically do not change during the execution of the code\n",
    "#sometimes qe call them \"constant\"\n",
    "\n",
    "for n in range (BEGIN, END+1):\n",
    "    print(n**2)"
   ]
  },
  {
   "cell_type": "code",
   "execution_count": 14,
   "id": "f184a39d-2d0a-48df-8e61-38e085051f62",
   "metadata": {},
   "outputs": [
    {
     "name": "stdout",
     "output_type": "stream",
     "text": [
      "the square of 5 is 25\n",
      "the square of 6 is 36\n",
      "the square of 7 is 49\n",
      "the square of 8 is 64\n",
      "the square of 9 is 81\n",
      "the square of 10 is 100\n",
      "the square of 11 is 121\n",
      "the square of 12 is 144\n",
      "the square of 13 is 169\n",
      "the square of 14 is 196\n",
      "the square of 15 is 225\n",
      "the square of 16 is 256\n",
      "the square of 17 is 289\n",
      "the square of 18 is 324\n",
      "the square of 19 is 361\n",
      "the square of 20 is 400\n",
      "the square of 21 is 441\n",
      "the square of 1 is 1\n",
      "the square of 2 is 4\n",
      "the square of 3 is 9\n",
      "the square of 4 is 16\n"
     ]
    },
    {
     "ename": "NameError",
     "evalue": "name 'begin' is not defined",
     "output_type": "error",
     "traceback": [
      "\u001b[1;31m---------------------------------------------------------------------------\u001b[0m",
      "\u001b[1;31mNameError\u001b[0m                                 Traceback (most recent call last)",
      "Cell \u001b[1;32mIn[14], line 10\u001b[0m\n\u001b[0;32m      7\u001b[0m listSquares(\u001b[38;5;241m5\u001b[39m,\u001b[38;5;241m21\u001b[39m) \u001b[38;5;66;03m#the value 5 and 21 are \"actual parameters\"\u001b[39;00m\n\u001b[0;32m      8\u001b[0m listSquares(\u001b[38;5;241m1\u001b[39m,\u001b[38;5;241m4\u001b[39m)\n\u001b[1;32m---> 10\u001b[0m \u001b[38;5;28mprint\u001b[39m(\u001b[43mbegin\u001b[49m)\n",
      "\u001b[1;31mNameError\u001b[0m: name 'begin' is not defined"
     ]
    }
   ],
   "source": [
    "# introduce a function\n",
    "\n",
    "def listSquares(begin,end): #not written in capital becouse i can use them everytime I change their value\n",
    "    for n in range(begin, end+1):\n",
    "        print(\"the square of\", n, \"is\", n**2) \n",
    "#python interpreter extrapulates this information and save this information in his storage, so now we can use it\n",
    "listSquares(5,21) #the value 5 and 21 are \"actual parameters\"\n",
    "listSquares(1,4)\n",
    "\n",
    "print(begin)\n"
   ]
  },
  {
   "cell_type": "code",
   "execution_count": 17,
   "id": "90f587df-cf7d-43ec-86ef-005b4bc99c97",
   "metadata": {},
   "outputs": [
    {
     "name": "stdout",
     "output_type": "stream",
     "text": [
      "0\n",
      "7\n",
      "14\n",
      "21\n",
      "28\n",
      "35\n"
     ]
    }
   ],
   "source": [
    "# another example\n",
    "#define a \"constant\"\n",
    "STEP=7\n",
    "def countingByStep(begin, end):\n",
    "    for i in range(begin, end+1, STEP):\n",
    "        print(i)\n",
    "\n",
    "countingByStep(0,38)"
   ]
  },
  {
   "cell_type": "code",
   "execution_count": 18,
   "id": "52d16dbf-8752-4506-9799-e6bca5cc4f77",
   "metadata": {},
   "outputs": [
    {
     "name": "stdout",
     "output_type": "stream",
     "text": [
      "1\n",
      "8\n",
      "None\n"
     ]
    }
   ],
   "source": [
    "# the function above do not PRODUCE ANY VALUE\n",
    "#they only do things\n",
    "print(countingByStep(1,10)) #don't productive function"
   ]
  },
  {
   "cell_type": "code",
   "execution_count": 36,
   "id": "52e0a9c0-48c2-4687-9480-d462479c780e",
   "metadata": {},
   "outputs": [
    {
     "ename": "SyntaxError",
     "evalue": "unterminated string literal (detected at line 12) (2144205931.py, line 12)",
     "output_type": "error",
     "traceback": [
      "\u001b[1;36m  Cell \u001b[1;32mIn[36], line 12\u001b[1;36m\u001b[0m\n\u001b[1;33m    print(cube(\"ciao))\u001b[0m\n\u001b[1;37m               ^\u001b[0m\n\u001b[1;31mSyntaxError\u001b[0m\u001b[1;31m:\u001b[0m unterminated string literal (detected at line 12)\n"
     ]
    }
   ],
   "source": [
    "#example of function that are productive\n",
    "# they produce a value\n",
    "\n",
    "\n",
    "def cube(n):\n",
    "    return n**3\n",
    "\n",
    "cube(2)\n",
    "print(cube(2)) #Jupyter give the value of the last expression\n",
    "print(cube(True))\n",
    "print(cube(3.14))\n",
    "print(cube(\"ciao))"
   ]
  },
  {
   "cell_type": "code",
   "execution_count": 43,
   "id": "01b41d3f-ee27-4d3f-9ef2-1c9341b210b8",
   "metadata": {},
   "outputs": [
    {
     "name": "stdout",
     "output_type": "stream",
     "text": [
      "1\n",
      "3\n",
      "5\n",
      "7\n",
      "9\n",
      "1\n",
      "2\n",
      "3\n",
      "4\n",
      "5\n",
      "6\n",
      "7\n",
      "8\n",
      "9\n",
      "10\n"
     ]
    }
   ],
   "source": [
    "#function parameters may have default values\n",
    "\n",
    "#the following function counts from begin to end by 1 unless you ask for a different step\n",
    "\n",
    "def counting(begin,end,step=1):\n",
    "    for i in range(begin, end+1, step):\n",
    "        print(i)\n",
    "\n",
    "counting(1,10,2)\n",
    "counting(1,10)"
   ]
  },
  {
   "cell_type": "code",
   "execution_count": 44,
   "id": "7bd5f687-52a6-4d7c-a384-e96b304d3abe",
   "metadata": {},
   "outputs": [
    {
     "name": "stdout",
     "output_type": "stream",
     "text": [
      "Help on class range in module builtins:\n",
      "\n",
      "class range(object)\n",
      " |  range(stop) -> range object\n",
      " |  range(start, stop[, step]) -> range object\n",
      " |\n",
      " |  Return an object that produces a sequence of integers from start (inclusive)\n",
      " |  to stop (exclusive) by step.  range(i, j) produces i, i+1, i+2, ..., j-1.\n",
      " |  start defaults to 0, and stop is omitted!  range(4) produces 0, 1, 2, 3.\n",
      " |  These are exactly the valid indices for a list of 4 elements.\n",
      " |  When step is given, it specifies the increment (or decrement).\n",
      " |\n",
      " |  Methods defined here:\n",
      " |\n",
      " |  __bool__(self, /)\n",
      " |      True if self else False\n",
      " |\n",
      " |  __contains__(self, key, /)\n",
      " |      Return bool(key in self).\n",
      " |\n",
      " |  __eq__(self, value, /)\n",
      " |      Return self==value.\n",
      " |\n",
      " |  __ge__(self, value, /)\n",
      " |      Return self>=value.\n",
      " |\n",
      " |  __getattribute__(self, name, /)\n",
      " |      Return getattr(self, name).\n",
      " |\n",
      " |  __getitem__(self, key, /)\n",
      " |      Return self[key].\n",
      " |\n",
      " |  __gt__(self, value, /)\n",
      " |      Return self>value.\n",
      " |\n",
      " |  __hash__(self, /)\n",
      " |      Return hash(self).\n",
      " |\n",
      " |  __iter__(self, /)\n",
      " |      Implement iter(self).\n",
      " |\n",
      " |  __le__(self, value, /)\n",
      " |      Return self<=value.\n",
      " |\n",
      " |  __len__(self, /)\n",
      " |      Return len(self).\n",
      " |\n",
      " |  __lt__(self, value, /)\n",
      " |      Return self<value.\n",
      " |\n",
      " |  __ne__(self, value, /)\n",
      " |      Return self!=value.\n",
      " |\n",
      " |  __reduce__(...)\n",
      " |      Helper for pickle.\n",
      " |\n",
      " |  __repr__(self, /)\n",
      " |      Return repr(self).\n",
      " |\n",
      " |  __reversed__(...)\n",
      " |      Return a reverse iterator.\n",
      " |\n",
      " |  count(...)\n",
      " |      rangeobject.count(value) -> integer -- return number of occurrences of value\n",
      " |\n",
      " |  index(...)\n",
      " |      rangeobject.index(value) -> integer -- return index of value.\n",
      " |      Raise ValueError if the value is not present.\n",
      " |\n",
      " |  ----------------------------------------------------------------------\n",
      " |  Static methods defined here:\n",
      " |\n",
      " |  __new__(*args, **kwargs) from builtins.type\n",
      " |      Create and return a new object.  See help(type) for accurate signature.\n",
      " |\n",
      " |  ----------------------------------------------------------------------\n",
      " |  Data descriptors defined here:\n",
      " |\n",
      " |  start\n",
      " |\n",
      " |  step\n",
      " |\n",
      " |  stop\n",
      "\n"
     ]
    }
   ],
   "source": [
    "help(range)"
   ]
  }
 ],
 "metadata": {
  "kernelspec": {
   "display_name": "Python 3 (ipykernel)",
   "language": "python",
   "name": "python3"
  },
  "language_info": {
   "codemirror_mode": {
    "name": "ipython",
    "version": 3
   },
   "file_extension": ".py",
   "mimetype": "text/x-python",
   "name": "python",
   "nbconvert_exporter": "python",
   "pygments_lexer": "ipython3",
   "version": "3.12.0"
  }
 },
 "nbformat": 4,
 "nbformat_minor": 5
}
