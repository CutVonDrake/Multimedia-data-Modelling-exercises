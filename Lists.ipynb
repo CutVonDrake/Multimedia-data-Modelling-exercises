{
 "cells": [
  {
   "cell_type": "markdown",
   "id": "7d288bef-a509-4183-9f7f-91225930025d",
   "metadata": {
    "jupyter": {
     "source_hidden": true
    }
   },
   "source": [
    "## EXERCISE"
   ]
  },
  {
   "cell_type": "code",
   "execution_count": null,
   "id": "d14a44e2-8574-4199-9797-5b4051cfa940",
   "metadata": {},
   "outputs": [],
   "source": [
    "L1= [1,5]\n",
    "L1\n",
    "L2 =(1,2,6)\n"
   ]
  },
  {
   "cell_type": "code",
   "execution_count": null,
   "id": "e32b0a57-0242-47f5-ac3a-b772a2b5c331",
   "metadata": {},
   "outputs": [],
   "source": [
    "T=(1,2,9,9,3,7,7)\n",
    "dir(T)\n",
    "print(T.count(2))\n",
    "print(T.count(0))\n",
    "print(T.index(1))\n",
    "print(T.index(7))"
   ]
  },
  {
   "cell_type": "code",
   "execution_count": null,
   "id": "73b4bc5a-d391-4203-be03-03f9fe454a84",
   "metadata": {},
   "outputs": [],
   "source": [
    "L2=[]\n",
    "for x in range(10):\n",
    "    L2.append(x)\n",
    "print(L2)\n",
    "\n",
    "L3=[x for x in range(10)]\n",
    "print(L3)"
   ]
  },
  {
   "cell_type": "code",
   "execution_count": null,
   "id": "fb5279a8-e9a3-4911-8a54-20b7862840eb",
   "metadata": {},
   "outputs": [],
   "source": [
    "M1=[1,3,5,7,9,11,13,15,17,19] # dumb way!\n",
    "\n",
    "M2=[]\n",
    "for x in range(20):\n",
    "    if x%2==1:\n",
    "        M2.append(x)\n",
    "print(M2)\n",
    "\n",
    "#smartest way\n",
    "M3=[x for x in range(20) if x%2==1]\n",
    "print(M3)\n",
    "\n"
   ]
  },
  {
   "cell_type": "code",
   "execution_count": null,
   "id": "a416d68a-24df-4ae3-9b57-4d792e649e88",
   "metadata": {
    "scrolled": true
   },
   "outputs": [],
   "source": [
    "s=[\"nel mezzo del cammin di nostra vita mi ritrovai per una selva oscura\"]\n",
    "L=s.split()\n",
    "print(L)\n",
    "for i in range(len(L)):\n",
    "    if L[i] == 'a' or 'c':\n",
    "        L[i] = 1\n",
    "print(L)"
   ]
  },
  {
   "cell_type": "code",
   "execution_count": null,
   "id": "c9993fef-b908-424f-a11e-c05e20a32b78",
   "metadata": {},
   "outputs": [],
   "source": [
    "s=\"nel mezzo del cammin di nostra vita mi ritrovai per una selva oscura\"\n",
    "t=input(\"qual è la frase?\")\n",
    "def countVowels(s):\n",
    "    count=0\n",
    "    for c in s:\n",
    "        if c in \"aeiouy\":\n",
    "            count+=1\n",
    "    return count\n",
    "\n",
    "countVowels(t)"
   ]
  },
  {
   "cell_type": "code",
   "execution_count": null,
   "id": "17a96cf3-ab15-4b41-a8a7-bc2ff55ecd94",
   "metadata": {},
   "outputs": [],
   "source": [
    "# List definition\n",
    "my_list = ['a', 'b', 'c', 'a', 'd', 'e', 'a']\n",
    "\n",
    "# Replace all occurrences of 'a' with the number 1.\n",
    "for i in range(len(my_list)):\n",
    "    if my_list[i] == 'a':\n",
    "        my_list[i] = 1\n",
    "\n",
    "# Sprint list updated\n",
    "print(\"Lista dopo la sostituzione:\", my_list)"
   ]
  },
  {
   "cell_type": "code",
   "execution_count": null,
   "id": "c32fdd33-ff78-4a65-aa8b-a3441a5745e3",
   "metadata": {},
   "outputs": [],
   "source": [
    "s=\"nel mezzo del cammin di nostra vita mi ritrovai per una selva oscura\"\n",
    "#t=input(\"qual è la frase?\")\n",
    "for c in s:\n",
    "    if c in \"aeiouy\":\n",
    "        \n",
    "\n",
    "print(s)"
   ]
  },
  {
   "cell_type": "code",
   "execution_count": null,
   "id": "725f4f94-d3e0-4a66-860a-cfd1c5228b98",
   "metadata": {},
   "outputs": [],
   "source": [
    "s=\"nel mezzo del cammin di nostra vita mi ritrovai per una selva oscura\"\n",
    "t=s.replace(\"a\", \"_\").replace(\"e\",\"_\").replace(\"i\",\"_\").replace(\"o\",\"_\").replace(\"u\",\"_\").replace(\"y\",\"_\")\n",
    "print(t)"
   ]
  },
  {
   "cell_type": "code",
   "execution_count": null,
   "id": "dca4dda8-47b5-4411-90c5-2cc7124bc5b1",
   "metadata": {},
   "outputs": [],
   "source": [
    "s=\"nel mezzo del cammin di nostra vita mi ritrovai per una selva oscura\"\n",
    "#t=input(\"qual è la frase?\")\n",
    "for c in s:\n",
    "    "
   ]
  },
  {
   "cell_type": "code",
   "execution_count": null,
   "id": "f4785cae-b86a-482f-8a0c-685f14ad9238",
   "metadata": {},
   "outputs": [],
   "source": [
    "# Definizione di una frase\n",
    "s=\"nel mezzo del cammin di nostra vita mi ritrovai per una selva oscura\"\n",
    "\n",
    "# Sostituzione di una lettera nella frase utilizzando un ciclo\n",
    "t = \"\"\n",
    "for i in s:\n",
    "    if i == 'a':\n",
    "        t += 'o'\n",
    "    else:\n",
    "        t += i\n",
    "\n",
    "# Stampa della nuova frase\n",
    "print(t)"
   ]
  },
  {
   "cell_type": "code",
   "execution_count": null,
   "id": "9067475c-d933-4c8b-90c0-64825114d7bf",
   "metadata": {},
   "outputs": [],
   "source": [
    "# Definizione di una frase\n",
    "s=\"nel mezzo del cammin di nostra vita mi ritrovai per una selva oscura\"\n",
    "\n",
    "# Sostituzione di una lettera nella frase utilizzando un ciclo\n",
    "t = \"\"\n",
    "\n",
    "for i in s:\n",
    "   if i in \"aeiouy\":\n",
    "        t += '_'\n",
    "   else:\n",
    "        t += i\n",
    "\n",
    "# Stampa della nuova frase\n",
    "print(t)"
   ]
  },
  {
   "cell_type": "code",
   "execution_count": 10,
   "id": "6aae35bb-d6ed-4bcd-951e-cdeab5c37e87",
   "metadata": {},
   "outputs": [
    {
     "name": "stdin",
     "output_type": "stream",
     "text": [
      "scrivi la tua frase a\n"
     ]
    },
    {
     "name": "stdout",
     "output_type": "stream",
     "text": [
      "_\n"
     ]
    }
   ],
   "source": [
    "# Definizione di una frase\n",
    "#s=input(\"nel mezzo del cammin di nostra vita mi ritrovai per una selva oscura\")\n",
    "s=input(\"scrivi la tua frase\")\n",
    "\n",
    "# Sostituzione di una lettera nella frase utilizzando un ciclo\n",
    "t = \"\"\n",
    "\n",
    "for i in s:\n",
    "   if i in \"aeiouy\":\n",
    "        t += '_'\n",
    "   elif i == \" \":\n",
    "       t += \" \"\n",
    "   else:\n",
    "        t += \"*\"\n",
    "\n",
    "# Stampa della nuova frase\n",
    "print(t)"
   ]
  },
  {
   "cell_type": "code",
   "execution_count": null,
   "id": "27c44fe9-aab3-484b-979d-ae0233118daa",
   "metadata": {},
   "outputs": [],
   "source": [
    "t=input(\"qual è la frase?\")"
   ]
  },
  {
   "cell_type": "code",
   "execution_count": 5,
   "id": "ecd1c6d7-a165-4e55-81bd-19f18c91aeee",
   "metadata": {},
   "outputs": [
    {
     "name": "stdin",
     "output_type": "stream",
     "text": [
      "Scrivimi la tua frase domani ci vado\n"
     ]
    },
    {
     "name": "stdout",
     "output_type": "stream",
     "text": [
      "epnboj!dj!wbep\n"
     ]
    }
   ],
   "source": [
    "s=input(\"Scrivimi la tua frase\")\n",
    "\n",
    "t=\"\"\n",
    "\n",
    "for i in s:\n",
    "    t += chr(ord(i) + 1)\n",
    "\n",
    "print(t)"
   ]
  },
  {
   "cell_type": "code",
   "execution_count": 6,
   "id": "abd4a17a-0bef-44ff-a741-1ff1de0918c2",
   "metadata": {},
   "outputs": [
    {
     "name": "stdin",
     "output_type": "stream",
     "text": [
      "Scrivimi la tua frase epnboj!dj!wbep\n"
     ]
    },
    {
     "name": "stdout",
     "output_type": "stream",
     "text": [
      "domani ci vado\n"
     ]
    }
   ],
   "source": [
    "s=input(\"Scrivimi la tua frase\")\n",
    "\n",
    "t=\"\"\n",
    "\n",
    "for i in s:\n",
    "    t += chr(ord(i) - 1)\n",
    "\n",
    "print(t)"
   ]
  },
  {
   "cell_type": "code",
   "execution_count": null,
   "id": "e0358835-5ba8-4cc4-9f8d-2437b7c31ea9",
   "metadata": {},
   "outputs": [],
   "source": []
  }
 ],
 "metadata": {
  "kernelspec": {
   "display_name": "Python 3 (ipykernel)",
   "language": "python",
   "name": "python3"
  },
  "language_info": {
   "codemirror_mode": {
    "name": "ipython",
    "version": 3
   },
   "file_extension": ".py",
   "mimetype": "text/x-python",
   "name": "python",
   "nbconvert_exporter": "python",
   "pygments_lexer": "ipython3",
   "version": "3.12.0"
  }
 },
 "nbformat": 4,
 "nbformat_minor": 5
}
