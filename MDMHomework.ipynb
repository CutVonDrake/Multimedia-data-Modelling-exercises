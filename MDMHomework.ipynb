{
 "cells": [
  {
   "cell_type": "code",
   "execution_count": null,
   "id": "395da71d-5e34-4ca4-b2e4-0af853571cd1",
   "metadata": {},
   "outputs": [],
   "source": [
    "a, b = 0, 1\n",
    "while True:\n",
    "    if a < 100:\n",
    "        print(a)\n",
    "        a, b = b, a+b\n",
    "    else:\n",
    "        break"
   ]
  },
  {
   "cell_type": "code",
   "execution_count": null,
   "id": "9cd53fa0-bd23-41ef-98fe-d2894eb21f8a",
   "metadata": {},
   "outputs": [],
   "source": [
    "x = int(input(\"please enter an integer: \"))\n",
    "\n",
    "print(\"your number is:\", x)\n",
    "print(f\"your number is: {x}\")"
   ]
  },
  {
   "cell_type": "code",
   "execution_count": null,
   "id": "8834ac5a-4775-468e-bf41-f987034d2fb5",
   "metadata": {},
   "outputs": [],
   "source": [
    "for x in range(2, 10):\n",
    "    for n in range(2, x):\n",
    "        if x%n==0:\n",
    "            print(x, \"equal\", n, \"*\", x//n)\n",
    "            break\n",
    "    else:\n",
    "        print(x, \"is a prime number\")"
   ]
  },
  {
   "cell_type": "code",
   "execution_count": null,
   "id": "3c885bed-9e30-4186-a9c9-d7c0863b3fe0",
   "metadata": {},
   "outputs": [],
   "source": [
    "def fib(n):\n",
    "    a, b = 0,1\n",
    "    while a<n:\n",
    "        print(a, end=',')\n",
    "        a, b = b, a+b\n",
    "    #print()\n",
    "\n",
    "fib(100)"
   ]
  },
  {
   "cell_type": "code",
   "execution_count": null,
   "id": "ad63a5fc-6e82-40f3-988c-c5b66d79878d",
   "metadata": {
    "scrolled": true
   },
   "outputs": [],
   "source": [
    "def ask_ok(prompt, retries=4, reminder='please try again!'):\n",
    "    while True:\n",
    "        ok=input(prompt)\n",
    "        if ok in ('y', 'ye', 'yes'):\n",
    "            return True\n",
    "        if ok in ('n', 'no', 'nop', 'nope'):\n",
    "            return False\n",
    "        retries = retries -1\n",
    "        if retries <0:\n",
    "            raise ValueError('invalid user response')\n",
    "        print(reminder)\n",
    "\n",
    "ask_ok('are you good?', 2, \"knfkbk\")"
   ]
  },
  {
   "cell_type": "code",
   "execution_count": null,
   "id": "33cf5e93-42bd-4084-bd8f-bc66870a5970",
   "metadata": {},
   "outputs": [],
   "source": [
    "iterable= [1,2,3]\n",
    "list = [1,2,3,4,5]\n",
    "list.append(10)\n",
    "print(list)\n",
    "list.extend(iterable)\n",
    "print(list)\n",
    "list.insert(3, iterable)\n",
    "print(list)\n",
    "list[0:0]=[29]\n",
    "print(list)\n",
    "list[len(list):]=[32]\n",
    "print(list)\n",
    "#del(list[:])\n",
    "print(list)\n",
    "\n",
    "list.pop(3)\n",
    "print(list)"
   ]
  },
  {
   "cell_type": "code",
   "execution_count": null,
   "id": "228c55bb-e037-4e7d-83be-22513e49c8e6",
   "metadata": {},
   "outputs": [],
   "source": [
    "x= 1, 2\n",
    "x"
   ]
  },
  {
   "cell_type": "code",
   "execution_count": null,
   "id": "fb35e9c1-f93b-4dc4-a11e-1f677d28a316",
   "metadata": {},
   "outputs": [],
   "source": [
    "from collections import deque\n",
    "queue= deque([\"Eric\", \"John\", \"Michael\"])\n",
    "queue.append(\"Terry\")\n",
    "queue.append(\"Graham\")\n",
    "queue.popleft()\n",
    "queue"
   ]
  },
  {
   "cell_type": "code",
   "execution_count": null,
   "id": "2b4456b9-d34b-40d3-b4bb-a98febf9f334",
   "metadata": {},
   "outputs": [],
   "source": [
    "#LIST COMPREHENSION\n",
    "\n",
    "squares= []\n",
    "for x in range(10):\n",
    "    squares.append(x**2)\n",
    "\n",
    "squares"
   ]
  },
  {
   "cell_type": "code",
   "execution_count": null,
   "id": "3ead3ff4-b349-4b04-bdb3-03b5cf73eb97",
   "metadata": {},
   "outputs": [],
   "source": [
    "squares = [x**2 for x in range(10)]\n",
    "\n",
    "squares"
   ]
  },
  {
   "cell_type": "code",
   "execution_count": null,
   "id": "3f1307b3-eaf9-4ba4-a9f6-e2f9bf7fa7fe",
   "metadata": {},
   "outputs": [],
   "source": [
    "[(x,y) for x in [1,2,3] for y in [3,1,4] if x!=y]"
   ]
  },
  {
   "cell_type": "code",
   "execution_count": null,
   "id": "4f212427-5d8d-4dd9-b56a-186071de7eda",
   "metadata": {},
   "outputs": [],
   "source": [
    "combs = []\n",
    "for x in [1,2,3]:\n",
    "    for y in [3,1,4]:\n",
    "        if x!=y:\n",
    "            combs.append((x,y))\n",
    "\n",
    "combs"
   ]
  },
  {
   "cell_type": "code",
   "execution_count": null,
   "id": "9c423774-649c-40b1-8d81-5a2abec7f2e0",
   "metadata": {},
   "outputs": [],
   "source": [
    "a = [1,2,3,4,5,6,7,8,9]\n",
    "del(a[2:])\n",
    "a"
   ]
  },
  {
   "cell_type": "code",
   "execution_count": null,
   "id": "3aae33e8-cdd6-42bb-82b6-cf915f86d6c6",
   "metadata": {},
   "outputs": [],
   "source": [
    "tel = {'jack': 4098, 'sape':4139}\n",
    "tel['guido']=4127\n",
    "tel\n",
    "#del(tel['sape'])\n",
    "tel\n",
    "list(tel)\n",
    "sorted(tel)\n",
    "'guido' in tel\n",
    "'bobo' in tel\n",
    "tel"
   ]
  },
  {
   "cell_type": "code",
   "execution_count": null,
   "id": "0a8a7e62-c5f6-4590-a590-9d780665b3bf",
   "metadata": {},
   "outputs": [],
   "source": [
    "a=dict([('sape', 4139), ('guido', 4127), ('jack', 4098)])\n",
    "a"
   ]
  },
  {
   "cell_type": "code",
   "execution_count": null,
   "id": "6975f96b-fe33-465a-8c43-0cc18d81d5d5",
   "metadata": {},
   "outputs": [],
   "source": [
    "{x:x**2 for x in range(1,7)}"
   ]
  },
  {
   "cell_type": "code",
   "execution_count": null,
   "id": "a7307003-54de-43bc-a8d0-c32024e64d9a",
   "metadata": {},
   "outputs": [],
   "source": [
    "questions=['name', 'quest', 'favorite color']\n",
    "answer=['lancelot', 'the holy grail', 'blue']\n",
    "\n",
    "for q, a in zip(questions, answer):\n",
    "    print(f'what is your {q}? It is {a}')\n",
    "\n",
    "for q, a in zip(questions, answer):\n",
    "    print('what is your {0}? It is {1}' .format(q,a))\n"
   ]
  },
  {
   "cell_type": "code",
   "execution_count": null,
   "id": "040ab500-1de5-4120-8b41-2192b35d85d9",
   "metadata": {},
   "outputs": [],
   "source": [
    "with open('workfile','r+', encoding=\"utf-8\") as f:\n",
    "    read_data = f.readline()\n",
    "    for line in f:\n",
    "        print(line, end=\"\")\n",
    "    f.write(s)\n",
    "    #print(line, end=\"\")\n",
    "    print(f.readline())\n",
    "\n",
    "\n",
    "#print(read_data)\n",
    "\n"
   ]
  },
  {
   "cell_type": "code",
   "execution_count": null,
   "id": "de788f87-05bd-4488-886c-aa12a2eef178",
   "metadata": {},
   "outputs": [],
   "source": [
    "read_data = read_data[:-10]\n",
    "\n",
    "with open('workfile', 'w', encoding=\"utf-8\") as f:\n",
    "    f.writelines(read_data)  # Scrivi le righe rimanenti nel file"
   ]
  },
  {
   "cell_type": "code",
   "execution_count": 1,
   "id": "d6a9e134-efa3-4a78-a497-44449cf822f8",
   "metadata": {},
   "outputs": [
    {
     "name": "stdout",
     "output_type": "stream",
     "text": [
      "Il mistero dell'antica biblioteca\n",
      "\n",
      "In un piccolo paese circondato da colline verdi e boschi fitti, sorgeva un'antica biblioteca. Era un edificio imponente, con mura di pietra e finestre alte, avvolto da un'aura di mistero. I cittadini raccontavano storie su di essa, affermando che le sue pagine custodissero segreti inimmaginabili. Tuttavia, pochi osavano varcarne la soglia, temendo le ombre che si nascondevano tra gli scaffali polverosi.\n",
      "\n",
      "Un giorno, un giovane curioso di nome Marco decise di esplorare quel luogo affascinante. Amante della lettura e della storia, sognava di scoprire i tesori nascosti nella biblioteca. Armato di una torcia e di un taccuino, si avventurÃ² all'interno. L'aria era fredda e un silenzio inquietante regnava nell'edificio. Ogni passo risuonava come un'eco, amplificato dalle pareti di pietra.\n",
      "\n",
      "Marco si inoltrÃ² tra gli scaffali, i libri erano ammassati in modo disordinato, alcuni con le copertine strappate e altri coperti di polvere. Dopo aver esaminato alcuni volumi, uno in particolare catturÃ² la sua attenzione: era un libro rilegato in pelle nera, senza titolo. Incuriosito, lo aprÃ¬ e scoprÃ¬ che le pagine erano piene di simboli e scritture incomprensibili.\n",
      "\n",
      "Improvvisamente, una folata di vento spazzÃ² la biblioteca, spegnendo la sua torcia. Marco si ritrovÃ² avvolto nell'oscuritÃ . Il suo cuore iniziÃ² a battere forte, ma la sua curiositÃ  era piÃ¹ forte della paura. ContinuÃ² a sfogliare il libro, quando, all'improvviso, un'immagine apparve sul foglio: un antico sigillo, che sembrava brillare nella penombra.\n",
      "\n",
      "Con un brivido lungo la schiena, Marco si rese conto che il sigillo rappresentava un portale. RipensÃ² alle leggende del paese, ai racconti di persone scomparse misteriosamente dopo aver varcato le soglie della biblioteca. Era un rischio, ma il desiderio di scoprire la veritÃ  era piÃ¹ forte. Con un respiro profondo, decise di riprovare a illuminare la sua torcia.\n",
      "\n",
      "La luce tornÃ², rivelando una porta nascosta tra gli scaffali. La maniglia era coperta di ragnatele, segno che nessuno l'aveva toccata da tempo. Marco la afferrÃ² e la aprÃ¬ lentamente. Un corridoio buio si estendeva davanti a lui, la cui fine sembrava svanire nellâ€™oscuritÃ . Con il cuore in gola, si incamminÃ².\n",
      "\n",
      "Il corridoio era costellato di strani oggetti: orologi fermi, globi sbiaditi e quadri di persone dai volti sfocati. Dopo alcuni passi, si fermÃ² di fronte a una grande porta di legno, ornata da intricate incisioni. Con un gesto incerto, la aprÃ¬ e si trovÃ² in una stanza straordinaria, illuminata da una luce dorata.\n",
      "\n",
      "Al centro, un grande tavolo circolare era coperto di libri, mappe e strumenti misteriosi. Marco si avvicinÃ², notando che uno dei libri era aperto. Si trattava di un diario, scritto da un antico bibliotecario che descriveva un rituale per evocare conoscenze dimenticate. Ogni parola sembrava danzare sulla pagina, ipnotizzandolo.\n",
      "\n",
      "Improvvisamente, un'ombra si proiettÃ² sulla parete opposta. Marco si voltÃ², vedendo una figura alta e magra, avvolta in un mantello scuro. \"Sei arrivato fin qui\", sussurrÃ² la figura, \"ma sei pronto a portare il peso della conoscenza?\".\n",
      "\n",
      "Marco si sentÃ¬ sopraffatto. Non sapeva se rispondere o fuggire. Ma in fondo a sÃ© stesso, sapeva che era venuto per questo. Con voce tremante, rispose: \"SÃ¬, voglio sapere\". La figura sorrise, e la stanza si riempÃ¬ di una luce abbagliante.\n",
      "\n",
      "Quando la luce svanÃ¬, Marco si ritrovÃ² di nuovo nella biblioteca, con il libro tra le mani. I suoi occhi si posavano su parole che prima erano incomprensibili, ma ora rivelavano antichi segreti e storie dimenticate. Sorridendo, capÃ¬ di essere stato scelto per custodire il sapere della biblioteca.\n",
      "\n",
      "Da quel giorno, Marco divenne il nuovo bibliotecario, e la biblioteca non fu piÃ¹ un luogo di paura, ma un faro di saggezza e scoperta, aperto a chiunque avesse il coraggio di esplorare le sue pagine.\n"
     ]
    }
   ],
   "source": [
    "with open(\"workfile\", \"r\") as f:\n",
    "    content = f.read()  # This will read the content of the file\n",
    "\n",
    "# The file is automatically closed after the `with` block\n",
    "print(content)"
   ]
  },
  {
   "cell_type": "code",
   "execution_count": null,
   "id": "4329f370-addc-452c-9ced-bc5eb93a78c9",
   "metadata": {},
   "outputs": [],
   "source": [
    "value = ('the answer', 42)\n",
    "s= str(value)"
   ]
  },
  {
   "cell_type": "code",
   "execution_count": null,
   "id": "2e311250-4a0c-411f-b279-eaf08e9d18f1",
   "metadata": {},
   "outputs": [],
   "source": [
    "1#\n",
    "def confronta():\n",
    "    a=int(input('inserisci il primo numero'))\n",
    "    b=int(input('inserisci il secondo numero'))\n",
    "    if a >b:\n",
    "        print(a, 'is bigger')\n",
    "    elif a<b:\n",
    "        print(b, 'is bigger')\n",
    "    else:\n",
    "        print('they are the same numbers')\n",
    "\n",
    "confronta()"
   ]
  },
  {
   "cell_type": "code",
   "execution_count": null,
   "id": "e2f8c758-1599-412e-9fec-0b71d52b5257",
   "metadata": {},
   "outputs": [],
   "source": [
    "#2\n",
    "def confronta():\n",
    "    a=int(input('inserisci il primo numero'))\n",
    "    b=int(input('inserisci il secondo numero'))\n",
    "    c=int(input('inserisci il terzo nunmero'))\n",
    "    list=[a,b,c]\n",
    "    d=0\n",
    "    for x in list:\n",
    "        if x>d:\n",
    "            d=x\n",
    "        else:\n",
    "            pass\n",
    "    print(d, 'is the biggest')\n",
    "\n",
    "confronta()"
   ]
  },
  {
   "cell_type": "code",
   "execution_count": null,
   "id": "11ef2e24-b0b6-4c8a-ad27-ecd18fa5e288",
   "metadata": {},
   "outputs": [],
   "source": [
    "a=input()\n",
    "print(a)\n",
    "list(a)"
   ]
  },
  {
   "cell_type": "code",
   "execution_count": null,
   "id": "5b565492-5990-42b6-8d5f-1da74c209858",
   "metadata": {},
   "outputs": [],
   "source": [
    "#3\n",
    "def biggest():\n",
    "    a=[]\n",
    "    while True:\n",
    "        if input('vuoi inserire un numero? y/n') == 'y':\n",
    "            a.append(int(input('inserisci un numero')))\n",
    "        else:\n",
    "            print(a)\n",
    "            break\n",
    "    b=a[0]\n",
    "    for x in a:\n",
    "        if x>b:\n",
    "            b=x\n",
    "        else:\n",
    "            pass\n",
    "    print(b)\n",
    "    \n",
    "    \n",
    "biggest()"
   ]
  },
  {
   "cell_type": "code",
   "execution_count": null,
   "id": "d84d15e6-5519-4c29-bb7a-e7fc99ed113d",
   "metadata": {},
   "outputs": [],
   "source": [
    "#4\n",
    "a=[1,4,6,1]\n",
    "b=0\n",
    "for x in a:\n",
    "    b+=x\n",
    "\n",
    "b"
   ]
  },
  {
   "cell_type": "code",
   "execution_count": null,
   "id": "705357f3-3164-4c21-8d6a-ebf908d58ee7",
   "metadata": {},
   "outputs": [],
   "source": [
    "#5\n",
    "a=[12,6,9,87,545,4]\n",
    "b=6\n",
    "for x in a:\n",
    "    if x==b:\n",
    "        print('it\\'s in the list')\n",
    "    else:\n",
    "        print('it isn\\'t in the list')\n",
    "\n",
    "a.index(b)"
   ]
  },
  {
   "cell_type": "code",
   "execution_count": null,
   "id": "dc7b5d6b-ef3b-4b37-9584-a355f03f7be5",
   "metadata": {},
   "outputs": [],
   "source": [
    "#6\n",
    "a=[5,6,12,23]\n",
    "\n",
    "for x in a:\n",
    "    for n in range(x):\n",
    "        print('*', end='')\n",
    "    print('\\n')"
   ]
  },
  {
   "cell_type": "code",
   "execution_count": null,
   "id": "dcfff258-ee3c-41c5-a017-5608bc74ee65",
   "metadata": {},
   "outputs": [],
   "source": [
    "#7\n",
    "a=['tfutk', 'uygy','kufvyi','yjtcyt']\n",
    "b=[]\n",
    "for x in a:\n",
    "    b.append(len(x))\n",
    "\n",
    "print(b)"
   ]
  },
  {
   "cell_type": "code",
   "execution_count": null,
   "id": "0988bbd7-adca-4e94-a48c-f20a2cf7e0ac",
   "metadata": {},
   "outputs": [],
   "source": [
    "a=['tfutk', 'uygy','kufvyi','yjtcyt']\n",
    "b=[len(x) for x in a]\n",
    "print(b)"
   ]
  },
  {
   "cell_type": "code",
   "execution_count": 2,
   "id": "d5ef5402-5858-4956-b9b9-32bc8a214a51",
   "metadata": {},
   "outputs": [
    {
     "name": "stdout",
     "output_type": "stream",
     "text": [
      "32:F0:86:0F:BF:E5\n"
     ]
    }
   ],
   "source": [
    "#8\n",
    "#02:FF:A5:F2:55:12\n",
    "\n",
    "import random\n",
    "\n",
    "r= (0,1,2,3,4,5,6,7,8,9,'A','B','C','D','E','F')\n",
    "a=\"00:00:00:00:00:00\"\n",
    "b=\"\"\n",
    "for x in a:\n",
    "    if x!=':':\n",
    "        b+=str(random.choice(r))\n",
    "    else:\n",
    "        b+=':'\n",
    "\n",
    "print(b)"
   ]
  },
  {
   "cell_type": "code",
   "execution_count": 3,
   "id": "39d77e55-7865-4883-b979-0e84a3db0bb1",
   "metadata": {},
   "outputs": [
    {
     "name": "stdout",
     "output_type": "stream",
     "text": [
      "CA:B1:45:69:58:95\u0000"
     ]
    }
   ],
   "source": [
    "for x in range(6):\n",
    "    print('{:02X}'.format(random.randint(0,255)), end=':::::\\0'[x])\n"
   ]
  },
  {
   "cell_type": "code",
   "execution_count": 11,
   "id": "b6acc10d-7998-4bab-86fb-f399691926e2",
   "metadata": {},
   "outputs": [],
   "source": [
    "#9)\n",
    "def colors():\n",
    "    a= [input(\"type a color\") for x in range(10)]\n",
    "    b= input('enter a letter')\n",
    "    for x in a: print(x) if b==x[0] else None\n"
   ]
  },
  {
   "cell_type": "code",
   "execution_count": 13,
   "id": "2ab85a34-7a7e-44e4-8857-da55ec927b5a",
   "metadata": {},
   "outputs": [
    {
     "name": "stdin",
     "output_type": "stream",
     "text": [
      "type something, press enter to stop df\n",
      "type something, press enter to stop \n"
     ]
    },
    {
     "name": "stdout",
     "output_type": "stream",
     "text": [
      "df\n"
     ]
    }
   ],
   "source": [
    "#10\n",
    "def typing():\n",
    "    b=''\n",
    "    while True:\n",
    "        a=input('type something, press enter to stop')\n",
    "        b+=a\n",
    "        b+=','\n",
    "        if a==\"\":\n",
    "            b=b[:-2]\n",
    "            break\n",
    "    print(b)\n",
    "\n",
    "typing()"
   ]
  },
  {
   "cell_type": "code",
   "execution_count": 14,
   "id": "5c13ec5c-7971-4478-a5e5-29e7b12ea361",
   "metadata": {},
   "outputs": [
    {
     "name": "stdout",
     "output_type": "stream",
     "text": [
      "irotatnaC\n"
     ]
    }
   ],
   "source": [
    "#11\n",
    "def inverse(a):\n",
    "    b=''\n",
    "    c=len(a)-1\n",
    "    for x in range(len(a)):\n",
    "        b+=a[c]\n",
    "        c-=1\n",
    "    print(b)\n",
    "\n",
    "b = ''.join(a[c] for c in range(len(a)-1, -1, -1))\n",
    "inverse(\"Cantatori\")"
   ]
  },
  {
   "cell_type": "code",
   "execution_count": 15,
   "id": "5922e350-0624-4849-8b14-7eb8ada81538",
   "metadata": {},
   "outputs": [
    {
     "name": "stdout",
     "output_type": "stream",
     "text": [
      "callo\n",
      "mallo\n",
      "callo\n",
      "mallo\n"
     ]
    }
   ],
   "source": [
    "#12\n",
    "\n",
    "a=[\"cane\", \"amore\", \"callo\", \"mallo\"]\n",
    "b=\"mallo\"\n",
    "\n",
    "#[print(x) for x in a if x==b]\n",
    "\n",
    "for x in a:\n",
    "    if x[-1]==b[-1] and x[-2]==b[-2] and x[-3]==b[-3]:\n",
    "        print(x)\n",
    "\n",
    "\n",
    "for x in a:\n",
    "    c=0\n",
    "    for n in range(-1,-4, -1):\n",
    "        if x[n]==b[n]:\n",
    "            c+=1\n",
    "        if c==3:\n",
    "            print(x)\n",
    "        \n",
    "        "
   ]
  },
  {
   "cell_type": "code",
   "execution_count": null,
   "id": "f7e043cb-da93-4bd1-b7f2-215714970bbb",
   "metadata": {},
   "outputs": [],
   "source": [
    "# 13\n",
    "#books = \n",
    "{\n",
    "    \"To Kill a Mockingbird\": 15,\n",
    "    \"1984\": 8,\n",
    "    \"The Great Gatsby\": 12,\n",
    "    \"Pride and Prejudice\": 5,\n",
    "    \"Moby-Dick\": 18,\n",
    "    \"The Catcher in the Rye\": 10,\n",
    "    \"Brave New World\": 14,\n",
    "    \"The Lord of the Rings\": 19,\n",
    "    \"The Grapes of Wrath\": 6,\n",
    "    \"Jane Eyre\": 7,\n",
    "    \"Wuthering Heights\": 13,\n",
    "    \"Fahrenheit 451\": 3,\n",
    "    \"Animal Farm\": 4,\n",
    "    \"The Picture of Dorian Gray\": 2,\n",
    "    \"The Hobbit\": 11,\n",
    "    \"Crime and Punishment\": 20,\n",
    "    \"Frankenstein\": 1,\n",
    "    \"Dracula\": 16,\n",
    "    \"The Adventures of Huckleberry Finn\": 9,\n",
    "    \"A Tale of Two Cities\": 17\n",
    "}\n",
    "\n",
    "def bookshop():\n",
    "    a=[]\n",
    "    b=input(\"type the name of the book\")\n",
    "    if b in books:\n",
    "        books[\"1984\"]-=1\n",
    "        print(\"The book is present in the shop, purchase succesfull,\", books[b], \"copies remaining\")\n",
    "    \n",
    "    else:\n",
    "        print(\"I'm sorry, we don't have this book\")\n",
    "        a.append(b)\n",
    "\n",
    "bookshop()"
   ]
  },
  {
   "cell_type": "code",
   "execution_count": 26,
   "id": "f869af5c-25e4-44bc-a578-5c9f92bc6212",
   "metadata": {},
   "outputs": [
    {
     "name": "stdout",
     "output_type": "stream",
     "text": [
      "C:\\Users\\andre\\OneDrive\\Documenti\\Università\\Data science\\II anno\\DS in the factory of the future\\1-FactoryFuture.pdf\n",
      "C:\\Users\\andre\\OneDrive\\Documenti\\Università\\Data science\\II anno\\DS in the factory of the future\\2-IntroductionPdM.pdf\n",
      "Totale file PDF trovati: 2\n"
     ]
    }
   ],
   "source": [
    "#14\n",
    "import os\n",
    "\n",
    "def find_pdfs(path):\n",
    "    # Verifica se il percorso esiste e se è una directory\n",
    "    if not os.path.isdir(path):\n",
    "        print(\"Percorso non valido o non esistente.\")\n",
    "        return\n",
    "\n",
    "    pdf_files = []  # Lista per memorizzare i file PDF trovati\n",
    "    # Cammina attraverso la directory e le sottodirectory\n",
    "    for root, dirs, files in os.walk(path):\n",
    "        for x in files:\n",
    "            if x.endswith(\".pdf\"):\n",
    "                relative_path = os.path.join(root, x)\n",
    "                pdf_files.append(relative_path)\n",
    "                print(relative_path)  # Stampa il percorso del file PDF trovato\n",
    "\n",
    "    # Output finale: numero totale di file PDF trovati\n",
    "    print(f\"Totale file PDF trovati: {len(pdf_files)}\")\n",
    "\n",
    "find_pdfs(r'C:\\Users\\andre\\OneDrive\\Documenti\\Università\\Data science\\II anno\\DS in the factory of the future')"
   ]
  },
  {
   "cell_type": "code",
   "execution_count": 10,
   "id": "2d8feb6c-dd9c-48ab-a848-7261feb91001",
   "metadata": {},
   "outputs": [
    {
     "name": "stdout",
     "output_type": "stream",
     "text": [
      "cane salta lontano\n"
     ]
    }
   ],
   "source": [
    "a=[\"cane\", \"salta\", \"lontano\"]\n",
    "b= \" \".join(a)\n",
    "print(b)"
   ]
  },
  {
   "cell_type": "code",
   "execution_count": 12,
   "id": "7763a8cf-0657-4425-9776-03407015f2a4",
   "metadata": {},
   "outputs": [
    {
     "name": "stdout",
     "output_type": "stream",
     "text": [
      "acaca it's a palindrome word\n"
     ]
    }
   ],
   "source": [
    "#15\n",
    "def palindrome(a):\n",
    "    b=len(a)-1\n",
    "    c=''\n",
    "    for x in range(b, -1, -1):\n",
    "        c+=a[x]\n",
    "    if a==c:\n",
    "        print(c, \"it's a palindrome word\")\n",
    "    else:\n",
    "        print(c, 'it\\'s not a palindrome word')\n",
    "\n",
    "palindrome(\"acaca\")"
   ]
  },
  {
   "cell_type": "code",
   "execution_count": 13,
   "id": "065bbf93-26af-4157-b4ae-19f242f3dcad",
   "metadata": {},
   "outputs": [
    {
     "name": "stdout",
     "output_type": "stream",
     "text": [
      "['A', 'B', 'C', 'D', 'E', 'F', 'G', 'H', 'I', 'J', 'K', 'L', 'M', 'N', 'O', 'P', 'Q', 'R', 'S', 'T', 'U', 'V', 'W', 'X', 'Y', 'Z']\n",
      "DBOUB,QPSDP"
     ]
    }
   ],
   "source": [
    "#16\n",
    "def crypto(c,b):\n",
    "    a = [chr(i) for i in range(65, 91)]\n",
    "    print(a)\n",
    "    b=b.upper()\n",
    "    for x in b:\n",
    "        if x not in a:\n",
    "            print(x, end='')\n",
    "        else:\n",
    "            for n in a:\n",
    "                if x==n and a.index(x)+c<26:\n",
    "                    print(a[a.index(x)+c], end='')\n",
    "                elif x==n and a.index(x)+c>26:\n",
    "                    print(a[a.index(x)+c-26], end='')\n",
    "                else: pass\n",
    "\n",
    "crypto(1, 'canta,porco')"
   ]
  },
  {
   "cell_type": "code",
   "execution_count": 15,
   "id": "2ef1b40c-9fc9-4ae4-9818-22c0281627e5",
   "metadata": {},
   "outputs": [
    {
     "name": "stdout",
     "output_type": "stream",
     "text": [
      "GERXE,TSVGD0\n"
     ]
    }
   ],
   "source": [
    "#16\n",
    "def crypto(c,b):\n",
    "    a = [chr(i) for i in range(65, 91)]\n",
    "    b=b.upper()\n",
    "    for x in b:\n",
    "        if x not in a:\n",
    "            print(x, end='')\n",
    "        else:\n",
    "            print((a[(a.index(x)+c)%26]), end='')            \n",
    "\n",
    "crypto(30, 'canta,porcz')\n",
    "print(26%26)"
   ]
  },
  {
   "cell_type": "code",
   "execution_count": 29,
   "id": "dd6a2101-d2bf-4aba-8e9f-de6a6cf6f2a1",
   "metadata": {},
   "outputs": [
    {
     "name": "stdout",
     "output_type": "stream",
     "text": [
      "[[1, 2, 3], [4, 5, 6], [7, 8, 9]]\n",
      "[[2, 3, 4]]\n",
      "[[2, 3, 4], [4, 6, 8]]\n",
      "[[2, 3, 4], [4, 6, 8], [6, 9, 12]]\n",
      "[[2, 3, 4], [4, 6, 8], [6, 9, 12], [8, 12, 16]]\n",
      "[8, 12, 16]\n"
     ]
    }
   ],
   "source": [
    "# 17\n",
    "matrice = [\n",
    "    [1, 2, 3],\n",
    "    [4, 5, 6],\n",
    "    [7, 8, 9]\n",
    "]\n",
    "\n",
    "print(matrice)\n",
    "\n",
    "A=[1,2,3,4]\n",
    "B=[2,3,4]\n",
    "D=[]\n",
    "\n",
    "for x in A:\n",
    "    C=[]\n",
    "    for n in B:\n",
    "        C.append(n*x)\n",
    "    D.append(C)\n",
    "    print(D)\n",
    "\n",
    "print(C)"
   ]
  },
  {
   "cell_type": "code",
   "execution_count": 27,
   "id": "bc8390bd-1e35-431c-b32b-cc15ba63695d",
   "metadata": {},
   "outputs": [
    {
     "name": "stdout",
     "output_type": "stream",
     "text": [
      "[[2, 3, 4], [4, 6, 8], [6, 9, 12], [8, 12, 16]]\n"
     ]
    }
   ],
   "source": [
    "#18\n",
    "A=[1,2,3,4]\n",
    "B=[2,3,4]\n",
    "D=[]\n",
    "\n",
    "for x in A:\n",
    "    C=[]\n",
    "    for n in B:\n",
    "        C.append(n*x)\n",
    "    D.append(C)\n",
    "\n",
    "\n",
    "print(D)"
   ]
  },
  {
   "cell_type": "code",
   "execution_count": 30,
   "id": "a45c9c61-11b5-4d17-94ba-9ab6af9b2935",
   "metadata": {},
   "outputs": [
    {
     "name": "stdout",
     "output_type": "stream",
     "text": [
      "[2, 6, 12]\n"
     ]
    }
   ],
   "source": [
    "#19\n",
    "A = [[2, 3, 4], [4, 6, 8], [6, 9, 12]]\n",
    "B=[]\n",
    "c=0\n",
    "for x in A:\n",
    "    B.append(x[c])\n",
    "    c+=1\n",
    "#B= [x[c] for x in A, c+=1]\n",
    "B = [x[c] for c, x in enumerate(A)]\n",
    "print(B)"
   ]
  },
  {
   "cell_type": "code",
   "execution_count": 40,
   "id": "a633505c-9910-4040-a469-14f8b9df35a5",
   "metadata": {},
   "outputs": [
    {
     "name": "stdout",
     "output_type": "stream",
     "text": [
      "5 4\n",
      "7 9\n",
      "5.39\n"
     ]
    }
   ],
   "source": [
    "#20\n",
    "b=((5,4),(7,9))\n",
    "c=b[0]\n",
    "print(c[0], c[1])\n",
    "d=b[1]\n",
    "print(d[0],d[1])\n",
    "e=((c[0]-d[0])**2+(c[1]-d[1])**2)**0.5\n",
    "print(round(e,2))"
   ]
  },
  {
   "cell_type": "code",
   "execution_count": null,
   "id": "b37fb615-d8ed-4682-9702-974ab29a0218",
   "metadata": {},
   "outputs": [],
   "source": []
  }
 ],
 "metadata": {
  "kernelspec": {
   "display_name": "Python 3 (ipykernel)",
   "language": "python",
   "name": "python3"
  },
  "language_info": {
   "codemirror_mode": {
    "name": "ipython",
    "version": 3
   },
   "file_extension": ".py",
   "mimetype": "text/x-python",
   "name": "python",
   "nbconvert_exporter": "python",
   "pygments_lexer": "ipython3",
   "version": "3.12.0"
  }
 },
 "nbformat": 4,
 "nbformat_minor": 5
}
