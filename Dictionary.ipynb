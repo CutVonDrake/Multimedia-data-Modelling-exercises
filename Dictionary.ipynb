{
 "cells": [
  {
   "cell_type": "markdown",
   "id": "dee7bcbe-6868-41c2-a78d-893491f47695",
   "metadata": {},
   "source": [
    "# Dictionary"
   ]
  },
  {
   "cell_type": "code",
   "execution_count": 15,
   "id": "33a822d2-3eac-4844-9dc4-90491b59f57d",
   "metadata": {},
   "outputs": [
    {
     "name": "stdout",
     "output_type": "stream",
     "text": [
      "{'mamma': 'mother', 'papà': 'father', 'figlio': 'son'}\n",
      "3\n",
      "The keys in D are: dict_keys(['mamma', 'papà', 'figlio'])\n",
      "The values in D are: dict_values(['mother', 'father', 'son'])\n",
      "D[\"mamma\"]= mother\n"
     ]
    }
   ],
   "source": [
    "D={\"mamma\":\"mother\",\n",
    "   \"papà\":\"father\",\n",
    "   \"figlio\":\"son\"}\n",
    "print(D)\n",
    "print(len(D))\n",
    "print(\"The keys in D are:\", D.keys())\n",
    "print(\"The values in D are:\", D.values())\n",
    "# you can get values from keys\n",
    "print('D[\"mamma\"]=', D[\"mamma\"])\n"
   ]
  },
  {
   "cell_type": "code",
   "execution_count": 16,
   "id": "05bb7795-e944-44d3-a64c-8ae2bb732705",
   "metadata": {},
   "outputs": [],
   "source": [
    "# are dictionary indexable?\n",
    "# print(D[0]) they're not indexable\n",
    "# not even the list of the key or the values is indexable\n",
    "keyList=D.values() #this is ok\n",
    "# print(keyList[0]) #this generates an error"
   ]
  },
  {
   "cell_type": "code",
   "execution_count": 17,
   "id": "afa94577-5c42-43ce-b126-234e4b3d8e0b",
   "metadata": {},
   "outputs": [
    {
     "name": "stdout",
     "output_type": "stream",
     "text": [
      "mamma\n",
      "papà\n",
      "figlio\n",
      "mother\n",
      "father\n",
      "son\n"
     ]
    }
   ],
   "source": [
    "#Dictionary are iterable\n",
    "#iteration goes on on the keys\n",
    "for x in D: # I am using the Keys\n",
    "    print(x)\n",
    "\n",
    "for x in D:\n",
    "    print(D[x]) #I am printing the values"
   ]
  },
  {
   "cell_type": "code",
   "execution_count": 18,
   "id": "f058b6bc-7fb0-441e-a0af-0f7227713beb",
   "metadata": {},
   "outputs": [
    {
     "name": "stdout",
     "output_type": "stream",
     "text": [
      "dict_items([('mamma', 'mother'), ('papà', 'father'), ('figlio', 'son')])\n",
      "('mamma', 'mother')\n"
     ]
    }
   ],
   "source": [
    "print(D.items())\n",
    "Items=D.items() #its a special list non indexable\n",
    "Items2=list(D.items()) # to index it you have to force it into a list\n",
    "\n",
    "print(Items2[0])"
   ]
  },
  {
   "cell_type": "code",
   "execution_count": 19,
   "id": "702f407a-200b-474b-aeda-f845c211a23f",
   "metadata": {},
   "outputs": [
    {
     "name": "stdout",
     "output_type": "stream",
     "text": [
      "{'mamma': 'mother', 1: 1, 'due': 2, 'vero': True}\n",
      "dict_keys(['mamma', 1, 'due', 'vero'])\n",
      "dict_values(['mother', 1, 2, True])\n"
     ]
    }
   ],
   "source": [
    "D={\"mamma\" : \"mother\", 1:\"one\", \"due\":2, \"vero\":True,True:1}\n",
    "#True of False cannot be used as keys\n",
    "print(D)\n",
    "print(D.keys())\n",
    "print(D.values())"
   ]
  },
  {
   "cell_type": "code",
   "execution_count": null,
   "id": "0487d989-2384-40a6-abad-4e4c6bc85f9a",
   "metadata": {},
   "outputs": [],
   "source": [
    "D={[1,2]:1,[2,3]:3} #ERROR\n",
    "#structure like list tuples sets dictionaries CANNOT be used as keys"
   ]
  },
  {
   "cell_type": "code",
   "execution_count": 21,
   "id": "d249bbb1-9789-4456-afc9-842f4a90d529",
   "metadata": {},
   "outputs": [
    {
     "name": "stdout",
     "output_type": "stream",
     "text": [
      "{1: [1, 2], 2: {1, 2}, 3: (1, 2), 4: {'a': 2}}\n"
     ]
    }
   ],
   "source": [
    "D={1:[1,2],2:{1,2},3:(1,2),4:{\"a\":2}}\n",
    "print(D)"
   ]
  },
  {
   "cell_type": "code",
   "execution_count": 36,
   "id": "39a7eb56-6041-40d8-90e5-6253dc39c176",
   "metadata": {},
   "outputs": [
    {
     "ename": "ValueError",
     "evalue": "dictionary update sequence element #0 has length 3; 2 is required",
     "output_type": "error",
     "traceback": [
      "\u001b[1;31m---------------------------------------------------------------------------\u001b[0m",
      "\u001b[1;31mValueError\u001b[0m                                Traceback (most recent call last)",
      "Cell \u001b[1;32mIn[36], line 1\u001b[0m\n\u001b[1;32m----> 1\u001b[0m D2\u001b[38;5;241m=\u001b[39m\u001b[38;5;28;43mdict\u001b[39;49m\u001b[43m(\u001b[49m\u001b[43m(\u001b[49m\u001b[43m[\u001b[49m\u001b[38;5;241;43m1\u001b[39;49m\u001b[43m,\u001b[49m\u001b[38;5;241;43m2\u001b[39;49m\u001b[43m,\u001b[49m\u001b[38;5;241;43m3\u001b[39;49m\u001b[43m]\u001b[49m\u001b[43m \u001b[49m\u001b[43m,\u001b[49m\u001b[43m \u001b[49m\u001b[43m[\u001b[49m\u001b[38;5;124;43m\"\u001b[39;49m\u001b[38;5;124;43ma\u001b[39;49m\u001b[38;5;124;43m\"\u001b[39;49m\u001b[43m,\u001b[49m\u001b[38;5;124;43m\"\u001b[39;49m\u001b[38;5;124;43mb\u001b[39;49m\u001b[38;5;124;43m\"\u001b[39;49m\u001b[43m,\u001b[49m\u001b[38;5;124;43m\"\u001b[39;49m\u001b[38;5;124;43mc\u001b[39;49m\u001b[38;5;124;43m\"\u001b[39;49m\u001b[43m]\u001b[49m\u001b[43m)\u001b[49m\u001b[43m)\u001b[49m\n",
      "\u001b[1;31mValueError\u001b[0m: dictionary update sequence element #0 has length 3; 2 is required"
     ]
    }
   ],
   "source": [
    "D2=dict(([1,2,3],[\"a\",\"b\",\"c\"]))"
   ]
  },
  {
   "cell_type": "code",
   "execution_count": 31,
   "id": "dd9334c8-2a22-4973-8e18-eafdc63cd219",
   "metadata": {},
   "outputs": [
    {
     "name": "stdout",
     "output_type": "stream",
     "text": [
      "<class 'dict'>\n",
      "<class 'dict'>\n"
     ]
    }
   ],
   "source": [
    "S={} # it is a dictionary not a Set\n",
    "D={} # it is a dctionary not a Set\n",
    "print(type(D))\n",
    "print(type(S))"
   ]
  },
  {
   "cell_type": "code",
   "execution_count": 25,
   "id": "02b6e5a5-d578-491d-8178-9008ac8afc42",
   "metadata": {},
   "outputs": [
    {
     "name": "stdout",
     "output_type": "stream",
     "text": [
      "one\n",
      "one\n",
      "None\n"
     ]
    }
   ],
   "source": [
    "D={1:\"one\",2:\"two\"}\n",
    "#help(D.get)\n",
    "print(D.get(1))\n",
    "print(D[1])\n",
    "# print(D[4]) key error\n",
    "print(D.get(4)) #returns None\n",
    "\n",
    "D.setdefault(4)"
   ]
  },
  {
   "cell_type": "code",
   "execution_count": 24,
   "id": "96bfb210-dab7-443a-8f25-d16f46f7cbca",
   "metadata": {},
   "outputs": [
    {
     "name": "stdout",
     "output_type": "stream",
     "text": [
      "Help on built-in function setdefault:\n",
      "\n",
      "setdefault(key, default=None, /) method of builtins.dict instance\n",
      "    Insert key with a value of default if key is not in the dictionary.\n",
      "\n",
      "    Return the value for key if key is in the dictionary, else default.\n",
      "\n"
     ]
    }
   ],
   "source": [
    "# help(D.setdefault)\n",
    "#help(d.fromkeys)\n"
   ]
  },
  {
   "cell_type": "code",
   "execution_count": 37,
   "id": "18391fef-7522-4d8d-a82f-fa1a7e76fe03",
   "metadata": {},
   "outputs": [
    {
     "name": "stdout",
     "output_type": "stream",
     "text": [
      "{1: 'value', 2: 'value', 3: 'value'}\n"
     ]
    }
   ],
   "source": [
    "A=D.fromkeys([1,2,3], \"value\")\n",
    "print(A)"
   ]
  },
  {
   "cell_type": "code",
   "execution_count": 41,
   "id": "800c014e-ade7-4cb8-9ab1-8eebcdad6def",
   "metadata": {},
   "outputs": [
    {
     "name": "stdout",
     "output_type": "stream",
     "text": [
      "100\n",
      "{'b': 200, 'c': 300}\n",
      "('c', 300)\n",
      "{'b': 200}\n"
     ]
    }
   ],
   "source": [
    "D={\"a\":100, \"b\":200, \"c\":300}\n",
    "# print(D.pop()) error requires a key\n",
    "print(D.pop(\"a\"))\n",
    "print(D)\n",
    "print(D.popitem())\n",
    "print(D)"
   ]
  }
 ],
 "metadata": {
  "kernelspec": {
   "display_name": "Python 3 (ipykernel)",
   "language": "python",
   "name": "python3"
  },
  "language_info": {
   "codemirror_mode": {
    "name": "ipython",
    "version": 3
   },
   "file_extension": ".py",
   "mimetype": "text/x-python",
   "name": "python",
   "nbconvert_exporter": "python",
   "pygments_lexer": "ipython3",
   "version": "3.12.0"
  }
 },
 "nbformat": 4,
 "nbformat_minor": 5
}
