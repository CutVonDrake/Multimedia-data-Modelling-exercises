{
 "cells": [
  {
   "cell_type": "code",
   "execution_count": 51,
   "id": "dd8bbaa3-1922-44e0-8fab-f07c75e4a4f1",
   "metadata": {},
   "outputs": [],
   "source": [
    "#pip install pyarrow\n",
    "#pip install fsspec\n",
    "#pip install huggingface_hub"
   ]
  },
  {
   "cell_type": "code",
   "execution_count": 59,
   "id": "b5ba2f48-901c-404d-9131-e33845d0b9f4",
   "metadata": {},
   "outputs": [],
   "source": [
    "import pandas as pd\n",
    "import math\n",
    "import numpy as np\n",
    "\n",
    "splits = {'train': 'plain_text/train-00000-of-00001.parquet', 'test': 'plain_text/test-00000-of-00001.parquet', 'unsupervised': 'plain_text/unsupervised-00000-of-00001.parquet'}\n",
    "dfC = pd.read_parquet(\"hf://datasets/stanfordnlp/imdb/\" + splits[\"train\"])"
   ]
  },
  {
   "cell_type": "code",
   "execution_count": 41,
   "id": "ef2e27c5-c1c6-45fb-9651-686aca28240a",
   "metadata": {},
   "outputs": [
    {
     "name": "stdout",
     "output_type": "stream",
     "text": [
      "25000\n",
      "100\n"
     ]
    }
   ],
   "source": [
    "print(len(dfC))\n",
    "df= df.sample(100)\n",
    "print(len(df))\n",
    "df= df.reset_index(drop=True)"
   ]
  },
  {
   "cell_type": "code",
   "execution_count": 42,
   "id": "9ffe4835-222e-4203-af86-a116c4c2a11a",
   "metadata": {},
   "outputs": [
    {
     "name": "stdout",
     "output_type": "stream",
     "text": [
      "Charles Bronson continued his 80's slump with what could possibly be his worst movie of the decade, if not ever. In it he plays a detective who goes to great lengths to track down a pimp who has abducted an Asian girl and is currently selling her to the highest bidder. It's a shameful attempt at action and is quite possibly the most depressing movie ever made. A lot of people consider the Death Wish sequels to be Bronson's worst movies. The Death Wish sequels weren't great movies but were in most cases competently made and very watchable. Kinjite however is an utterly dull thriller which is punctuated by mean spirited racism and child molestation. It really is a rephrensible film and all of it is made worse by the fact that it tries to preach a \"Law and Justice\" mentality that is too overwrought to really say anything. Indeed the movie begins with underage sex being interrupted with Bronson then anally raping the pedophile with a dildo. The Chicago theater I watched this in just gasped at the awkwardness of this scene, only to gasp at the awkwardness of the pimp raping the girl in this film. It has no point other than to exploit and really the movie wasn't well written enough to rise above the exploitation level and deliver something that would work. Bronson seems more into things but clearly this is far too repugnant to save. I want to point out that I think Charles Bronson is the coolest actor ever but this effort is ultimately his worst. The action sequences are poor also.<br /><br />1/2* out of 4-(Awful)\n",
      "Index(['text', 'label'], dtype='object')\n"
     ]
    }
   ],
   "source": [
    "print(df['text'][0])\n",
    "print(df.columns)"
   ]
  },
  {
   "cell_type": "code",
   "execution_count": 69,
   "id": "9ddda1e5-3726-487e-be2a-dbda41da7bd6",
   "metadata": {},
   "outputs": [
    {
     "name": "stdout",
     "output_type": "stream",
     "text": [
      "58\n",
      "42\n",
      "0.42 0.58\n",
      "[0.58, 0.42]\n"
     ]
    }
   ],
   "source": [
    "CP=0\n",
    "CN=0\n",
    "for x in df['label']:\n",
    "    if x==0:\n",
    "        CN+=1\n",
    "    else:\n",
    "        CP+=1\n",
    "print(CN)\n",
    "print(CP)\n",
    "PP=CP/len(df)\n",
    "PN=CN/len(df)\n",
    "print(PP,PN)\n",
    "\n",
    "\n",
    "\n",
    "\n",
    "\n",
    "c = [0,0]\n",
    "for i,sample in df.iterrows():\n",
    "  c[sample['label']] += 1\n",
    "logP = [math.log10(c[l]/len(df)) for l in range(2)]\n",
    "print([10**p for p in logP])"
   ]
  },
  {
   "cell_type": "code",
   "execution_count": 49,
   "id": "bdd31c31-0cc4-4f84-8c00-102f9c6c0f88",
   "metadata": {},
   "outputs": [],
   "source": [
    "import nltk\n",
    "#nltk.download('punkt_tab')\n",
    "#nltk.download('punkt')\n",
    "from nltk.tokenize import word_tokenize\n",
    "\n",
    "V = set()\n",
    "docs = [[],[]]\n",
    "\n",
    "for i,sample in df.iterrows():\n",
    "  tokens = word_tokenize(sample['text'])\n",
    "  V = V.union(set(tokens))\n",
    "  docs[sample['label']].extend(tokens) # extend per evitare liste annidate\n",
    "\n"
   ]
  },
  {
   "cell_type": "code",
   "execution_count": null,
   "id": "2326b6fe-4f2f-4429-bae2-1f431394412a",
   "metadata": {},
   "outputs": [],
   "source": []
  },
  {
   "cell_type": "code",
   "execution_count": 57,
   "id": "40dfb0b2-3e55-404a-8fb5-e0ceae325a61",
   "metadata": {},
   "outputs": [
    {
     "name": "stdout",
     "output_type": "stream",
     "text": [
      "11680\n"
     ]
    }
   ],
   "source": [
    "print(len(docs[1]))"
   ]
  },
  {
   "cell_type": "code",
   "execution_count": 102,
   "id": "3e9c83d7-fb2f-440a-9b90-aef57f2ec965",
   "metadata": {},
   "outputs": [],
   "source": [
    "count_w_c = [{w:0 for w in V} for c in range(2)]\n",
    "count_c = [0,0]\n",
    "for c in [0,1]:\n",
    "  for w in docs[c]:\n",
    "      count_w_c[c][w] += 1\n",
    "\n",
    "logP_w_c = [{w : math.log10((count_w_c[c][w]+1)/(len(docs[c])+len(V))) for w in V} for c in [0,1]]"
   ]
  },
  {
   "cell_type": "code",
   "execution_count": 61,
   "id": "45bbf779-af24-49c4-aa26-fdaa170e7b86",
   "metadata": {},
   "outputs": [
    {
     "name": "stdout",
     "output_type": "stream",
     "text": [
      "awful 0.00046886321981160216 0.00011576753878212549\n",
      "great 0.0005114871488853842 0.0009261403102570042\n",
      "horrible 0.00017049571629512816 5.788376939106279e-05\n",
      "fantastic 4.262392907378203e-05 0.00017365130817318826\n"
     ]
    }
   ],
   "source": [
    "print(\"awful\", 10**logP_w_c[0]['awful'], 10**logP_w_c[1]['awful'])\n",
    "print(\"great\", 10**logP_w_c[0]['great'], 10**logP_w_c[1]['great'])\n",
    "print(\"horrible\", 10**logP_w_c[0]['horrible'], 10**logP_w_c[1]['horrible'])\n",
    "print(\"fantastic\", 10**logP_w_c[0]['fantastic'], 10**logP_w_c[1]['fantastic'])"
   ]
  },
  {
   "cell_type": "code",
   "execution_count": 70,
   "id": "39809615-6d33-4446-b056-b08d2c930e0c",
   "metadata": {},
   "outputs": [],
   "source": [
    "def classify(sentence):\n",
    "  words = word_tokenize(sentence)\n",
    "  logP_sentence = [logP[c] + sum([logP_w_c[c][w] for w in words if w in V]) for c in [0,1]]\n",
    "  return np.argmax(logP_sentence)"
   ]
  },
  {
   "cell_type": "code",
   "execution_count": 72,
   "id": "06bc553f-010b-42aa-8c07-94b37705e9ce",
   "metadata": {},
   "outputs": [
    {
     "name": "stdout",
     "output_type": "stream",
     "text": [
      "this is awful movie. Class: 0\n",
      "this is a horrible movie. Class: 0\n",
      "this is a fantastic movie. Class: 1\n",
      "this is a stupid movie. Class: 1\n"
     ]
    }
   ],
   "source": [
    "sentence = \"this is awful movie\"\n",
    "print(sentence + \". Class: \" + str(classify(sentence)))\n",
    "sentence = \"this is a horrible movie\"\n",
    "print(sentence + \". Class: \" + str(classify(sentence)))\n",
    "sentence = \"this is a fantastic movie\"\n",
    "print(sentence + \". Class: \" + str(classify(sentence)))\n",
    "sentence = \"this is a stupid movie\"\n",
    "print(sentence + \". Class: \" + str(classify(sentence)))"
   ]
  }
 ],
 "metadata": {
  "kernelspec": {
   "display_name": "Python 3 (ipykernel)",
   "language": "python",
   "name": "python3"
  },
  "language_info": {
   "codemirror_mode": {
    "name": "ipython",
    "version": 3
   },
   "file_extension": ".py",
   "mimetype": "text/x-python",
   "name": "python",
   "nbconvert_exporter": "python",
   "pygments_lexer": "ipython3",
   "version": "3.12.0"
  }
 },
 "nbformat": 4,
 "nbformat_minor": 5
}
