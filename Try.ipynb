{
 "cells": [
  {
   "cell_type": "code",
   "execution_count": null,
   "id": "10f7c3a3-35eb-4e2b-b64a-d8155acbae4a",
   "metadata": {},
   "outputs": [],
   "source": [
    "with open(\"workfile\", \"r\") as f:\n",
    "    content = f.read()  # This will read the content of the file\n",
    "\n",
    "# The file is automatically closed after the `with` block\n",
    "#print(content)"
   ]
  },
  {
   "cell_type": "code",
   "execution_count": null,
   "id": "4fc20865-1b49-4cea-b3d9-5ab7a507af50",
   "metadata": {},
   "outputs": [],
   "source": [
    "sed -r 's/[^A-Za-z]+/\\n/g' workfile | head"
   ]
  },
  {
   "cell_type": "code",
   "execution_count": null,
   "id": "87695d8a-9201-403f-9417-652cd12ff165",
   "metadata": {},
   "outputs": [],
   "source": [
    "# Use regex to replace non-alphabetic characters with new lines\n",
    "import re\n",
    "from collections import Counter\n",
    "\n",
    "\n",
    "with open('workfile', 'r') as file:\n",
    "    text = file.read()\n",
    "\n",
    "lines = re.sub(r'[^A-Za-z]+', '\\n', text)\n",
    "\n",
    "# Get the first few lines\n",
    "output_lines = lines.splitlines()[:10]  # Adjust the number as needed\n",
    "\n",
    "# Print the output\n",
    "for line in output_lines:\n",
    "    print(line)\n",
    "\n",
    "\n"
   ]
  },
  {
   "cell_type": "code",
   "execution_count": null,
   "id": "aa671306-4372-4f5a-83de-bed9f4cd59af",
   "metadata": {},
   "outputs": [],
   "source": [
    "from collections import Counter\n",
    "import re\n",
    "\n",
    "# Leggi il contenuto del file\n",
    "with open('workfile', 'r') as file:\n",
    "    text = file.read()\n",
    "\n",
    "# Rimuovi righe vuote e crea una lista di parole usando regex\n",
    "words = re.findall(r'\\b\\w+\\b', text)  # Trova tutte le parole\n",
    "\n",
    "# Conta le parole uniche\n",
    "word_counts = Counter(words)\n",
    "\n",
    "# Ordina i risultati in ordine numerico decrescente\n",
    "sorted_counts = sorted(word_counts.items(), key=lambda x: x[1], reverse=True)\n",
    "\n",
    "# Stampa i risultati\n",
    "nword=0\n",
    "for word, count in sorted_counts:\n",
    "    nword+=1\n",
    "    print(f\"{count} {word}\")\n",
    "print(nword)\n",
    "\n"
   ]
  },
  {
   "cell_type": "code",
   "execution_count": null,
   "id": "cd717d7b-1bbe-48af-9177-f7f689926d15",
   "metadata": {},
   "outputs": [],
   "source": [
    "import nltk\n",
    "text = 'That U.S.A. poster-print costs $12.40...'\n",
    "pattern = r'''(?x) # set flag to strip out spaces and comments\n",
    "              (?:[A-Z]\\.)+  # abbreviations like U.S.A.\n",
    "              | \\w+(?:-\\w+)*  # words with optional internal hyphens\n",
    "              | \\$?\\d+(?:\\.\\d+)?%?  # currency and percentages\n",
    "              | \\.\\.\\.  # ellipsis\n",
    "              | [][.,;\"'?():-_`]  # separate tokens for punctuation\n",
    "              '''\n",
    "nltk.regexp_tokenize(text, pattern)\n"
   ]
  },
  {
   "cell_type": "code",
   "execution_count": null,
   "id": "4b204f88-3fff-44c0-ade0-99c91109486d",
   "metadata": {},
   "outputs": [],
   "source": [
    "#pip install nltk\n"
   ]
  },
  {
   "cell_type": "code",
   "execution_count": 1,
   "id": "a7ac0c8a-bd1e-4237-8f60-8559ab6e4d75",
   "metadata": {},
   "outputs": [],
   "source": [
    "import numpy as np"
   ]
  },
  {
   "cell_type": "code",
   "execution_count": 2,
   "id": "a4379a99-5bab-4fcb-9dfc-5e9785844b5a",
   "metadata": {},
   "outputs": [
    {
     "name": "stdout",
     "output_type": "stream",
     "text": [
      "[0. 0. 0.]\n",
      "0.0\n",
      "0.0\n",
      "0.0\n"
     ]
    }
   ],
   "source": [
    "x= np.zeros(3)\n",
    "print(x)\n",
    "\n",
    "for elem in x:\n",
    "    print(elem)"
   ]
  },
  {
   "cell_type": "code",
   "execution_count": null,
   "id": "d546d1bf-8196-4363-9558-91b286f8bb8c",
   "metadata": {},
   "outputs": [],
   "source": [
    "for i in range(len(x)):\n",
    "    print(\"Position\" +str(i)+\" = \" + str(x[i]))\n"
   ]
  },
  {
   "cell_type": "code",
   "execution_count": null,
   "id": "3589d094-a498-418f-a500-880c8602ab27",
   "metadata": {},
   "outputs": [],
   "source": [
    "x = x+1\n",
    "print(x)"
   ]
  },
  {
   "cell_type": "code",
   "execution_count": null,
   "id": "fd35aa96-a134-43a2-87bb-c6b71f3090c5",
   "metadata": {},
   "outputs": [],
   "source": [
    "y = np.zeros((2,3))\n",
    "print(y)"
   ]
  },
  {
   "cell_type": "code",
   "execution_count": null,
   "id": "577eafca-f8cd-4323-b37f-83e181e4058c",
   "metadata": {},
   "outputs": [],
   "source": [
    "for elem in y:\n",
    "    print(elem)"
   ]
  },
  {
   "cell_type": "code",
   "execution_count": null,
   "id": "2ab520be-ff5f-4acd-bd3b-9b186e203c9d",
   "metadata": {},
   "outputs": [],
   "source": [
    "import numpy as np\n",
    "\n",
    "a2D = np.array([[1, 2], [3, 4]]) a2D\n",
    "Out[6]: array([[1, 2],\n",
    "[3, 4]])\n",
    "a2D = np.array([[1, 2], [3, 4]]) a2D\n",
    "Out[7]: array([[1, 2],\n",
    "[3, 4]])"
   ]
  },
  {
   "cell_type": "code",
   "execution_count": null,
   "id": "f855fd33-1b3f-4b1b-96f0-6ba3b7412262",
   "metadata": {},
   "outputs": [],
   "source": [
    "import numpy as np\n",
    "\n",
    "a= np.array([1,2,3,4])\n",
    "a\n",
    "b= np.array([[1,2],[3,4]])\n",
    "b\n",
    "\n"
   ]
  },
  {
   "cell_type": "code",
   "execution_count": null,
   "id": "c9f4518a-5b74-40af-ba2c-bf583646d518",
   "metadata": {},
   "outputs": [],
   "source": [
    "a = np.array([127, 128, 129], dtype=np.int8)\n",
    "a"
   ]
  },
  {
   "cell_type": "code",
   "execution_count": null,
   "id": "e09b5b96-fb2f-4586-88d1-ed74281702d5",
   "metadata": {},
   "outputs": [],
   "source": [
    "a= np.arange(10)\n",
    "print(a)\n",
    "b= np.arange(2, 10, dtype=float)\n",
    "print(b)\n",
    "c= np.arange(2, 3, 0.1)\n",
    "print(c)\n",
    "\n"
   ]
  },
  {
   "cell_type": "code",
   "execution_count": null,
   "id": "6f901838-6b75-415f-a898-225e2adb1880",
   "metadata": {},
   "outputs": [],
   "source": [
    "a=np.eye(3)\n",
    "print(a)\n",
    "print(\"\\n\")\n",
    "b=np.eye(3,5)\n",
    "print(b)\n",
    "print(\"\\n\")\n"
   ]
  },
  {
   "cell_type": "code",
   "execution_count": null,
   "id": "588a1625-0b6f-409e-abf7-7ccea4ed133b",
   "metadata": {},
   "outputs": [],
   "source": [
    "a=np.diag([1,2,3])\n",
    "print(a)\n",
    "b=np.diag([1,2,3],5)\n",
    "print(b)"
   ]
  },
  {
   "cell_type": "code",
   "execution_count": null,
   "id": "bf999842-79dd-42df-9bd7-15c8cf4b1d01",
   "metadata": {},
   "outputs": [],
   "source": [
    "np.zeros((2,5,4))"
   ]
  },
  {
   "cell_type": "code",
   "execution_count": null,
   "id": "0cf216ce-1bff-4109-8d03-2f2d32141764",
   "metadata": {},
   "outputs": [],
   "source": [
    "from numpy.random import default_rng\n",
    "\n",
    "default_rng(42).random((2,3))"
   ]
  },
  {
   "cell_type": "code",
   "execution_count": null,
   "id": "965ec7fc-4af4-45e3-b668-951c4b531eda",
   "metadata": {},
   "outputs": [],
   "source": [
    "np.indices((3,3))"
   ]
  },
  {
   "cell_type": "code",
   "execution_count": null,
   "id": "e6f371c3-02c5-4893-9136-4debbf67665d",
   "metadata": {},
   "outputs": [],
   "source": [
    "a=np.arange(10)\n",
    "print(a)\n",
    "b=a[:2]\n",
    "print(b)\n",
    "b+=1\n",
    "print(b)"
   ]
  },
  {
   "cell_type": "code",
   "execution_count": 5,
   "id": "5c0d5ead-5edc-48cb-924c-f630744ed12f",
   "metadata": {},
   "outputs": [
    {
     "name": "stdout",
     "output_type": "stream",
     "text": [
      "[1 2 3]\n",
      "[[1 2 3]\n",
      " [4 5 6]]\n",
      "[0 1 2 3 4 5 6 7 8 9]\n",
      "[2 3 4 5 6 7 8 9]\n",
      "[2.  2.1 2.2 2.3 2.4 2.5 2.6 2.7 2.8 2.9]\n"
     ]
    }
   ],
   "source": [
    "a=np.array([1,2,3])\n",
    "print(a)\n",
    "a=np.array([[1,2,3],[4,5,6]])\n",
    "print(a)\n",
    "a=np.arange(10)\n",
    "print(a)\n",
    "a=np.arange(2,10, dtype=float)\n",
    "print(a)\n",
    "a=np.arange(2,3,0.1)\n",
    "print(a)"
   ]
  },
  {
   "cell_type": "code",
   "execution_count": 8,
   "id": "c5c1aa60-9e76-4de5-977f-e71569607dd1",
   "metadata": {},
   "outputs": [
    {
     "name": "stdout",
     "output_type": "stream",
     "text": [
      "[[1. 0. 0.]\n",
      " [0. 1. 0.]\n",
      " [0. 0. 1.]]\n",
      "[[1. 0. 0.]\n",
      " [0. 1. 0.]\n",
      " [0. 0. 1.]\n",
      " [0. 0. 0.]\n",
      " [0. 0. 0.]]\n"
     ]
    }
   ],
   "source": [
    "a=np.eye(3)\n",
    "print(a)\n",
    "\n",
    "a=np.eye(5,3)\n",
    "print(a)"
   ]
  },
  {
   "cell_type": "code",
   "execution_count": 19,
   "id": "7ebbb4d6-c8a0-4432-91b2-3332fd966fe5",
   "metadata": {},
   "outputs": [
    {
     "name": "stdout",
     "output_type": "stream",
     "text": [
      "[[5 0 0 0]\n",
      " [0 3 0 0]\n",
      " [0 0 4 0]\n",
      " [0 0 0 5]] \n",
      "\n",
      "[[1, 2], [3, 4]]\n",
      "[1 4]\n"
     ]
    }
   ],
   "source": [
    "a=np.diag([5,3,4,5])\n",
    "np.diag([5,3,4,6],1)\n",
    "print(a, \"\\n\")\n",
    "a=np.array=([[1,2],[3,4]])\n",
    "print(a)\n",
    "print(np.diag(a))"
   ]
  },
  {
   "cell_type": "code",
   "execution_count": 29,
   "id": "ac46ce63-c28c-4d6d-8de3-fe9cdf94e3ba",
   "metadata": {},
   "outputs": [
    {
     "data": {
      "text/plain": [
       "array([[[[0., 0.],\n",
       "         [0., 0.],\n",
       "         [0., 0.]]],\n",
       "\n",
       "\n",
       "       [[[0., 0.],\n",
       "         [0., 0.],\n",
       "         [0., 0.]]]])"
      ]
     },
     "execution_count": 29,
     "metadata": {},
     "output_type": "execute_result"
    }
   ],
   "source": [
    "np.zeros((2,3))\n",
    "np.zeros((2,1,3,2))\n",
    "\n"
   ]
  },
  {
   "cell_type": "code",
   "execution_count": 11,
   "id": "c461a92b-35ef-4f4f-872e-a70c8bbd9aaf",
   "metadata": {},
   "outputs": [
    {
     "data": {
      "text/plain": [
       "array([[0.77395605, 0.43887844, 0.85859792],\n",
       "       [0.69736803, 0.09417735, 0.97562235]])"
      ]
     },
     "execution_count": 11,
     "metadata": {},
     "output_type": "execute_result"
    }
   ],
   "source": [
    "from numpy.random import default_rng as df\n",
    "\n",
    "df(42).random((2,3))\n"
   ]
  },
  {
   "cell_type": "code",
   "execution_count": 12,
   "id": "a5149a6c-1a7f-40e8-a7ab-90f8b7fd64ee",
   "metadata": {},
   "outputs": [
    {
     "data": {
      "text/plain": [
       "array([[[0, 0, 0],\n",
       "        [1, 1, 1],\n",
       "        [2, 2, 2]],\n",
       "\n",
       "       [[0, 1, 2],\n",
       "        [0, 1, 2],\n",
       "        [0, 1, 2]]])"
      ]
     },
     "execution_count": 12,
     "metadata": {},
     "output_type": "execute_result"
    }
   ],
   "source": [
    "np.indices((3,3))"
   ]
  },
  {
   "cell_type": "code",
   "execution_count": 19,
   "id": "2e51e509-2908-4210-870e-09371da796db",
   "metadata": {},
   "outputs": [
    {
     "name": "stdout",
     "output_type": "stream",
     "text": [
      "[0 1 2 3 4 5 6 7]\n",
      "[0 1]\n",
      "[1 2 2 3 4 5 6 7]\n",
      "[1 2]\n"
     ]
    }
   ],
   "source": [
    "a= np.arange(8)\n",
    "print(a)\n",
    "b=a[:2]\n",
    "print(b)\n",
    "b+=1\n",
    "print(a)\n",
    "print(b)"
   ]
  },
  {
   "cell_type": "code",
   "execution_count": 23,
   "id": "019c94ba-aa27-4624-809b-0e4f437c01dc",
   "metadata": {},
   "outputs": [
    {
     "name": "stdout",
     "output_type": "stream",
     "text": [
      "[0 1 2 3 4 5 6 7]\n",
      "[0 1]\n",
      "[0 1 2 3 4 5 6 7]\n",
      "[1 2]\n"
     ]
    }
   ],
   "source": [
    "a= np.arange(8)\n",
    "print(a)\n",
    "b=a[:2].copy()\n",
    "print(b)\n",
    "b+=1\n",
    "print(a)\n",
    "print(b)"
   ]
  },
  {
   "cell_type": "code",
   "execution_count": 30,
   "id": "12333dde-0796-4d4f-800e-65118a5e2ca1",
   "metadata": {},
   "outputs": [
    {
     "name": "stdout",
     "output_type": "stream",
     "text": [
      "[0 1 2 3 4 5 6 7 8 9]\n",
      "[[0 1 2 3 4]\n",
      " [5 6 7 8 9]]\n"
     ]
    }
   ],
   "source": [
    "x=np.arange(10)\n",
    "print(x)\n",
    "x.shape=(2,5)\n",
    "print(x)"
   ]
  },
  {
   "cell_type": "code",
   "execution_count": 33,
   "id": "d3ca93df-e851-4e27-a629-22ee3953571e",
   "metadata": {},
   "outputs": [
    {
     "data": {
      "text/plain": [
       "8"
      ]
     },
     "execution_count": 33,
     "metadata": {},
     "output_type": "execute_result"
    }
   ],
   "source": [
    "x[1,3]"
   ]
  },
  {
   "cell_type": "code",
   "execution_count": 36,
   "id": "e40ba255-6ec7-434e-85a6-85e9e8fd5c4a",
   "metadata": {},
   "outputs": [
    {
     "data": {
      "text/plain": [
       "2"
      ]
     },
     "execution_count": 36,
     "metadata": {},
     "output_type": "execute_result"
    }
   ],
   "source": [
    "x[0][2]"
   ]
  },
  {
   "cell_type": "code",
   "execution_count": 45,
   "id": "af2a5be0-51cf-46f2-84bf-ece47d33df0c",
   "metadata": {},
   "outputs": [
    {
     "name": "stdout",
     "output_type": "stream",
     "text": [
      "[ 2  5  8 11 14]\n",
      "<class 'numpy.ndarray'>\n",
      "[ 0  1  2  3  4  5  6  7  8  9 10 11 12 13 14 15 16 17 18 19]\n",
      "[ 0  1 22  3  4 25  6  7 28  9 10 31 12 13 34 15 16 17 18 19]\n"
     ]
    }
   ],
   "source": [
    "a=np.arange(20)\n",
    "b=a[2:17:3]\n",
    "print(b)\n",
    "print(type(b))\n",
    "print(a)\n",
    "b+=20\n",
    "print(a)"
   ]
  },
  {
   "cell_type": "code",
   "execution_count": 57,
   "id": "a938be1d-2e98-4d3a-9b97-4340c44f6890",
   "metadata": {},
   "outputs": [
    {
     "name": "stdout",
     "output_type": "stream",
     "text": [
      "[[[1]\n",
      "  [2]\n",
      "  [3]]\n",
      "\n",
      " [[4]\n",
      "  [5]\n",
      "  [6]]]\n"
     ]
    },
    {
     "data": {
      "text/plain": [
       "array([[[4],\n",
       "        [5],\n",
       "        [6]]])"
      ]
     },
     "execution_count": 57,
     "metadata": {},
     "output_type": "execute_result"
    }
   ],
   "source": [
    "x = np.array([[[1],[2],[3]], [[4],[5],[6]]])\n",
    "print(x)\n",
    "x.shape\n",
    "x[1:2]"
   ]
  },
  {
   "cell_type": "code",
   "execution_count": 62,
   "id": "909444e4-b027-4430-9737-741c582d8c6b",
   "metadata": {},
   "outputs": [
    {
     "data": {
      "text/plain": [
       "array([[[ 7,  8],\n",
       "        [ 9, 10],\n",
       "        [11, 12]]])"
      ]
     },
     "execution_count": 62,
     "metadata": {},
     "output_type": "execute_result"
    }
   ],
   "source": [
    "x = np.array([[[1, 2], [3, 4], [5, 6]], \n",
    "              [[7, 8], [9, 10], [11, 12]]])\n",
    "x.shape\n",
    "\n",
    "x[1:2]"
   ]
  },
  {
   "cell_type": "code",
   "execution_count": 65,
   "id": "83b932d0-8ea6-47ce-a9ef-f244228aba2b",
   "metadata": {},
   "outputs": [
    {
     "data": {
      "text/plain": [
       "array([[ 1,  3,  5],\n",
       "       [ 7,  9, 11]])"
      ]
     },
     "execution_count": 65,
     "metadata": {},
     "output_type": "execute_result"
    }
   ],
   "source": [
    "x[..., 0]"
   ]
  },
  {
   "cell_type": "code",
   "execution_count": 66,
   "id": "86a02107-5e89-480e-8b8b-a55550853112",
   "metadata": {},
   "outputs": [
    {
     "data": {
      "text/plain": [
       "array([[ 1.,  2.],\n",
       "       [nan,  3.],\n",
       "       [nan, nan]])"
      ]
     },
     "execution_count": 66,
     "metadata": {},
     "output_type": "execute_result"
    }
   ],
   "source": [
    "x = np.array([[1., 2.], [np.nan, 3.], [np.nan, np.nan]])\n",
    "x"
   ]
  },
  {
   "cell_type": "code",
   "execution_count": 71,
   "id": "97894c9c-6db8-4e07-9f27-faff4161cb17",
   "metadata": {},
   "outputs": [
    {
     "name": "stdout",
     "output_type": "stream",
     "text": [
      "[ 1. -1. -2.  3.]\n"
     ]
    }
   ],
   "source": [
    "x[~np.isnan(x)]\n",
    "\n",
    "x= np.array([1.,-1,-2.,3])\n",
    "print(x)"
   ]
  },
  {
   "cell_type": "code",
   "execution_count": 72,
   "id": "d350bbf8-968a-40ad-be3e-cfa8f95365bf",
   "metadata": {},
   "outputs": [
    {
     "name": "stdout",
     "output_type": "stream",
     "text": [
      "[ 1. 19. 18.  3.]\n"
     ]
    }
   ],
   "source": [
    "x[x<0]+=20\n",
    "print(x)"
   ]
  },
  {
   "cell_type": "code",
   "execution_count": 76,
   "id": "ce231c54-8c8e-438d-b2fa-2ee518e03b7a",
   "metadata": {},
   "outputs": [
    {
     "name": "stdout",
     "output_type": "stream",
     "text": [
      "[[[ 1  2]\n",
      "  [ 3  4]]\n",
      "\n",
      " [[ 5  6]\n",
      "  [ 7  8]]\n",
      "\n",
      " [[ 9 10]\n",
      "  [11 12]]]\n",
      "[[[False False]\n",
      "  [False False]]\n",
      "\n",
      " [[False  True]\n",
      "  [ True  True]]\n",
      "\n",
      " [[ True  True]\n",
      "  [ True  True]]]\n",
      "[ 6  7  8  9 10 11 12]\n"
     ]
    }
   ],
   "source": [
    "\n",
    "x = np.array([[[1, 2], [3, 4]], [[5, 6], [7, 8]], [[9, 10], [11, 12]]])\n",
    "print(x)\n",
    "# Creiamo un array booleano basato su una condizione\n",
    "boolean_mask = x > 5  # Restituisce un array booleano\n",
    "print(boolean_mask)\n",
    "print(x[boolean_mask])\n"
   ]
  },
  {
   "cell_type": "code",
   "execution_count": 78,
   "id": "25ab6a56-4b8e-47e5-919a-70d9aead014d",
   "metadata": {},
   "outputs": [
    {
     "name": "stdout",
     "output_type": "stream",
     "text": [
      "[6 7 8]\n"
     ]
    }
   ],
   "source": [
    "import numpy as np\n",
    "\n",
    "# Creiamo un array 3D\n",
    "x = np.array([[[1, 2], [3, 4]], [[5, 6], [7, 8]], [[9, 10], [11, 12]]])\n",
    "\n",
    "# Creiamo un array booleano basato su una condizione\n",
    "boolean_mask = x > 5  # Restituisce un array booleano\n",
    "\n",
    "# Usare l'indice del piano (1 per il secondo piano)\n",
    "# E filtrare solo gli elementi del piano 1 usando la maschera\n",
    "filtered_values = x[1][boolean_mask[1]]  # Indice 1 per il secondo piano\n",
    "print(filtered_values)  # Mostra i risultati filtrati\n"
   ]
  },
  {
   "cell_type": "code",
   "execution_count": 97,
   "id": "7bf5645c-c963-4377-973d-1b22b543c973",
   "metadata": {},
   "outputs": [
    {
     "name": "stdout",
     "output_type": "stream",
     "text": [
      "[[ 0  1  2  3  4  5  6]\n",
      " [ 7  8  9 10 11 12 13]\n",
      " [14 15 16 17 18 19 20]\n",
      " [21 22 23 24 25 26 27]\n",
      " [28 29 30 31 32 33 34]] \n",
      "\n",
      "[[False False False False False False False]\n",
      " [False False False False False False False]\n",
      " [False False False False False False False]\n",
      " [ True  True  True  True  True  True  True]\n",
      " [ True  True  True  True  True  True  True]]\n",
      "\n",
      "\n",
      "[False False False  True  True]\n"
     ]
    },
    {
     "data": {
      "text/plain": [
       "array([[21, 22, 23, 24, 25, 26, 27],\n",
       "       [28, 29, 30, 31, 32, 33, 34]])"
      ]
     },
     "execution_count": 97,
     "metadata": {},
     "output_type": "execute_result"
    }
   ],
   "source": [
    "x= np.arange(35).reshape(5,7)\n",
    "print(x, \"\\n\")\n",
    "b= x>20\n",
    "print(b)\n",
    "print(\"\\n\")\n",
    "a=b[:,5]\n",
    "print(a)\n",
    "x[a]"
   ]
  },
  {
   "cell_type": "code",
   "execution_count": 98,
   "id": "eccddd2f-6d8f-4359-bd87-2cb645c34764",
   "metadata": {},
   "outputs": [
    {
     "data": {
      "text/plain": [
       "array([0.76414575, 0.8548338 , 0.94826524, 0.69659476, 0.03871039,\n",
       "       0.60072779, 0.41682603, 0.0708833 , 0.98761994, 0.69337068])"
      ]
     },
     "execution_count": 98,
     "metadata": {},
     "output_type": "execute_result"
    }
   ],
   "source": [
    "import numpy as np\n",
    "\n",
    "array = np.random.rand(10)\n",
    "array"
   ]
  },
  {
   "cell_type": "code",
   "execution_count": 110,
   "id": "9a22d39c-e990-4a97-8a02-2222db3c54e1",
   "metadata": {},
   "outputs": [
    {
     "name": "stdout",
     "output_type": "stream",
     "text": [
      "[7 3 7 1 2]\n",
      "[4 1 9 5 9] \n",
      "\n",
      "[11  4 16  6 11] \n",
      "\n",
      "[28  3 63  5 18]\n",
      "7\n"
     ]
    }
   ],
   "source": [
    "array1=np.random.randint(10, size=5)\n",
    "print(array1)\n",
    "array2=np.random.randint(10, size=5)\n",
    "print(array2, \"\\n\")\n",
    "result= array1+array2\n",
    "print(result, \"\\n\")\n",
    "result= array1*array2\n",
    "print(result)\n",
    "\n",
    "print(np.max(array1))\n",
    "\n"
   ]
  },
  {
   "cell_type": "code",
   "execution_count": 111,
   "id": "2966df56-1ba0-4d26-bb22-32cf6f0f272d",
   "metadata": {},
   "outputs": [
    {
     "name": "stdout",
     "output_type": "stream",
     "text": [
      "[[8 2 2]\n",
      " [1 9 5]\n",
      " [0 8 3]]\n"
     ]
    }
   ],
   "source": [
    "a=np.random.randint(0,10,(3,3))\n",
    "print(a)"
   ]
  },
  {
   "cell_type": "code",
   "execution_count": 116,
   "id": "140d8d05-5f13-44e7-9d77-e75f90c6b01b",
   "metadata": {},
   "outputs": [
    {
     "name": "stdout",
     "output_type": "stream",
     "text": [
      "[[1 1 1]\n",
      " [1 0 1]\n",
      " [0 1 0]]\n",
      "[[7 1 8]\n",
      " [8 1 1]\n",
      " [2 3 4]]\n",
      "[[7 1 8]\n",
      " [8 0 1]\n",
      " [0 3 0]]\n"
     ]
    }
   ],
   "source": [
    "a=np.random.randint(0,2, (3,3))\n",
    "b=np.random.randint(0,10,(3,3))\n",
    "print(a)\n",
    "print(b)\n",
    "print(a*b)"
   ]
  },
  {
   "cell_type": "code",
   "execution_count": 135,
   "id": "fe95f4da-6690-4765-86e7-4771422a8ddb",
   "metadata": {},
   "outputs": [
    {
     "name": "stdout",
     "output_type": "stream",
     "text": [
      "1\n",
      "2\n",
      "3\n",
      "[1 2 3]\n",
      "[4 5 6]\n",
      "1,2,3,4,5,6,\n",
      "\n",
      "[[[ 1  2  3]\n",
      "  [ 4  5  6]]\n",
      "\n",
      " [[ 7  8  9]\n",
      "  [10 11 12]]] \n",
      "\n",
      "[[1 2 3]\n",
      " [4 5 6]] stop\n",
      "[[ 7  8  9]\n",
      " [10 11 12]] stop\n",
      "1\n",
      "2\n",
      "3\n",
      "4\n",
      "5\n",
      "6\n",
      "7\n",
      "8\n",
      "9\n",
      "10\n",
      "11\n",
      "12\n"
     ]
    }
   ],
   "source": [
    "arr= np.array([1,2,3])\n",
    "\n",
    "for x in arr:\n",
    "    print(x)\n",
    "\n",
    "arr= np.array([[1,2,3],[4,5,6]])\n",
    "for x in arr:\n",
    "    print(x)\n",
    "\n",
    "for x in arr:\n",
    "    for y in x:\n",
    "        print(y, end=\",\")\n",
    "\n",
    "print('\\n')\n",
    "\n",
    "arr= np.array([[[1,2,3],[4,5,6]], [[7,8,9], [10,11,12]]])\n",
    "print(arr,\"\\n\")\n",
    "for x in arr:\n",
    "    print(x, \"stop\")\n",
    "\n",
    "for x in np.nditer(arr):\n",
    "    print(x)\n"
   ]
  },
  {
   "cell_type": "code",
   "execution_count": 131,
   "id": "e30dbc95-2e9d-47ca-a02f-6649eb89cd60",
   "metadata": {},
   "outputs": [
    {
     "name": "stdout",
     "output_type": "stream",
     "text": [
      "1 2 3 4 5 6 7 8 9 10 11 12 "
     ]
    }
   ],
   "source": [
    "for x in arr:\n",
    "    for y in x:\n",
    "        for z in y:\n",
    "            print(z, end=\" \")"
   ]
  },
  {
   "cell_type": "code",
   "execution_count": 136,
   "id": "ec6837f7-9a01-4b31-b87c-6165efabb945",
   "metadata": {},
   "outputs": [
    {
     "name": "stdout",
     "output_type": "stream",
     "text": [
      "1\n",
      "2\n",
      "3\n",
      "4\n",
      "5\n",
      "6\n",
      "7\n",
      "8\n"
     ]
    }
   ],
   "source": [
    "arr = np.array([[[1, 2], [3, 4]], [[5, 6], [7, 8]]])\n",
    "\n",
    "for x in np.nditer(arr):\n",
    "    print(x)"
   ]
  },
  {
   "cell_type": "code",
   "execution_count": 137,
   "id": "51bda43b-910e-4411-91cd-bac73760b1d1",
   "metadata": {},
   "outputs": [
    {
     "name": "stdout",
     "output_type": "stream",
     "text": [
      "1\n",
      "2\n",
      "5\n",
      "6\n"
     ]
    }
   ],
   "source": [
    "for x in np.nditer(arr[:,::2]):\n",
    "    print(x)"
   ]
  },
  {
   "cell_type": "code",
   "execution_count": 141,
   "id": "6e16eb7d-a1fa-4861-a808-e696d33a51df",
   "metadata": {},
   "outputs": [
    {
     "data": {
      "text/plain": [
       "array([3, 4, 5])"
      ]
     },
     "execution_count": 141,
     "metadata": {},
     "output_type": "execute_result"
    }
   ],
   "source": [
    "arr = np.array([1,2,3,4,5,6,7])\n",
    "arr[2:5]"
   ]
  },
  {
   "cell_type": "code",
   "execution_count": 145,
   "id": "d4f7a425-f473-4510-9e07-8c68a0f679b4",
   "metadata": {},
   "outputs": [
    {
     "data": {
      "text/plain": [
       "array([10, 20, 30, 40])"
      ]
     },
     "execution_count": 145,
     "metadata": {},
     "output_type": "execute_result"
    }
   ],
   "source": [
    "arr = np.array([10, 15, 20, 25, 30, 35, 40])\n",
    "\n",
    "arr[::2]"
   ]
  },
  {
   "cell_type": "code",
   "execution_count": 154,
   "id": "7d955157-ce81-474e-b758-a57b4bc669e0",
   "metadata": {},
   "outputs": [
    {
     "data": {
      "text/plain": [
       "array([ True,  True,  True,  True, False])"
      ]
     },
     "execution_count": 154,
     "metadata": {},
     "output_type": "execute_result"
    }
   ],
   "source": [
    "arr = np.array([-1, 10, 1,15,0])\n",
    "arr\n",
    "newarr=arr.astype(bool)\n",
    "\n",
    "newarr"
   ]
  },
  {
   "cell_type": "code",
   "execution_count": 156,
   "id": "e32ae13f-3905-4baf-8c46-23d59a2701b8",
   "metadata": {},
   "outputs": [
    {
     "name": "stdout",
     "output_type": "stream",
     "text": [
      "Errore: Immagine non trovata o formato non supportato.\n"
     ]
    }
   ],
   "source": [
    "\n",
    "\n"
   ]
  }
 ],
 "metadata": {
  "kernelspec": {
   "display_name": "Python 3 (ipykernel)",
   "language": "python",
   "name": "python3"
  },
  "language_info": {
   "codemirror_mode": {
    "name": "ipython",
    "version": 3
   },
   "file_extension": ".py",
   "mimetype": "text/x-python",
   "name": "python",
   "nbconvert_exporter": "python",
   "pygments_lexer": "ipython3",
   "version": "3.12.0"
  }
 },
 "nbformat": 4,
 "nbformat_minor": 5
}
