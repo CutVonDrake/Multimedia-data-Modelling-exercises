{
 "cells": [
  {
   "cell_type": "code",
   "execution_count": 29,
   "id": "9a43b95c-32be-4700-9763-5860adb5622f",
   "metadata": {},
   "outputs": [
    {
     "name": "stdin",
     "output_type": "stream",
     "text": [
      "please write a word a\n"
     ]
    },
    {
     "name": "stdout",
     "output_type": "stream",
     "text": [
      "1\n",
      "Thank you for your input\n",
      "Too bad that the string is too short\n",
      "Let us go on with something else to do\n"
     ]
    }
   ],
   "source": [
    "# conditional statement \"if\"\n",
    "word=input (\"please write a word\")\n",
    "print(len(word))\n",
    "#there is a built-in function to get the lenght\n",
    "#of something and it is \"len\"\n",
    "if len(word)<=5 : \n",
    "    print(\"Thank you for your input\")\n",
    "    print (\"Too bad that the string is too short\")\n",
    "print(\"Let us go on with something else to do\")"
   ]
  },
  {
   "cell_type": "code",
   "execution_count": 55,
   "id": "675cdbac-fca8-49c0-ab27-157c6608f31b",
   "metadata": {},
   "outputs": [
    {
     "name": "stdin",
     "output_type": "stream",
     "text": [
      "quant'è lungo il tuo cazzo 12\n"
     ]
    },
    {
     "name": "stdout",
     "output_type": "stream",
     "text": [
      "2\n",
      "ahahahah ce l'hai piccolo\n"
     ]
    }
   ],
   "source": [
    "a=input (\"quant'è lungo il tuo cazzo\")\n",
    "print(len(a))\n",
    "if len(a)>=18 :\n",
    "    print(\"wow bel cazzo\")\n",
    "elif len(a)>=15 :\n",
    "    print(\"dai non male\")\n",
    "else: print(\"ahahahah ce l'hai piccolo\")"
   ]
  },
  {
   "cell_type": "code",
   "execution_count": 19,
   "id": "6d36b092-f80a-4ae0-be5a-3d1e569f7352",
   "metadata": {},
   "outputs": [
    {
     "name": "stdin",
     "output_type": "stream",
     "text": [
      "quant'è lungo il tuo cazzo? 15\n"
     ]
    },
    {
     "name": "stdout",
     "output_type": "stream",
     "text": [
      "15\n",
      "dai non male\n"
     ]
    }
   ],
   "source": [
    "a=input (\"quant'è lungo il tuo cazzo?\")\n",
    "a=int(a) #Converti la stringa in un intero\n",
    "print(a)\n",
    "if a>17 :\n",
    "    print(\"wow bel cazzo\")\n",
    "elif a<=17 and a>=15 :\n",
    "    print(\"dai non male\")\n",
    "else: print(\"ahahahah ce l'hai piccolo\")"
   ]
  },
  {
   "cell_type": "code",
   "execution_count": 75,
   "id": "400c4022-143e-4452-9235-211b243e1722",
   "metadata": {},
   "outputs": [
    {
     "name": "stdout",
     "output_type": "stream",
     "text": [
      "a è chiu ranni\n"
     ]
    },
    {
     "data": {
      "text/plain": [
       "5.666666666666667"
      ]
     },
     "execution_count": 75,
     "metadata": {},
     "output_type": "execute_result"
    }
   ],
   "source": [
    "#homework\n",
    "#given three numbers\n",
    "#find the max and the min\n",
    "#print the arithmetic mean\n",
    "\n",
    "a=9\n",
    "b=7\n",
    "c=1\n",
    "\n",
    "if a>b and a>c :\n",
    "    print(\"a è chiu ranni\")\n",
    "elif b>c :\n",
    "    print (\"b è u megghiu\")\n",
    "else: print (\"c è troppu fotti\")\n",
    "\n",
    "(a+b+c)/3\n",
    "\n"
   ]
  },
  {
   "cell_type": "code",
   "execution_count": 18,
   "id": "a329e490-6b3d-48e2-afbf-634027f496e5",
   "metadata": {
    "scrolled": true
   },
   "outputs": [
    {
     "name": "stdout",
     "output_type": "stream",
     "text": [
      "3; 4; 7\n",
      "qual è il più grande e quale il più piccolo?\n",
      "a è chiù ranni\n",
      "b è u chù nicu\n",
      "qual è la media?\n",
      "la media è:\n"
     ]
    },
    {
     "data": {
      "text/plain": [
       "36.666666666666664"
      ]
     },
     "execution_count": 18,
     "metadata": {},
     "output_type": "execute_result"
    }
   ],
   "source": [
    "print(a, end='; ')\n",
    "print(b, end='; ')\n",
    "print(c)\n",
    "print(\"qual è il più grande e quale il più piccolo?\")\n",
    "a=99\n",
    "b=4\n",
    "c=7\n",
    "\n",
    "if a>b and a>c and b>c:\n",
    "    print(\"a è chiù ranni\")\n",
    "    print(\"c è u chiù nicu\")\n",
    "elif a>b and a>c and b<c:\n",
    "    print(\"a è chiù ranni\")\n",
    "    print(\"b è u chù nicu\")\n",
    "elif b>c and a>c:\n",
    "    print(\"b è chiù ranni\")\n",
    "    print(\"c è chiù nicu\")\n",
    "elif b>c and a<c:\n",
    "    print(\"b è chiù ranni\")\n",
    "    print(\"a è chù nicu\")\n",
    "elif b<a:\n",
    "    print(\"c è chiù ranni\")\n",
    "    print(\"b è chiù nicu\")\n",
    "elif a==b and b==c:\n",
    "    print (\"MA SE SONO TUTTI UGUALI!!!\")\n",
    "else: print(\"c è chiù ranni e a è chiù nicu\")\n",
    "\n",
    "print(\"qual è la media?\")\n",
    "print(\"la media è:\")\n",
    "(a+b+c)/3"
   ]
  },
  {
   "cell_type": "code",
   "execution_count": 12,
   "id": "ba4ab4f2-c26e-4d8a-bd15-b9a5497d8103",
   "metadata": {},
   "outputs": [
    {
     "name": "stdin",
     "output_type": "stream",
     "text": [
      "valore di a 1\n",
      "valore di b 2\n",
      "valore di c 3\n"
     ]
    },
    {
     "name": "stdout",
     "output_type": "stream",
     "text": [
      "1; 2; 3\n",
      "qual è il più grande e quale il più piccolo?\n",
      "c è il più grande e a è il più piccolo\n",
      "qual è la media?\n",
      "la media è:\n"
     ]
    },
    {
     "data": {
      "text/plain": [
       "2.0"
      ]
     },
     "execution_count": 12,
     "metadata": {},
     "output_type": "execute_result"
    }
   ],
   "source": [
    "a=int(input(\"valore di a\"))\n",
    "b=int(input (\"valore di b\"))\n",
    "c=int(input (\"valore di c\"))\n",
    "print(a, end='; ')\n",
    "print(b, end='; ')\n",
    "print(c)\n",
    "print(\"qual è il più grande e quale il più piccolo?\")\n",
    "\n",
    "if a>b and a>c and b>c:\n",
    "    print(\"a è il più grande\")\n",
    "    print(\"c è il più piccolo\")\n",
    "elif a>b and a>c and b<c:\n",
    "    print(\"a è il più grande\")\n",
    "    print(\"b è il più piccolo\")\n",
    "elif b>c and a>c:\n",
    "    print(\"b è il più grande\")\n",
    "    print(\"c è il più piccolo\")\n",
    "elif b>c and a<c:\n",
    "    print(\"b è il più grande\")\n",
    "    print(\"a è il più piccolo\")\n",
    "elif b<a:\n",
    "    print(\"c è il più grande\")\n",
    "    print(\"b è il più piccolo\")\n",
    "elif a==b and b==c:\n",
    "    print (\"MA SE SONO TUTTI UGUALI!!!\")\n",
    "else: print(\"c è il più grande e a è il più piccolo\")\n",
    "\n",
    "print(\"qual è la media?\")\n",
    "print(\"la media è:\")\n",
    "(a+b+c)/3"
   ]
  },
  {
   "cell_type": "code",
   "execution_count": 13,
   "id": "48404cdd-a980-4ba5-b31f-adcd55031898",
   "metadata": {},
   "outputs": [
    {
     "name": "stdin",
     "output_type": "stream",
     "text": [
      "valore di a 1\n",
      "valore di b 2\n",
      "valore di c 3\n"
     ]
    },
    {
     "name": "stdout",
     "output_type": "stream",
     "text": [
      "1\n",
      "2\n",
      "3\n",
      "the maximum is: 3\n",
      "the minimum is: 1\n"
     ]
    }
   ],
   "source": [
    "a=int(input(\"valore di a\"))\n",
    "b=int(input (\"valore di b\"))\n",
    "c=int(input (\"valore di c\"))\n",
    "print(a)\n",
    "print(b)\n",
    "print(c)\n",
    "maximum = max(a,b,c)\n",
    "print(\"the maximum is:\", maximum)\n",
    "minimum = min(a,b,c)\n",
    "print(\"the minimum is:\", minimum)"
   ]
  },
  {
   "cell_type": "code",
   "execution_count": 16,
   "id": "5618b3db-ebc0-4a31-a953-16e8b61d544d",
   "metadata": {},
   "outputs": [
    {
     "name": "stdout",
     "output_type": "stream",
     "text": [
      "5\n",
      "La media dei numeri è 6.0\n"
     ]
    }
   ],
   "source": [
    "# Definisci una lista di numeri\n",
    "numeri = [2, 4, 6, 8, 10]\n",
    "\n",
    "# Calcola la somma di tutti i numeri\n",
    "somma = sum(numeri)\n",
    "\n",
    "# Calcola il numero totale di elementi nella lista\n",
    "numero_totale_elementi = len(numeri)\n",
    "print(len(numeri))\n",
    "\n",
    "# Calcola la media\n",
    "media = somma / len(numeri)\n",
    "\n",
    "# Stampa il risultato\n",
    "print(f\"La media dei numeri è {media}\")"
   ]
  },
  {
   "cell_type": "code",
   "execution_count": null,
   "id": "d3aee130-a4b2-4422-9e69-107d1a6f7cb0",
   "metadata": {},
   "outputs": [],
   "source": []
  }
 ],
 "metadata": {
  "kernelspec": {
   "display_name": "Python 3 (ipykernel)",
   "language": "python",
   "name": "python3"
  },
  "language_info": {
   "codemirror_mode": {
    "name": "ipython",
    "version": 3
   },
   "file_extension": ".py",
   "mimetype": "text/x-python",
   "name": "python",
   "nbconvert_exporter": "python",
   "pygments_lexer": "ipython3",
   "version": "3.12.0"
  }
 },
 "nbformat": 4,
 "nbformat_minor": 5
}
