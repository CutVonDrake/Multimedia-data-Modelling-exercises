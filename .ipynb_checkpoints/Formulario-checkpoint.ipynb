{
 "cells": [
  {
   "cell_type": "code",
   "execution_count": 1,
   "id": "c05cbd7b-3800-4cee-a08e-1c8d29e69d65",
   "metadata": {},
   "outputs": [],
   "source": [
    "#Aprire immagine opencv\n",
    "img = cv2.imread(r\"path\")\n",
    "img = cv2.cvtColor(img, cv2.COLOR_BGR2RGB)\n",
    "plt.imshow(img)\n",
    "plt.axis('on')  # Nascondi gli assi\n",
    "plt.show()\n",
    "\n",
    "#SAVE\n",
    "cv2.imwrite('output_image.jpg', img)  # Replace with your desired file name and extension\n"
   ]
  },
  {
   "cell_type": "code",
   "execution_count": null,
   "id": "a1753817-dc3b-4a3d-b488-ce43c7b6e668",
   "metadata": {},
   "outputs": [],
   "source": [
    "#Visualizzare più immagini\n",
    "\n",
    "plt.figure()\n",
    "plt.imshow(img1, cmap='gray')\n",
    "plt.title(\"img1\")\n",
    "\n",
    "plt.figure()  # Crea una nuova figura\n",
    "plt.imshow(img2, cmap='gray')\n",
    "plt.title(\"img2\")"
   ]
  },
  {
   "cell_type": "code",
   "execution_count": 2,
   "id": "06d3aaba-5112-43fd-90b8-54fab1d1acfd",
   "metadata": {},
   "outputs": [
    {
     "data": {
      "text/plain": [
       "2"
      ]
     },
     "execution_count": 2,
     "metadata": {},
     "output_type": "execute_result"
    }
   ],
   "source": [
    "#Operazioni comuni\n",
    "5//2 #// operazioni tra interi\n"
   ]
  },
  {
   "cell_type": "code",
   "execution_count": null,
   "id": "cedeb61c-90cb-4049-8db6-a208635d661b",
   "metadata": {},
   "outputs": [],
   "source": [
    "#Interpolazioni con opencv PERMETTE ANCHE IL RIDIMENSIONAMENTO\n",
    "methods = {\n",
    "    'Nearest': cv2.INTER_NEAREST,\n",
    "    'Linear': cv2.INTER_LINEAR,\n",
    "    'Cubic': cv2.INTER_CUBIC,\n",
    "    'Lanczos': cv2.INTER_LANCZOS4\n",
    "}\n",
    "\n",
    "image = cv2.imread('input_image.jpg')\n",
    "\n",
    "plt.figure(figsize=(10, 8))\n",
    "\n",
    "for i, (name, method) in enumerate(methods.items(), 1):\n",
    "    resized = cv2.resize(image, (300, 300), interpolation=method)\n",
    "    plt.subplot(2, 2, i)\n",
    "    plt.imshow(cv2.cvtColor(resized, cv2.COLOR_BGR2RGB))\n",
    "    plt.title(name)\n",
    "    plt.axis('off')\n",
    "\n",
    "plt.tight_layout()\n",
    "plt.show()\n"
   ]
  },
  {
   "cell_type": "code",
   "execution_count": null,
   "id": "eed50f29-c676-4755-8191-14cf6e5d3f9e",
   "metadata": {},
   "outputs": [],
   "source": [
    "#CONVOLUTION OPERATION No padding\n",
    "img = img1.copy()\n",
    "erosion_kernel = np.array([[0, 1, 0],[1, 1, 1],[0, 1, 0]])\n",
    "a= erosion_kernel\n",
    "\n",
    "imgA= np.zeros((img.shape[0], img.shape[1], 3), dtype='uint8')\n",
    "\n",
    "for canal in range(3):\n",
    "    for i in range(1,img.shape[0]-1):\n",
    "        for j in range(1,img.shape[1]-1):\n",
    "            imgA[i,j,canal]= np.sum(img[i-1:i+2,j-1:j+2, canal]*a)\n",
    "\n",
    "#I created a zero matrix of the same size, but when I apply the convolution, since there is no padding, \n",
    "#the borders will remain as zeros, I believe. If you want padding just increase dimension of tha image of one \n",
    "#for each border\n"
   ]
  }
 ],
 "metadata": {
  "kernelspec": {
   "display_name": "Python 3 (ipykernel)",
   "language": "python",
   "name": "python3"
  },
  "language_info": {
   "codemirror_mode": {
    "name": "ipython",
    "version": 3
   },
   "file_extension": ".py",
   "mimetype": "text/x-python",
   "name": "python",
   "nbconvert_exporter": "python",
   "pygments_lexer": "ipython3",
   "version": "3.12.0"
  }
 },
 "nbformat": 4,
 "nbformat_minor": 5
}
