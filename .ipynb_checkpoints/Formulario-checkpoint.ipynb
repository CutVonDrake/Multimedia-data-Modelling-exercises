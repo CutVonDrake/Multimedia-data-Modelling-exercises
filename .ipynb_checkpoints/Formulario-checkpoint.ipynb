{
 "cells": [
  {
   "cell_type": "code",
   "execution_count": 1,
   "id": "c05cbd7b-3800-4cee-a08e-1c8d29e69d65",
   "metadata": {},
   "outputs": [],
   "source": [
    "#Aprire immagine opencv\n",
    "img = cv2.imread(r\"path\")\n",
    "img = cv2.cvtColor(img, cv2.COLOR_BGR2RGB)\n",
    "plt.imshow(img)\n",
    "plt.axis('on')  # Nascondi gli assi\n",
    "plt.show()\n",
    "\n",
    "#SAVE\n",
    "cv2.imwrite('output_image.jpg', img)  # Replace with your desired file name and extension\n"
   ]
  },
  {
   "cell_type": "code",
   "execution_count": null,
   "id": "a1753817-dc3b-4a3d-b488-ce43c7b6e668",
   "metadata": {},
   "outputs": [],
   "source": []
  }
 ],
 "metadata": {
  "kernelspec": {
   "display_name": "Python 3 (ipykernel)",
   "language": "python",
   "name": "python3"
  },
  "language_info": {
   "codemirror_mode": {
    "name": "ipython",
    "version": 3
   },
   "file_extension": ".py",
   "mimetype": "text/x-python",
   "name": "python",
   "nbconvert_exporter": "python",
   "pygments_lexer": "ipython3",
   "version": "3.12.0"
  }
 },
 "nbformat": 4,
 "nbformat_minor": 5
}
