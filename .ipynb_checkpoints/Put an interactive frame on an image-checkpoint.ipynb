{
 "cells": [
  {
   "cell_type": "code",
   "execution_count": 1,
   "id": "923152ad-25ee-4ae7-abd5-e785ba30af5c",
   "metadata": {},
   "outputs": [],
   "source": [
    "#Pasting an interactive frame on an image"
   ]
  },
  {
   "cell_type": "code",
   "execution_count": 2,
   "id": "56d40ef2-5dca-4e45-9ed7-737681a5eca0",
   "metadata": {},
   "outputs": [],
   "source": [
    "import numpy as np\n",
    "import cv2\n",
    "import matplotlib.pyplot as plt\n",
    "import random\n",
    "import os"
   ]
  },
  {
   "cell_type": "code",
   "execution_count": 3,
   "id": "4e95b2fe-1066-49aa-adff-6b87c33f82f9",
   "metadata": {},
   "outputs": [
    {
     "name": "stdout",
     "output_type": "stream",
     "text": [
      "480 852 3\n"
     ]
    }
   ],
   "source": [
    "#Shape video\n",
    "video_path = r\"C:\\Users\\andre\\Downloads\\Green_fire.mp4\"\n",
    "cap = cv2.VideoCapture(video_path)\n",
    "ret, frame = cap.read()\n",
    "w,h,d= frame.shape\n",
    "print(w,h,d)\n"
   ]
  },
  {
   "cell_type": "code",
   "execution_count": 4,
   "id": "16ed746b-7e9c-4851-99e6-e38baef45b18",
   "metadata": {},
   "outputs": [],
   "source": [
    "import cv2\n",
    "sfn= cv2.imread(r'C:\\Users\\andre\\Python notebooks\\Media\\sfondo.jpeg')\n",
    "sfn = cv2.cvtColor(sfn, cv2.COLOR_BGR2HSV)\n",
    "# Ridimensiona l'immagine come sarà la dimensione del video\n",
    "sfn = cv2.resize(sfn, (h, w))"
   ]
  },
  {
   "cell_type": "code",
   "execution_count": 5,
   "id": "fc25e714-de80-4d16-a84b-0dd4346b16d4",
   "metadata": {},
   "outputs": [
    {
     "ename": "KeyboardInterrupt",
     "evalue": "",
     "output_type": "error",
     "traceback": [
      "\u001b[1;31m---------------------------------------------------------------------------\u001b[0m",
      "\u001b[1;31mKeyboardInterrupt\u001b[0m                         Traceback (most recent call last)",
      "Cell \u001b[1;32mIn[5], line 16\u001b[0m\n\u001b[0;32m     14\u001b[0m \u001b[38;5;28;01mfor\u001b[39;00m x \u001b[38;5;129;01min\u001b[39;00m \u001b[38;5;28mrange\u001b[39m(hsv_img\u001b[38;5;241m.\u001b[39mshape[\u001b[38;5;241m0\u001b[39m]):\n\u001b[0;32m     15\u001b[0m     \u001b[38;5;28;01mfor\u001b[39;00m y \u001b[38;5;129;01min\u001b[39;00m \u001b[38;5;28mrange\u001b[39m(hsv_img\u001b[38;5;241m.\u001b[39mshape[\u001b[38;5;241m1\u001b[39m]):\n\u001b[1;32m---> 16\u001b[0m         \u001b[38;5;28;01mif\u001b[39;00m hsv_img[x,y,\u001b[38;5;241m0\u001b[39m]\u001b[38;5;241m<\u001b[39m\u001b[38;5;241m65\u001b[39m \u001b[38;5;129;01mand\u001b[39;00m hsv_img[x,y,\u001b[38;5;241m0\u001b[39m] \u001b[38;5;241m>\u001b[39m \u001b[38;5;241m35\u001b[39m:\n\u001b[0;32m     17\u001b[0m             hsv_img[x,y]\u001b[38;5;241m=\u001b[39msfn[x,y]\n\u001b[0;32m     18\u001b[0m frame \u001b[38;5;241m=\u001b[39m cv2\u001b[38;5;241m.\u001b[39mcvtColor(hsv_img, cv2\u001b[38;5;241m.\u001b[39mCOLOR_HSV2BGR)\n",
      "\u001b[1;31mKeyboardInterrupt\u001b[0m: "
     ]
    }
   ],
   "source": [
    "import cv2\n",
    "n=0\n",
    "a=1\n",
    "# Specifica il percorso del file video\n",
    "video_path = r\"C:\\Users\\andre\\Downloads\\Green_fire.mp4\"\n",
    "cap = cv2.VideoCapture(video_path)\n",
    "\n",
    "while True:\n",
    "    # Legge un fotogramma dal file video\n",
    "    ret, frame = cap.read()\n",
    "\n",
    "#MODIFICHE AL VIDEO\n",
    "    hsv_img = cv2.cvtColor(frame, cv2.COLOR_BGR2HSV)\n",
    "    for x in range(hsv_img.shape[0]):\n",
    "        for y in range(hsv_img.shape[1]):\n",
    "            if hsv_img[x,y,0]<65 and hsv_img[x,y,0] > 35:\n",
    "                hsv_img[x,y]=sfn[x,y]\n",
    "    frame = cv2.cvtColor(hsv_img, cv2.COLOR_HSV2BGR)\n",
    "    \n",
    "    # Se non ci sono più fotogrammi, esci dal ciclo\n",
    "    if not ret:\n",
    "        print(\"Fine del video.\")\n",
    "        break\n",
    "        \n",
    "    # Percorso della cartella in cui vuoi salvare l'immagine\n",
    "    output_folder = r'C:\\Users\\andre\\Python notebooks\\Media\\frames'\n",
    "    # Nome del file di output\n",
    "    n+=1\n",
    "    output_file = os.path.join(output_folder, f'saved_image{n}.jpg')\n",
    "    # Salva l'immagine\n",
    "    cv2.imwrite(output_file, frame)\n",
    "    # Esci dal ciclo premendo 'q'\n",
    "    if cv2.waitKey(30) & 0xFF == ord('q'):  # 30 ms di ritardo tra i frame\n",
    "        break\n",
    "    elif n>=150:\n",
    "        break\n",
    "# Rilascia il video e chiudi tutte le finestre\n",
    "cap.release()\n",
    "cv2.destroyAllWindows()\n"
   ]
  },
  {
   "cell_type": "code",
   "execution_count": null,
   "id": "70054ca2-3283-4974-b91c-251b1bd8e519",
   "metadata": {},
   "outputs": [],
   "source": [
    "#Visualizzare i frame salvati come video\n",
    "\n",
    "# Percorso della cartella contenente i frame\n",
    "frames_folder = r'C:\\Users\\andre\\Python notebooks\\Media\\frames'\n",
    "fps = 30\n",
    "\n",
    "# Ottieni la lista dei file nella cartella e ordina i nomi\n",
    "frame_files = (os.listdir(frames_folder))  # Ordine alfabetico\n",
    "\n",
    "\n",
    "# Riproduzione dei frame\n",
    "for frame_file in frame_files:\n",
    "    # Costruisci il percorso completo del frame\n",
    "    frame_path = os.path.join(frames_folder, frame_file)\n",
    "    \n",
    "    # Leggi il frame\n",
    "    frame = cv2.imread(frame_path)\n",
    "    \n",
    "    if frame is None:\n",
    "        print(f\"Impossibile leggere il frame: {frame_file}\")\n",
    "        continue\n",
    "    \n",
    "    # Mostra il frame\n",
    "    cv2.imshow('Video', frame)\n",
    "    \n",
    "    # Attendi un periodo in base agli FPS\n",
    "    if cv2.waitKey(int(1000 / fps)) & 0xFF == ord('q'):\n",
    "        break  # Esci premendo 'q'\n",
    "\n",
    "# Chiudi la finestra di visualizzazione\n",
    "cv2.destroyAllWindows()\n"
   ]
  }
 ],
 "metadata": {
  "kernelspec": {
   "display_name": "Python 3 (ipykernel)",
   "language": "python",
   "name": "python3"
  },
  "language_info": {
   "codemirror_mode": {
    "name": "ipython",
    "version": 3
   },
   "file_extension": ".py",
   "mimetype": "text/x-python",
   "name": "python",
   "nbconvert_exporter": "python",
   "pygments_lexer": "ipython3",
   "version": "3.12.0"
  }
 },
 "nbformat": 4,
 "nbformat_minor": 5
}
